{
  "nbformat": 4,
  "nbformat_minor": 0,
  "metadata": {
    "colab": {
      "name": "Lesson2.ipynb",
      "provenance": [],
      "collapsed_sections": [
        "HAB_PS5gRDY5",
        "BfMkCkHqabsT",
        "pjrdx130eAHW"
      ]
    },
    "kernelspec": {
      "name": "python3",
      "display_name": "Python 3"
    }
  },
  "cells": [
    {
      "cell_type": "markdown",
      "metadata": {
        "id": "HAB_PS5gRDY5"
      },
      "source": [
        "# **データの確認**\n",
        "精度の良いモデルを作るためにはは、学習データの状況を正確に確認すことが必須\n",
        "\n",
        "確認方法\n",
        "\n",
        "・データフレームの機能を使って**数値的・統計的に分析する方法**\n",
        "\n",
        " 欠損値の調査, 項目値の個数カウント, 平均・標準偏差の調査など\n",
        "\n",
        " ・matlplotlibやseabornのグラフ描画機能を使って**視覚的に分析・確認する方法**\n",
        "\n",
        " 項目毎のヒストグラム表示や2項目の関係調査のための散布図表示など\n"
      ]
    },
    {
      "cell_type": "code",
      "metadata": {
        "colab": {
          "base_uri": "https://localhost:8080/"
        },
        "id": "EqM2BpLGQwBO",
        "outputId": "fc8475fb-db5f-4edd-a138-0ae69c3a8de2"
      },
      "source": [
        "# 日本語化ライブラリの導入\n",
        "\n",
        "!pip install japanize-matplotlib | tail -n 1\n",
        "\n",
        "# 共通事前処理\n",
        "\n",
        "# 余分なワーニングを非表示にする\n",
        "import warnings\n",
        "warnings.filterwarnings('ignore')\n",
        "\n",
        "# ライブりのインポート\n",
        "import pandas as pd\n",
        "import numpy as np\n",
        "import matplotlib.pyplot as plt\n",
        "\n",
        "#matplotlibの日本語化対応\n",
        "import japanize_matplotlib\n",
        "\n",
        "#データフレーム表示用関数\n",
        "from IPython.display import display\n",
        "\n",
        "# 表示オプション調整\n",
        "# NumPyの不動招集点の表示精度\n",
        "np.set_printoptions(suppress=True, precision=4)\n",
        "# pandasでの浮動小数点の表示精度\n",
        "pd.options.display.float_format = '{:.4f}'.format\n",
        "#データフレームで全ての項目を表示\n",
        "pd.set_option(\"display.max_columns\", None)\n",
        "#グラフのデフォルトフォントの指定\n",
        "plt.rcParams[\"font.size\"] = 14\n",
        "#乱数の種\n",
        "random_seed = 123"
      ],
      "execution_count": null,
      "outputs": [
        {
          "output_type": "stream",
          "text": [
            "Requirement already satisfied: six>=1.5 in /usr/local/lib/python3.6/dist-packages (from python-dateutil>=2.1->matplotlib->japanize-matplotlib) (1.15.0)\n"
          ],
          "name": "stdout"
        }
      ]
    },
    {
      "cell_type": "code",
      "metadata": {
        "colab": {
          "base_uri": "https://localhost:8080/",
          "height": 204
        },
        "id": "GRqsFbqUQ8oB",
        "outputId": "df9853c9-7459-4659-db43-7008b2e4dfd5"
      },
      "source": [
        "#  タイタニックデータセットの利用\n",
        "import seaborn as sns\n",
        "\n",
        "# サンプルデータの読み込み\n",
        "df_titanic = sns.load_dataset(\"titanic\")\n",
        "\n",
        "# 項目名の日本語化\n",
        "columns_t = ['生存', '等室', '性別', '年齢', '兄弟配偶者数', '両親子供数', '料金', '乗船港コード', '等室名', '男女子供', '成人男子', 'デッキ', '乗船港', '生存可否', '独身']\n",
        "df_titanic.columns = columns_t\n",
        "\n",
        "# データの内容\n",
        "display(df_titanic.head())"
      ],
      "execution_count": null,
      "outputs": [
        {
          "output_type": "display_data",
          "data": {
            "text/html": [
              "<div>\n",
              "<style scoped>\n",
              "    .dataframe tbody tr th:only-of-type {\n",
              "        vertical-align: middle;\n",
              "    }\n",
              "\n",
              "    .dataframe tbody tr th {\n",
              "        vertical-align: top;\n",
              "    }\n",
              "\n",
              "    .dataframe thead th {\n",
              "        text-align: right;\n",
              "    }\n",
              "</style>\n",
              "<table border=\"1\" class=\"dataframe\">\n",
              "  <thead>\n",
              "    <tr style=\"text-align: right;\">\n",
              "      <th></th>\n",
              "      <th>生存</th>\n",
              "      <th>等室</th>\n",
              "      <th>性別</th>\n",
              "      <th>年齢</th>\n",
              "      <th>兄弟配偶者数</th>\n",
              "      <th>両親子供数</th>\n",
              "      <th>料金</th>\n",
              "      <th>乗船港コード</th>\n",
              "      <th>等室名</th>\n",
              "      <th>男女子供</th>\n",
              "      <th>成人男子</th>\n",
              "      <th>デッキ</th>\n",
              "      <th>乗船港</th>\n",
              "      <th>生存可否</th>\n",
              "      <th>独身</th>\n",
              "    </tr>\n",
              "  </thead>\n",
              "  <tbody>\n",
              "    <tr>\n",
              "      <th>0</th>\n",
              "      <td>0</td>\n",
              "      <td>3</td>\n",
              "      <td>male</td>\n",
              "      <td>22.0000</td>\n",
              "      <td>1</td>\n",
              "      <td>0</td>\n",
              "      <td>7.2500</td>\n",
              "      <td>S</td>\n",
              "      <td>Third</td>\n",
              "      <td>man</td>\n",
              "      <td>True</td>\n",
              "      <td>NaN</td>\n",
              "      <td>Southampton</td>\n",
              "      <td>no</td>\n",
              "      <td>False</td>\n",
              "    </tr>\n",
              "    <tr>\n",
              "      <th>1</th>\n",
              "      <td>1</td>\n",
              "      <td>1</td>\n",
              "      <td>female</td>\n",
              "      <td>38.0000</td>\n",
              "      <td>1</td>\n",
              "      <td>0</td>\n",
              "      <td>71.2833</td>\n",
              "      <td>C</td>\n",
              "      <td>First</td>\n",
              "      <td>woman</td>\n",
              "      <td>False</td>\n",
              "      <td>C</td>\n",
              "      <td>Cherbourg</td>\n",
              "      <td>yes</td>\n",
              "      <td>False</td>\n",
              "    </tr>\n",
              "    <tr>\n",
              "      <th>2</th>\n",
              "      <td>1</td>\n",
              "      <td>3</td>\n",
              "      <td>female</td>\n",
              "      <td>26.0000</td>\n",
              "      <td>0</td>\n",
              "      <td>0</td>\n",
              "      <td>7.9250</td>\n",
              "      <td>S</td>\n",
              "      <td>Third</td>\n",
              "      <td>woman</td>\n",
              "      <td>False</td>\n",
              "      <td>NaN</td>\n",
              "      <td>Southampton</td>\n",
              "      <td>yes</td>\n",
              "      <td>True</td>\n",
              "    </tr>\n",
              "    <tr>\n",
              "      <th>3</th>\n",
              "      <td>1</td>\n",
              "      <td>1</td>\n",
              "      <td>female</td>\n",
              "      <td>35.0000</td>\n",
              "      <td>1</td>\n",
              "      <td>0</td>\n",
              "      <td>53.1000</td>\n",
              "      <td>S</td>\n",
              "      <td>First</td>\n",
              "      <td>woman</td>\n",
              "      <td>False</td>\n",
              "      <td>C</td>\n",
              "      <td>Southampton</td>\n",
              "      <td>yes</td>\n",
              "      <td>False</td>\n",
              "    </tr>\n",
              "    <tr>\n",
              "      <th>4</th>\n",
              "      <td>0</td>\n",
              "      <td>3</td>\n",
              "      <td>male</td>\n",
              "      <td>35.0000</td>\n",
              "      <td>0</td>\n",
              "      <td>0</td>\n",
              "      <td>8.0500</td>\n",
              "      <td>S</td>\n",
              "      <td>Third</td>\n",
              "      <td>man</td>\n",
              "      <td>True</td>\n",
              "      <td>NaN</td>\n",
              "      <td>Southampton</td>\n",
              "      <td>no</td>\n",
              "      <td>True</td>\n",
              "    </tr>\n",
              "  </tbody>\n",
              "</table>\n",
              "</div>"
            ],
            "text/plain": [
              "   生存  等室      性別      年齢  兄弟配偶者数  両親子供数      料金 乗船港コード    等室名   男女子供   成人男子  \\\n",
              "0   0   3    male 22.0000       1      0  7.2500      S  Third    man   True   \n",
              "1   1   1  female 38.0000       1      0 71.2833      C  First  woman  False   \n",
              "2   1   3  female 26.0000       0      0  7.9250      S  Third  woman  False   \n",
              "3   1   1  female 35.0000       1      0 53.1000      S  First  woman  False   \n",
              "4   0   3    male 35.0000       0      0  8.0500      S  Third    man   True   \n",
              "\n",
              "   デッキ          乗船港 生存可否     独身  \n",
              "0  NaN  Southampton   no  False  \n",
              "1    C    Cherbourg  yes  False  \n",
              "2  NaN  Southampton  yes   True  \n",
              "3    C  Southampton  yes  False  \n",
              "4  NaN  Southampton   no   True  "
            ]
          },
          "metadata": {
            "tags": []
          }
        }
      ]
    },
    {
      "cell_type": "markdown",
      "metadata": {
        "id": "QaWgALLPTrpg"
      },
      "source": [
        "データの内容\n",
        "\n",
        "生存(survival) : (0 = 死亡, 1 = 生存) \\\\\n",
        "等室(pclass) : (1 = 1等船室,  2 = ２等船室, 3 =３等船室) \\\\\n",
        "性別(sex) : ( male = 男性, female = 女性) \\\\\n",
        "年齢(age) \\\\\n",
        "兄弟配偶者数(sibsp) : 同乗している兄弟と配偶者の数 \\\\\n",
        "両親子供数(parch) : 同乗している両親と子供の数 \\\\\n",
        "料金(fare) \\\\\n",
        "乗船コード (embarked) : (C=Cherbourg, Q=Queenstown, S=Southanmpton) \\\\\n",
        "等室名(class) : (First = １等船室, Second=２等船室 Third=３等船室) \\\\\n",
        "男女子供(who) : (man = 男 women =女 child=子供)\n",
        "成人男子(adult_male) : True / False\n",
        "デッキ(deck) : 船室番号の頭文字(AからG)\n",
        "乗船港(embark_town) : Southampton/Cherbourg/ Queenstown\n",
        "生存可否(alive) : yes/no\n",
        "独身(alone) : True/False\n"
      ]
    },
    {
      "cell_type": "code",
      "metadata": {
        "colab": {
          "base_uri": "https://localhost:8080/"
        },
        "id": "23A5qbC5Snyr",
        "outputId": "24b74ab0-0922-4b0b-b804-93c05d339214"
      },
      "source": [
        "# データの欠損値の調査\n",
        "print(df_titanic.isnull().sum())"
      ],
      "execution_count": null,
      "outputs": [
        {
          "output_type": "stream",
          "text": [
            "生存          0\n",
            "等室          0\n",
            "性別          0\n",
            "年齢        177\n",
            "兄弟配偶者数      0\n",
            "両親子供数       0\n",
            "料金          0\n",
            "乗船港コード      2\n",
            "等室名         0\n",
            "男女子供        0\n",
            "成人男子        0\n",
            "デッキ       688\n",
            "乗船港         2\n",
            "生存可否        0\n",
            "独身          0\n",
            "dtype: int64\n"
          ],
          "name": "stdout"
        }
      ]
    },
    {
      "cell_type": "code",
      "metadata": {
        "colab": {
          "base_uri": "https://localhost:8080/"
        },
        "id": "OsNYZ7q2V45p",
        "outputId": "d8a9991c-9688-4252-edc8-82169a2b48ed"
      },
      "source": [
        "# 項目「乗船港」の項目値ごとの個数\n",
        "print(df_titanic['乗船港'].value_counts())\n",
        "print()\n",
        "\n",
        "#　項目「生存可否」の項目値ごとの個数\n",
        "print(df_titanic['生存可否'].value_counts())"
      ],
      "execution_count": null,
      "outputs": [
        {
          "output_type": "stream",
          "text": [
            "Southampton    644\n",
            "Cherbourg      168\n",
            "Queenstown      77\n",
            "Name: 乗船港, dtype: int64\n",
            "\n",
            "no     549\n",
            "yes    342\n",
            "Name: 生存可否, dtype: int64\n"
          ],
          "name": "stdout"
        }
      ]
    },
    {
      "cell_type": "markdown",
      "metadata": {
        "id": "KuoY6iCETqAX"
      },
      "source": [
        "統計情報の調査\n",
        "\n",
        "数値のデータ項目に対して、平均・分散・個数・最大値・最小値を調べる \\\\\n",
        "describe関数を利用する \\\\\n",
        "count (データ件数), mean (平均値）, std(標準偏差), min(最小値）,  \\\\\n",
        "25%(25パーセンタイル値）, 50% (50パーセントタイル値）, 75% \\\\\n",
        "(75パーセントタイル値), max (最大値）"
      ]
    },
    {
      "cell_type": "code",
      "metadata": {
        "colab": {
          "base_uri": "https://localhost:8080/",
          "height": 297
        },
        "id": "g9oYRP_aXSQq",
        "outputId": "ddd35faa-f5ca-449a-9085-fbd95eb0a147"
      },
      "source": [
        "display(df_titanic.describe())"
      ],
      "execution_count": null,
      "outputs": [
        {
          "output_type": "display_data",
          "data": {
            "text/html": [
              "<div>\n",
              "<style scoped>\n",
              "    .dataframe tbody tr th:only-of-type {\n",
              "        vertical-align: middle;\n",
              "    }\n",
              "\n",
              "    .dataframe tbody tr th {\n",
              "        vertical-align: top;\n",
              "    }\n",
              "\n",
              "    .dataframe thead th {\n",
              "        text-align: right;\n",
              "    }\n",
              "</style>\n",
              "<table border=\"1\" class=\"dataframe\">\n",
              "  <thead>\n",
              "    <tr style=\"text-align: right;\">\n",
              "      <th></th>\n",
              "      <th>生存</th>\n",
              "      <th>等室</th>\n",
              "      <th>年齢</th>\n",
              "      <th>兄弟配偶者数</th>\n",
              "      <th>両親子供数</th>\n",
              "      <th>料金</th>\n",
              "    </tr>\n",
              "  </thead>\n",
              "  <tbody>\n",
              "    <tr>\n",
              "      <th>count</th>\n",
              "      <td>891.0000</td>\n",
              "      <td>891.0000</td>\n",
              "      <td>714.0000</td>\n",
              "      <td>891.0000</td>\n",
              "      <td>891.0000</td>\n",
              "      <td>891.0000</td>\n",
              "    </tr>\n",
              "    <tr>\n",
              "      <th>mean</th>\n",
              "      <td>0.3838</td>\n",
              "      <td>2.3086</td>\n",
              "      <td>29.6991</td>\n",
              "      <td>0.5230</td>\n",
              "      <td>0.3816</td>\n",
              "      <td>32.2042</td>\n",
              "    </tr>\n",
              "    <tr>\n",
              "      <th>std</th>\n",
              "      <td>0.4866</td>\n",
              "      <td>0.8361</td>\n",
              "      <td>14.5265</td>\n",
              "      <td>1.1027</td>\n",
              "      <td>0.8061</td>\n",
              "      <td>49.6934</td>\n",
              "    </tr>\n",
              "    <tr>\n",
              "      <th>min</th>\n",
              "      <td>0.0000</td>\n",
              "      <td>1.0000</td>\n",
              "      <td>0.4200</td>\n",
              "      <td>0.0000</td>\n",
              "      <td>0.0000</td>\n",
              "      <td>0.0000</td>\n",
              "    </tr>\n",
              "    <tr>\n",
              "      <th>25%</th>\n",
              "      <td>0.0000</td>\n",
              "      <td>2.0000</td>\n",
              "      <td>20.1250</td>\n",
              "      <td>0.0000</td>\n",
              "      <td>0.0000</td>\n",
              "      <td>7.9104</td>\n",
              "    </tr>\n",
              "    <tr>\n",
              "      <th>50%</th>\n",
              "      <td>0.0000</td>\n",
              "      <td>3.0000</td>\n",
              "      <td>28.0000</td>\n",
              "      <td>0.0000</td>\n",
              "      <td>0.0000</td>\n",
              "      <td>14.4542</td>\n",
              "    </tr>\n",
              "    <tr>\n",
              "      <th>75%</th>\n",
              "      <td>1.0000</td>\n",
              "      <td>3.0000</td>\n",
              "      <td>38.0000</td>\n",
              "      <td>1.0000</td>\n",
              "      <td>0.0000</td>\n",
              "      <td>31.0000</td>\n",
              "    </tr>\n",
              "    <tr>\n",
              "      <th>max</th>\n",
              "      <td>1.0000</td>\n",
              "      <td>3.0000</td>\n",
              "      <td>80.0000</td>\n",
              "      <td>8.0000</td>\n",
              "      <td>6.0000</td>\n",
              "      <td>512.3292</td>\n",
              "    </tr>\n",
              "  </tbody>\n",
              "</table>\n",
              "</div>"
            ],
            "text/plain": [
              "            生存       等室       年齢   兄弟配偶者数    両親子供数       料金\n",
              "count 891.0000 891.0000 714.0000 891.0000 891.0000 891.0000\n",
              "mean    0.3838   2.3086  29.6991   0.5230   0.3816  32.2042\n",
              "std     0.4866   0.8361  14.5265   1.1027   0.8061  49.6934\n",
              "min     0.0000   1.0000   0.4200   0.0000   0.0000   0.0000\n",
              "25%     0.0000   2.0000  20.1250   0.0000   0.0000   7.9104\n",
              "50%     0.0000   3.0000  28.0000   0.0000   0.0000  14.4542\n",
              "75%     1.0000   3.0000  38.0000   1.0000   0.0000  31.0000\n",
              "max     1.0000   3.0000  80.0000   8.0000   6.0000 512.3292"
            ]
          },
          "metadata": {
            "tags": []
          }
        }
      ]
    },
    {
      "cell_type": "markdown",
      "metadata": {
        "id": "ikrbEdDhXrBZ"
      },
      "source": [
        "集約関数の利用\n",
        "\n",
        " 男性と女性での統計情報を知りたいとき"
      ]
    },
    {
      "cell_type": "code",
      "metadata": {
        "colab": {
          "base_uri": "https://localhost:8080/",
          "height": 142
        },
        "id": "OzHR_SNiXbX8",
        "outputId": "9d847bb4-c851-4f19-bd2d-727f14a9b376"
      },
      "source": [
        "display(df_titanic.groupby('性別').mean())"
      ],
      "execution_count": null,
      "outputs": [
        {
          "output_type": "display_data",
          "data": {
            "text/html": [
              "<div>\n",
              "<style scoped>\n",
              "    .dataframe tbody tr th:only-of-type {\n",
              "        vertical-align: middle;\n",
              "    }\n",
              "\n",
              "    .dataframe tbody tr th {\n",
              "        vertical-align: top;\n",
              "    }\n",
              "\n",
              "    .dataframe thead th {\n",
              "        text-align: right;\n",
              "    }\n",
              "</style>\n",
              "<table border=\"1\" class=\"dataframe\">\n",
              "  <thead>\n",
              "    <tr style=\"text-align: right;\">\n",
              "      <th></th>\n",
              "      <th>生存</th>\n",
              "      <th>等室</th>\n",
              "      <th>年齢</th>\n",
              "      <th>兄弟配偶者数</th>\n",
              "      <th>両親子供数</th>\n",
              "      <th>料金</th>\n",
              "      <th>成人男子</th>\n",
              "      <th>独身</th>\n",
              "    </tr>\n",
              "    <tr>\n",
              "      <th>性別</th>\n",
              "      <th></th>\n",
              "      <th></th>\n",
              "      <th></th>\n",
              "      <th></th>\n",
              "      <th></th>\n",
              "      <th></th>\n",
              "      <th></th>\n",
              "      <th></th>\n",
              "    </tr>\n",
              "  </thead>\n",
              "  <tbody>\n",
              "    <tr>\n",
              "      <th>female</th>\n",
              "      <td>0.7420</td>\n",
              "      <td>2.1592</td>\n",
              "      <td>27.9157</td>\n",
              "      <td>0.6943</td>\n",
              "      <td>0.6497</td>\n",
              "      <td>44.4798</td>\n",
              "      <td>0.0000</td>\n",
              "      <td>0.4013</td>\n",
              "    </tr>\n",
              "    <tr>\n",
              "      <th>male</th>\n",
              "      <td>0.1889</td>\n",
              "      <td>2.3899</td>\n",
              "      <td>30.7266</td>\n",
              "      <td>0.4298</td>\n",
              "      <td>0.2357</td>\n",
              "      <td>25.5239</td>\n",
              "      <td>0.9307</td>\n",
              "      <td>0.7123</td>\n",
              "    </tr>\n",
              "  </tbody>\n",
              "</table>\n",
              "</div>"
            ],
            "text/plain": [
              "           生存     等室      年齢  兄弟配偶者数  両親子供数      料金   成人男子     独身\n",
              "性別                                                               \n",
              "female 0.7420 2.1592 27.9157  0.6943 0.6497 44.4798 0.0000 0.4013\n",
              "male   0.1889 2.3899 30.7266  0.4298 0.2357 25.5239 0.9307 0.7123"
            ]
          },
          "metadata": {
            "tags": []
          }
        }
      ]
    },
    {
      "cell_type": "code",
      "metadata": {
        "colab": {
          "base_uri": "https://localhost:8080/",
          "height": 606
        },
        "id": "oU-TaEk2X_cJ",
        "outputId": "9c0a8bb6-c4fc-4296-bcec-1795f0787f73"
      },
      "source": [
        "# 分析対象項目のグラフ表示 (数値項目の場合)\n",
        "\n",
        "# 数値項目の定義\n",
        "columns_n = ['生存', '等室', '年齢', '兄弟配偶者数', '両親子供数', '料金']\n",
        "\n",
        "#グラフ描画領域の調整\n",
        "plt.rcParams['figure.figsize']= (10, 10)\n",
        "\n",
        "#データフレームの数値項目でヒストグラム表示\n",
        "df_titanic[columns_n].hist()\n",
        "plt.show()"
      ],
      "execution_count": null,
      "outputs": [
        {
          "output_type": "display_data",
          "data": {
            "image/png": "[encoded data removed]",
            "text/plain": [
              "<Figure size 720x720 with 6 Axes>"
            ]
          },
          "metadata": {
            "tags": [],
            "needs_background": "light"
          }
        }
      ]
    },
    {
      "cell_type": "code",
      "metadata": {
        "colab": {
          "base_uri": "https://localhost:8080/",
          "height": 585
        },
        "id": "3MMFFcTDYTcs",
        "outputId": "98fe4fcf-15a6-4a02-9722-b9550000d997"
      },
      "source": [
        "# 分析対象項目のグラフ表示　(非数値項目の場合)\n",
        "\n",
        "#　グラフ化対象列の定義\n",
        "columns_c = ['性別', '乗船港', '等室名', '成人男子']\n",
        "\n",
        "# グラフ描画領域の調整\n",
        "plt.rcParams['figure.figsize'] = (8, 8)\n",
        "\n",
        "# ループ処理で、ヒストグラムを表示\n",
        "for i, name in enumerate(columns_c):\n",
        "  ax = plt.subplot(2, 2, i+1)\n",
        "  df_titanic[name].value_counts().plot(kind='bar', title=name, ax=ax)\n",
        "\n",
        "#　レイアウトの調整\n",
        "plt.tight_layout()\n",
        "plt.show()"
      ],
      "execution_count": null,
      "outputs": [
        {
          "output_type": "display_data",
          "data": {
            "image/png": "[encoded data removed]",
            "text/plain": [
              "<Figure size 576x576 with 4 Axes>"
            ]
          },
          "metadata": {
            "tags": [],
            "needs_background": "light"
          }
        }
      ]
    },
    {
      "cell_type": "markdown",
      "metadata": {
        "id": "BfMkCkHqabsT"
      },
      "source": [
        "## 視覚的に分析する方法\n",
        "\n",
        "　例　：　アイリスデータセット　　\\\\\n",
        "\n",
        "　アヤメの花の「がく片」(sepal)と「花びら」(petal)の長さ・幅を測定した結果 \\\\\n",
        "\n",
        " ・がく片長　（sepal_lentgth) \\\\\n",
        " ・がく片幅 (sepal_width) \\\\\n",
        " ・花弁長 (petal_length)\n",
        " ・花弁幅　(petal_width)\n",
        " ・種別 (specied) : versicolor/setosa/virginica\n",
        "\n",
        "\n"
      ]
    },
    {
      "cell_type": "code",
      "metadata": {
        "colab": {
          "base_uri": "https://localhost:8080/",
          "height": 204
        },
        "id": "ie43ttQhZMXT",
        "outputId": "bd9c3feb-c1ad-4dd9-a73c-b0eb08e7a7fc"
      },
      "source": [
        "# 追加ライブラリの import\n",
        "import seaborn as sns\n",
        "\n",
        "# サンプルデータの読み込み\n",
        "df_iris = sns.load_dataset(\"iris\")\n",
        "\n",
        "# 項目名の日本語化\n",
        "columns_i = ['がく片長', 'がく片幅', '花弁長', '花弁幅', '種別']\n",
        "df_iris.columns = columns_i\n",
        "\n",
        "# データの内容\n",
        "display(df_iris.head())"
      ],
      "execution_count": null,
      "outputs": [
        {
          "output_type": "display_data",
          "data": {
            "text/html": [
              "<div>\n",
              "<style scoped>\n",
              "    .dataframe tbody tr th:only-of-type {\n",
              "        vertical-align: middle;\n",
              "    }\n",
              "\n",
              "    .dataframe tbody tr th {\n",
              "        vertical-align: top;\n",
              "    }\n",
              "\n",
              "    .dataframe thead th {\n",
              "        text-align: right;\n",
              "    }\n",
              "</style>\n",
              "<table border=\"1\" class=\"dataframe\">\n",
              "  <thead>\n",
              "    <tr style=\"text-align: right;\">\n",
              "      <th></th>\n",
              "      <th>がく片長</th>\n",
              "      <th>がく片幅</th>\n",
              "      <th>花弁長</th>\n",
              "      <th>花弁幅</th>\n",
              "      <th>種別</th>\n",
              "    </tr>\n",
              "  </thead>\n",
              "  <tbody>\n",
              "    <tr>\n",
              "      <th>0</th>\n",
              "      <td>5.1000</td>\n",
              "      <td>3.5000</td>\n",
              "      <td>1.4000</td>\n",
              "      <td>0.2000</td>\n",
              "      <td>setosa</td>\n",
              "    </tr>\n",
              "    <tr>\n",
              "      <th>1</th>\n",
              "      <td>4.9000</td>\n",
              "      <td>3.0000</td>\n",
              "      <td>1.4000</td>\n",
              "      <td>0.2000</td>\n",
              "      <td>setosa</td>\n",
              "    </tr>\n",
              "    <tr>\n",
              "      <th>2</th>\n",
              "      <td>4.7000</td>\n",
              "      <td>3.2000</td>\n",
              "      <td>1.3000</td>\n",
              "      <td>0.2000</td>\n",
              "      <td>setosa</td>\n",
              "    </tr>\n",
              "    <tr>\n",
              "      <th>3</th>\n",
              "      <td>4.6000</td>\n",
              "      <td>3.1000</td>\n",
              "      <td>1.5000</td>\n",
              "      <td>0.2000</td>\n",
              "      <td>setosa</td>\n",
              "    </tr>\n",
              "    <tr>\n",
              "      <th>4</th>\n",
              "      <td>5.0000</td>\n",
              "      <td>3.6000</td>\n",
              "      <td>1.4000</td>\n",
              "      <td>0.2000</td>\n",
              "      <td>setosa</td>\n",
              "    </tr>\n",
              "  </tbody>\n",
              "</table>\n",
              "</div>"
            ],
            "text/plain": [
              "    がく片長   がく片幅    花弁長    花弁幅      種別\n",
              "0 5.1000 3.5000 1.4000 0.2000  setosa\n",
              "1 4.9000 3.0000 1.4000 0.2000  setosa\n",
              "2 4.7000 3.2000 1.3000 0.2000  setosa\n",
              "3 4.6000 3.1000 1.5000 0.2000  setosa\n",
              "4 5.0000 3.6000 1.4000 0.2000  setosa"
            ]
          },
          "metadata": {
            "tags": []
          }
        }
      ]
    },
    {
      "cell_type": "code",
      "metadata": {
        "colab": {
          "base_uri": "https://localhost:8080/",
          "height": 387
        },
        "id": "7CyWeMZIbYrm",
        "outputId": "268e7722-5913-4890-e23d-4c576a3cff09"
      },
      "source": [
        "# 散布図の表示　matplotlib版\n",
        "\n",
        "# グラフ描画領域の調整\n",
        "plt.figure(figsize=(6,6))\n",
        "\n",
        "# 散布図の表示\n",
        "plt.scatter(df_iris['がく片幅'], df_iris['花弁長'])\n",
        "\n",
        "# ラベルの表示\n",
        "# sepal　がく　petal 花弁\n",
        "plt.xlabel('がく片幅')\n",
        "plt.ylabel('花弁長')\n",
        "plt.show()"
      ],
      "execution_count": null,
      "outputs": [
        {
          "output_type": "display_data",
          "data": {
            "image/png": "[encoded data removed]",
            "text/plain": [
              "<Figure size 432x432 with 1 Axes>"
            ]
          },
          "metadata": {
            "tags": [],
            "needs_background": "light"
          }
        }
      ]
    },
    {
      "cell_type": "code",
      "metadata": {
        "colab": {
          "base_uri": "https://localhost:8080/",
          "height": 387
        },
        "id": "L9Qgs5dzcBkL",
        "outputId": "ed3c7f3d-a569-4779-fa38-bc8515caabe9"
      },
      "source": [
        "# 散布図の表示　seaborn版　(1)\n",
        "\n",
        "plt.figure(figsize=(6,6))\n",
        "sns.scatterplot(x='がく片幅', y='花弁長', hue='種別', s=70, data=df_iris)\n",
        "plt.show()"
      ],
      "execution_count": null,
      "outputs": [
        {
          "output_type": "display_data",
          "data": {
            "image/png": "[encoded data removed]",
            "text/plain": [
              "<Figure size 432x432 with 1 Axes>"
            ]
          },
          "metadata": {
            "tags": [],
            "needs_background": "light"
          }
        }
      ]
    },
    {
      "cell_type": "code",
      "metadata": {
        "colab": {
          "base_uri": "https://localhost:8080/",
          "height": 726
        },
        "id": "VV1XWZ71cscf",
        "outputId": "edca6a6a-bf8d-47d8-af43-7c7f3c218205"
      },
      "source": [
        "# 全散布図同時表示\n",
        "\n",
        "sns.pairplot(df_iris, hue=\"種別\")\n",
        "plt.show()"
      ],
      "execution_count": null,
      "outputs": [
        {
          "output_type": "display_data",
          "data": {
            "image/png": "[encoded data removed]",
            "text/plain": [
              "<Figure size 801.625x720 with 20 Axes>"
            ]
          },
          "metadata": {
            "tags": [],
            "needs_background": "light"
          }
        }
      ]
    },
    {
      "cell_type": "code",
      "metadata": {
        "colab": {
          "base_uri": "https://localhost:8080/",
          "height": 441
        },
        "id": "v4CL-8Y2c2C6",
        "outputId": "bb569d6f-afe3-4d94-cb05-e3abe2745459"
      },
      "source": [
        "#  散布図の表示　seaborn版 (2)\n",
        "\n",
        "sns.jointplot('がく片幅', '花弁長', data=df_iris)\n",
        "plt.show()"
      ],
      "execution_count": null,
      "outputs": [
        {
          "output_type": "display_data",
          "data": {
            "image/png": "[encoded data removed]",
            "text/plain": [
              "<Figure size 432x432 with 3 Axes>"
            ]
          },
          "metadata": {
            "tags": [],
            "needs_background": "light"
          }
        }
      ]
    },
    {
      "cell_type": "markdown",
      "metadata": {
        "id": "pjrdx130eAHW"
      },
      "source": [
        "## 箱ひげ図の利用\n",
        "\n",
        "---\n",
        " \n",
        "  統計情報で示した最小値, 最大値, ２５パーセンタイル値, 50パーセントタイル値 (中央値), 75パーセンタイル値の５つの統計的な値を利用する。\n",
        "\n",
        "  　中央値(50パーセンタイル値）から25パーセンタイル値と75パーセンタイル値で囲まれた領域の長さから1.5倍を超えた値ははずれ値として除く手法である \n",
        "\n",
        "\n",
        "\n"
      ]
    },
    {
      "cell_type": "code",
      "metadata": {
        "colab": {
          "base_uri": "https://localhost:8080/",
          "height": 374
        },
        "id": "e7rvy08TdM7b",
        "outputId": "9cacd401-4000-46d4-8c63-5683fa88d16c"
      },
      "source": [
        "# 箱ひげ図表示 matplotlib版\n",
        "\n",
        "# グラフ描画領域の調整\n",
        "plt.figure(figsize=(6,6))\n",
        "\n",
        "#箱ひげ図の描画\n",
        "df_iris.boxplot(patch_artist=True)\n",
        "plt.show()"
      ],
      "execution_count": null,
      "outputs": [
        {
          "output_type": "display_data",
          "data": {
            "image/png": "[encoded data removed]",
            "text/plain": [
              "<Figure size 432x432 with 1 Axes>"
            ]
          },
          "metadata": {
            "tags": [],
            "needs_background": "light"
          }
        }
      ]
    },
    {
      "cell_type": "markdown",
      "metadata": {
        "id": "kh329GJ4fgg7"
      },
      "source": [
        "seabornを使った箱ひげ図表示\n",
        "\n",
        "seabonのboxplot関数を利用するためには、元データをvariable(項目名）, value(値）の形式\n",
        "\n",
        "にする必要がある. "
      ]
    },
    {
      "cell_type": "code",
      "metadata": {
        "colab": {
          "base_uri": "https://localhost:8080/",
          "height": 204
        },
        "id": "_wFOpSfLfLfz",
        "outputId": "6f652d20-7569-4eb6-ad63-95ff3e7ac352"
      },
      "source": [
        "# melt 関数によるデータの事前加工\n",
        "w = pd.melt(df_iris, id_vars=['種別'])\n",
        "\n",
        "# 加工結果の確認\n",
        "display(w.head())"
      ],
      "execution_count": null,
      "outputs": [
        {
          "output_type": "display_data",
          "data": {
            "text/html": [
              "<div>\n",
              "<style scoped>\n",
              "    .dataframe tbody tr th:only-of-type {\n",
              "        vertical-align: middle;\n",
              "    }\n",
              "\n",
              "    .dataframe tbody tr th {\n",
              "        vertical-align: top;\n",
              "    }\n",
              "\n",
              "    .dataframe thead th {\n",
              "        text-align: right;\n",
              "    }\n",
              "</style>\n",
              "<table border=\"1\" class=\"dataframe\">\n",
              "  <thead>\n",
              "    <tr style=\"text-align: right;\">\n",
              "      <th></th>\n",
              "      <th>種別</th>\n",
              "      <th>variable</th>\n",
              "      <th>value</th>\n",
              "    </tr>\n",
              "  </thead>\n",
              "  <tbody>\n",
              "    <tr>\n",
              "      <th>0</th>\n",
              "      <td>setosa</td>\n",
              "      <td>がく片長</td>\n",
              "      <td>5.1000</td>\n",
              "    </tr>\n",
              "    <tr>\n",
              "      <th>1</th>\n",
              "      <td>setosa</td>\n",
              "      <td>がく片長</td>\n",
              "      <td>4.9000</td>\n",
              "    </tr>\n",
              "    <tr>\n",
              "      <th>2</th>\n",
              "      <td>setosa</td>\n",
              "      <td>がく片長</td>\n",
              "      <td>4.7000</td>\n",
              "    </tr>\n",
              "    <tr>\n",
              "      <th>3</th>\n",
              "      <td>setosa</td>\n",
              "      <td>がく片長</td>\n",
              "      <td>4.6000</td>\n",
              "    </tr>\n",
              "    <tr>\n",
              "      <th>4</th>\n",
              "      <td>setosa</td>\n",
              "      <td>がく片長</td>\n",
              "      <td>5.0000</td>\n",
              "    </tr>\n",
              "  </tbody>\n",
              "</table>\n",
              "</div>"
            ],
            "text/plain": [
              "       種別 variable  value\n",
              "0  setosa     がく片長 5.1000\n",
              "1  setosa     がく片長 4.9000\n",
              "2  setosa     がく片長 4.7000\n",
              "3  setosa     がく片長 4.6000\n",
              "4  setosa     がく片長 5.0000"
            ]
          },
          "metadata": {
            "tags": []
          }
        }
      ]
    },
    {
      "cell_type": "code",
      "metadata": {
        "colab": {
          "base_uri": "https://localhost:8080/",
          "height": 495
        },
        "id": "-eKNPlrGfaRl",
        "outputId": "e9f04c0f-fa12-4459-95f7-8d72a36b8d14"
      },
      "source": [
        "# sebornによる箱ひげ図表示\n",
        "\n",
        "# hueパラメータを追加し, 花の種類で箱ひげ図をかき分ける\n",
        "plt.figure(figsize=(8,8))\n",
        "sns.boxplot(x=\"variable\", y=\"value\", data=w, hue='種別')\n",
        "plt.show()"
      ],
      "execution_count": null,
      "outputs": [
        {
          "output_type": "display_data",
          "data": {
            "image/png": "[encoded data removed]",
            "text/plain": [
              "<Figure size 576x576 with 1 Axes>"
            ]
          },
          "metadata": {
            "tags": [],
            "needs_background": "light"
          }
        }
      ]
    },
    {
      "cell_type": "markdown",
      "metadata": {
        "id": "uwu25jHEgyYg"
      },
      "source": [
        "# データの前処理\n",
        "\n",
        "---\n",
        " 対象データの選択とデータ読み込み\n",
        "\n",
        " 　例　：　タイタニックデータ\n",
        "\n",
        "　　　処理１　不要なデータの削除\n",
        "\n",
        "　例　：　等室（pclass)と等室名(class), 乗船港コー(embarked)と乗船港(embarked_town), \\\\\n",
        "生存(survived)と生存可否(alive)はそれぞれ同じ意味をしている\n",
        "      \n",
        "  **同じ情報量のデータ項目が複数あると、精度はかえって落ちる**"
      ]
    },
    {
      "cell_type": "code",
      "metadata": {
        "colab": {
          "base_uri": "https://localhost:8080/",
          "height": 204
        },
        "id": "UeScECUFgDkJ",
        "outputId": "0820ce33-a5ad-45a8-c27b-843049761ce4"
      },
      "source": [
        "# 余分な列の削除\n",
        "\n",
        "# 「等室名」（「等室」と同じ) axis=0 垂直方向（行方向), axis=1　水平方向（列方向）, valuesが全体\n",
        "df1 = df_titanic.drop('等室名', axis=1)\n",
        "\n",
        "# 「乗船港」（「乗船港コード」と同じ）　　\n",
        "# 使いやすいデータの方を残しておく\n",
        "df2 = df1.drop('乗船港', axis=1)\n",
        "\n",
        "#「生存可否」（「生存」と同じ）\n",
        "df3 = df2.drop('生存可否', axis=1)\n",
        "\n",
        "#結果確認\n",
        "display(df3.head())"
      ],
      "execution_count": null,
      "outputs": [
        {
          "output_type": "display_data",
          "data": {
            "text/html": [
              "<div>\n",
              "<style scoped>\n",
              "    .dataframe tbody tr th:only-of-type {\n",
              "        vertical-align: middle;\n",
              "    }\n",
              "\n",
              "    .dataframe tbody tr th {\n",
              "        vertical-align: top;\n",
              "    }\n",
              "\n",
              "    .dataframe thead th {\n",
              "        text-align: right;\n",
              "    }\n",
              "</style>\n",
              "<table border=\"1\" class=\"dataframe\">\n",
              "  <thead>\n",
              "    <tr style=\"text-align: right;\">\n",
              "      <th></th>\n",
              "      <th>生存</th>\n",
              "      <th>等室</th>\n",
              "      <th>性別</th>\n",
              "      <th>年齢</th>\n",
              "      <th>兄弟配偶者数</th>\n",
              "      <th>両親子供数</th>\n",
              "      <th>料金</th>\n",
              "      <th>乗船港コード</th>\n",
              "      <th>男女子供</th>\n",
              "      <th>成人男子</th>\n",
              "      <th>デッキ</th>\n",
              "      <th>独身</th>\n",
              "    </tr>\n",
              "  </thead>\n",
              "  <tbody>\n",
              "    <tr>\n",
              "      <th>0</th>\n",
              "      <td>0</td>\n",
              "      <td>3</td>\n",
              "      <td>male</td>\n",
              "      <td>22.0000</td>\n",
              "      <td>1</td>\n",
              "      <td>0</td>\n",
              "      <td>7.2500</td>\n",
              "      <td>S</td>\n",
              "      <td>man</td>\n",
              "      <td>True</td>\n",
              "      <td>NaN</td>\n",
              "      <td>False</td>\n",
              "    </tr>\n",
              "    <tr>\n",
              "      <th>1</th>\n",
              "      <td>1</td>\n",
              "      <td>1</td>\n",
              "      <td>female</td>\n",
              "      <td>38.0000</td>\n",
              "      <td>1</td>\n",
              "      <td>0</td>\n",
              "      <td>71.2833</td>\n",
              "      <td>C</td>\n",
              "      <td>woman</td>\n",
              "      <td>False</td>\n",
              "      <td>C</td>\n",
              "      <td>False</td>\n",
              "    </tr>\n",
              "    <tr>\n",
              "      <th>2</th>\n",
              "      <td>1</td>\n",
              "      <td>3</td>\n",
              "      <td>female</td>\n",
              "      <td>26.0000</td>\n",
              "      <td>0</td>\n",
              "      <td>0</td>\n",
              "      <td>7.9250</td>\n",
              "      <td>S</td>\n",
              "      <td>woman</td>\n",
              "      <td>False</td>\n",
              "      <td>NaN</td>\n",
              "      <td>True</td>\n",
              "    </tr>\n",
              "    <tr>\n",
              "      <th>3</th>\n",
              "      <td>1</td>\n",
              "      <td>1</td>\n",
              "      <td>female</td>\n",
              "      <td>35.0000</td>\n",
              "      <td>1</td>\n",
              "      <td>0</td>\n",
              "      <td>53.1000</td>\n",
              "      <td>S</td>\n",
              "      <td>woman</td>\n",
              "      <td>False</td>\n",
              "      <td>C</td>\n",
              "      <td>False</td>\n",
              "    </tr>\n",
              "    <tr>\n",
              "      <th>4</th>\n",
              "      <td>0</td>\n",
              "      <td>3</td>\n",
              "      <td>male</td>\n",
              "      <td>35.0000</td>\n",
              "      <td>0</td>\n",
              "      <td>0</td>\n",
              "      <td>8.0500</td>\n",
              "      <td>S</td>\n",
              "      <td>man</td>\n",
              "      <td>True</td>\n",
              "      <td>NaN</td>\n",
              "      <td>True</td>\n",
              "    </tr>\n",
              "  </tbody>\n",
              "</table>\n",
              "</div>"
            ],
            "text/plain": [
              "   生存  等室      性別      年齢  兄弟配偶者数  両親子供数      料金 乗船港コード   男女子供   成人男子  デッキ  \\\n",
              "0   0   3    male 22.0000       1      0  7.2500      S    man   True  NaN   \n",
              "1   1   1  female 38.0000       1      0 71.2833      C  woman  False    C   \n",
              "2   1   3  female 26.0000       0      0  7.9250      S  woman  False  NaN   \n",
              "3   1   1  female 35.0000       1      0 53.1000      S  woman  False    C   \n",
              "4   0   3    male 35.0000       0      0  8.0500      S    man   True  NaN   \n",
              "\n",
              "      独身  \n",
              "0  False  \n",
              "1  False  \n",
              "2   True  \n",
              "3  False  \n",
              "4   True  "
            ]
          },
          "metadata": {
            "tags": []
          }
        }
      ]
    },
    {
      "cell_type": "code",
      "metadata": {
        "colab": {
          "base_uri": "https://localhost:8080/",
          "height": 238
        },
        "id": "6RFwHkpBiU9V",
        "outputId": "edc00332-4038-45d1-d2de-91e902b8d4b5"
      },
      "source": [
        "# 欠損値への対応\n",
        "\n",
        "# 欠損値の確認\n",
        "display(df3.isnull().sum())"
      ],
      "execution_count": null,
      "outputs": [
        {
          "output_type": "display_data",
          "data": {
            "text/plain": [
              "生存          0\n",
              "等室          0\n",
              "性別          0\n",
              "年齢        177\n",
              "兄弟配偶者数      0\n",
              "両親子供数       0\n",
              "料金          0\n",
              "乗船港コード      2\n",
              "男女子供        0\n",
              "成人男子        0\n",
              "デッキ       688\n",
              "独身          0\n",
              "dtype: int64"
            ]
          },
          "metadata": {
            "tags": []
          }
        }
      ]
    },
    {
      "cell_type": "markdown",
      "metadata": {
        "id": "aPdqQrT6oivj"
      },
      "source": [
        "「年齢」, 「乗船コード」, 「デッキ」の３つに欠損値が存在する\n",
        "\n",
        "このうち, 「乗船港コード」に関しては、欠損値は2件だけ\n",
        "\n",
        "学習データが 891件のため　欠損値対策として行を削除するのがよい\n",
        "\n",
        "しかし、年齢は、177件もあるので、全ての行を削除するとデータの量を大幅に減らしてしまう。\n",
        "\n",
        "そのため, 年齢のような数値データは該当項目の平均値を利用する（中央値でも良い）\n",
        "\n",
        "「デッキ」に関しては、大きな欠損値なので、もう少し調べる必要がある\n"
      ]
    },
    {
      "cell_type": "code",
      "metadata": {
        "colab": {
          "base_uri": "https://localhost:8080/",
          "height": 153
        },
        "id": "_gG1wTVKijoL",
        "outputId": "108501ab-aadc-49b5-b85e-28a01d442cef"
      },
      "source": [
        "display(df3['デッキ'].value_counts())"
      ],
      "execution_count": null,
      "outputs": [
        {
          "output_type": "display_data",
          "data": {
            "text/plain": [
              "C    59\n",
              "B    47\n",
              "D    33\n",
              "E    32\n",
              "A    15\n",
              "F    13\n",
              "G     4\n",
              "Name: デッキ, dtype: int64"
            ]
          },
          "metadata": {
            "tags": []
          }
        }
      ]
    },
    {
      "cell_type": "markdown",
      "metadata": {
        "id": "NTk999pqqY28"
      },
      "source": [
        "## 対応策\n",
        "\n",
        " **乗船コード** : 欠損行数が２行と少ない　→　行ごと削除する\n",
        "\n",
        " **年齢** : 数値データであり, 欠損桁数が177行とかなり多い \\\\\n",
        "     →　データの平均値で代用\n",
        "\n",
        " **デッキ**  :  ラベル値データであり、欠損行数が688行と相当多い \\\\\n",
        "   →　欠損を意味するダミーコードを振って全行の処理対象にする"
      ]
    },
    {
      "cell_type": "code",
      "metadata": {
        "id": "4gpRU8k6pp3y"
      },
      "source": [
        "# 乗船港コード　の対応\n",
        "\n",
        "# dropna関数を利用する\n",
        "df4 = df3.dropna(subset = ['乗船港コード'])\n",
        "\n",
        "# 年齢の対応\n",
        "age_average = df4['年齢'].mean()\n",
        "\n",
        "#fillna関数の利用\n",
        "df5 = df4.fillna({'年齢': age_average})\n",
        "\n",
        "#デッキの対応\n",
        "# replace関数の利用（ダミーコードは'N’とする)\n",
        "df6 = df5.replace({'デッキ':{np.nan: 'N'}})"
      ],
      "execution_count": null,
      "outputs": []
    },
    {
      "cell_type": "code",
      "metadata": {
        "colab": {
          "base_uri": "https://localhost:8080/",
          "height": 425
        },
        "id": "rMlGlzd9rM7u",
        "outputId": "073f1698-883f-4cc4-d1d8-95dc4ed06df1"
      },
      "source": [
        "# 結果の確認\n",
        "display(df6.isnull().sum())\n",
        "\n",
        "display(df6.head())"
      ],
      "execution_count": null,
      "outputs": [
        {
          "output_type": "display_data",
          "data": {
            "text/plain": [
              "生存        0\n",
              "等室        0\n",
              "性別        0\n",
              "年齢        0\n",
              "兄弟配偶者数    0\n",
              "両親子供数     0\n",
              "料金        0\n",
              "乗船港コード    0\n",
              "男女子供      0\n",
              "成人男子      0\n",
              "デッキ       0\n",
              "独身        0\n",
              "dtype: int64"
            ]
          },
          "metadata": {
            "tags": []
          }
        },
        {
          "output_type": "display_data",
          "data": {
            "text/html": [
              "<div>\n",
              "<style scoped>\n",
              "    .dataframe tbody tr th:only-of-type {\n",
              "        vertical-align: middle;\n",
              "    }\n",
              "\n",
              "    .dataframe tbody tr th {\n",
              "        vertical-align: top;\n",
              "    }\n",
              "\n",
              "    .dataframe thead th {\n",
              "        text-align: right;\n",
              "    }\n",
              "</style>\n",
              "<table border=\"1\" class=\"dataframe\">\n",
              "  <thead>\n",
              "    <tr style=\"text-align: right;\">\n",
              "      <th></th>\n",
              "      <th>生存</th>\n",
              "      <th>等室</th>\n",
              "      <th>性別</th>\n",
              "      <th>年齢</th>\n",
              "      <th>兄弟配偶者数</th>\n",
              "      <th>両親子供数</th>\n",
              "      <th>料金</th>\n",
              "      <th>乗船港コード</th>\n",
              "      <th>男女子供</th>\n",
              "      <th>成人男子</th>\n",
              "      <th>デッキ</th>\n",
              "      <th>独身</th>\n",
              "    </tr>\n",
              "  </thead>\n",
              "  <tbody>\n",
              "    <tr>\n",
              "      <th>0</th>\n",
              "      <td>0</td>\n",
              "      <td>3</td>\n",
              "      <td>male</td>\n",
              "      <td>22.0000</td>\n",
              "      <td>1</td>\n",
              "      <td>0</td>\n",
              "      <td>7.2500</td>\n",
              "      <td>S</td>\n",
              "      <td>man</td>\n",
              "      <td>True</td>\n",
              "      <td>N</td>\n",
              "      <td>False</td>\n",
              "    </tr>\n",
              "    <tr>\n",
              "      <th>1</th>\n",
              "      <td>1</td>\n",
              "      <td>1</td>\n",
              "      <td>female</td>\n",
              "      <td>38.0000</td>\n",
              "      <td>1</td>\n",
              "      <td>0</td>\n",
              "      <td>71.2833</td>\n",
              "      <td>C</td>\n",
              "      <td>woman</td>\n",
              "      <td>False</td>\n",
              "      <td>C</td>\n",
              "      <td>False</td>\n",
              "    </tr>\n",
              "    <tr>\n",
              "      <th>2</th>\n",
              "      <td>1</td>\n",
              "      <td>3</td>\n",
              "      <td>female</td>\n",
              "      <td>26.0000</td>\n",
              "      <td>0</td>\n",
              "      <td>0</td>\n",
              "      <td>7.9250</td>\n",
              "      <td>S</td>\n",
              "      <td>woman</td>\n",
              "      <td>False</td>\n",
              "      <td>N</td>\n",
              "      <td>True</td>\n",
              "    </tr>\n",
              "    <tr>\n",
              "      <th>3</th>\n",
              "      <td>1</td>\n",
              "      <td>1</td>\n",
              "      <td>female</td>\n",
              "      <td>35.0000</td>\n",
              "      <td>1</td>\n",
              "      <td>0</td>\n",
              "      <td>53.1000</td>\n",
              "      <td>S</td>\n",
              "      <td>woman</td>\n",
              "      <td>False</td>\n",
              "      <td>C</td>\n",
              "      <td>False</td>\n",
              "    </tr>\n",
              "    <tr>\n",
              "      <th>4</th>\n",
              "      <td>0</td>\n",
              "      <td>3</td>\n",
              "      <td>male</td>\n",
              "      <td>35.0000</td>\n",
              "      <td>0</td>\n",
              "      <td>0</td>\n",
              "      <td>8.0500</td>\n",
              "      <td>S</td>\n",
              "      <td>man</td>\n",
              "      <td>True</td>\n",
              "      <td>N</td>\n",
              "      <td>True</td>\n",
              "    </tr>\n",
              "  </tbody>\n",
              "</table>\n",
              "</div>"
            ],
            "text/plain": [
              "   生存  等室      性別      年齢  兄弟配偶者数  両親子供数      料金 乗船港コード   男女子供   成人男子 デッキ  \\\n",
              "0   0   3    male 22.0000       1      0  7.2500      S    man   True   N   \n",
              "1   1   1  female 38.0000       1      0 71.2833      C  woman  False   C   \n",
              "2   1   3  female 26.0000       0      0  7.9250      S  woman  False   N   \n",
              "3   1   1  female 35.0000       1      0 53.1000      S  woman  False   C   \n",
              "4   0   3    male 35.0000       0      0  8.0500      S    man   True   N   \n",
              "\n",
              "      独身  \n",
              "0  False  \n",
              "1  False  \n",
              "2   True  \n",
              "3  False  \n",
              "4   True  "
            ]
          },
          "metadata": {
            "tags": []
          }
        }
      ]
    },
    {
      "cell_type": "markdown",
      "metadata": {
        "id": "n2Q-aikjsLHn"
      },
      "source": [
        "## ２値ラベルの数値化\n",
        "\n",
        "　ラベル値を数値データに変換して, コンピュータ上で使いやすくする\n",
        "\n",
        " 例: 性別 (male / femal), 成人男子 (True/False),  独身(True / False)\n",
        "\n",
        "  male  →　1,   femal →　0\n",
        "\n",
        "  True → 1,  False →　０\n",
        "\n",
        "  　とする"
      ]
    },
    {
      "cell_type": "code",
      "metadata": {
        "colab": {
          "base_uri": "https://localhost:8080/",
          "height": 204
        },
        "id": "HVS6L07Yrxkf",
        "outputId": "e7ffff84-ddf3-4835-d140-2079c3f4c068"
      },
      "source": [
        "# 辞書 mf_mapの定義\n",
        "mf_map = {'male': 1, 'female': 0}\n",
        "\n",
        "# map関数を利用して数値化\n",
        "df7 = df6.copy()\n",
        "df7['性別'] = df7['性別'].map(mf_map)\n",
        "\n",
        "#結果確認\n",
        "display(df7.head())"
      ],
      "execution_count": null,
      "outputs": [
        {
          "output_type": "display_data",
          "data": {
            "text/html": [
              "<div>\n",
              "<style scoped>\n",
              "    .dataframe tbody tr th:only-of-type {\n",
              "        vertical-align: middle;\n",
              "    }\n",
              "\n",
              "    .dataframe tbody tr th {\n",
              "        vertical-align: top;\n",
              "    }\n",
              "\n",
              "    .dataframe thead th {\n",
              "        text-align: right;\n",
              "    }\n",
              "</style>\n",
              "<table border=\"1\" class=\"dataframe\">\n",
              "  <thead>\n",
              "    <tr style=\"text-align: right;\">\n",
              "      <th></th>\n",
              "      <th>生存</th>\n",
              "      <th>等室</th>\n",
              "      <th>性別</th>\n",
              "      <th>年齢</th>\n",
              "      <th>兄弟配偶者数</th>\n",
              "      <th>両親子供数</th>\n",
              "      <th>料金</th>\n",
              "      <th>乗船港コード</th>\n",
              "      <th>男女子供</th>\n",
              "      <th>成人男子</th>\n",
              "      <th>デッキ</th>\n",
              "      <th>独身</th>\n",
              "    </tr>\n",
              "  </thead>\n",
              "  <tbody>\n",
              "    <tr>\n",
              "      <th>0</th>\n",
              "      <td>0</td>\n",
              "      <td>3</td>\n",
              "      <td>1</td>\n",
              "      <td>22.0000</td>\n",
              "      <td>1</td>\n",
              "      <td>0</td>\n",
              "      <td>7.2500</td>\n",
              "      <td>S</td>\n",
              "      <td>man</td>\n",
              "      <td>True</td>\n",
              "      <td>N</td>\n",
              "      <td>False</td>\n",
              "    </tr>\n",
              "    <tr>\n",
              "      <th>1</th>\n",
              "      <td>1</td>\n",
              "      <td>1</td>\n",
              "      <td>0</td>\n",
              "      <td>38.0000</td>\n",
              "      <td>1</td>\n",
              "      <td>0</td>\n",
              "      <td>71.2833</td>\n",
              "      <td>C</td>\n",
              "      <td>woman</td>\n",
              "      <td>False</td>\n",
              "      <td>C</td>\n",
              "      <td>False</td>\n",
              "    </tr>\n",
              "    <tr>\n",
              "      <th>2</th>\n",
              "      <td>1</td>\n",
              "      <td>3</td>\n",
              "      <td>0</td>\n",
              "      <td>26.0000</td>\n",
              "      <td>0</td>\n",
              "      <td>0</td>\n",
              "      <td>7.9250</td>\n",
              "      <td>S</td>\n",
              "      <td>woman</td>\n",
              "      <td>False</td>\n",
              "      <td>N</td>\n",
              "      <td>True</td>\n",
              "    </tr>\n",
              "    <tr>\n",
              "      <th>3</th>\n",
              "      <td>1</td>\n",
              "      <td>1</td>\n",
              "      <td>0</td>\n",
              "      <td>35.0000</td>\n",
              "      <td>1</td>\n",
              "      <td>0</td>\n",
              "      <td>53.1000</td>\n",
              "      <td>S</td>\n",
              "      <td>woman</td>\n",
              "      <td>False</td>\n",
              "      <td>C</td>\n",
              "      <td>False</td>\n",
              "    </tr>\n",
              "    <tr>\n",
              "      <th>4</th>\n",
              "      <td>0</td>\n",
              "      <td>3</td>\n",
              "      <td>1</td>\n",
              "      <td>35.0000</td>\n",
              "      <td>0</td>\n",
              "      <td>0</td>\n",
              "      <td>8.0500</td>\n",
              "      <td>S</td>\n",
              "      <td>man</td>\n",
              "      <td>True</td>\n",
              "      <td>N</td>\n",
              "      <td>True</td>\n",
              "    </tr>\n",
              "  </tbody>\n",
              "</table>\n",
              "</div>"
            ],
            "text/plain": [
              "   生存  等室  性別      年齢  兄弟配偶者数  両親子供数      料金 乗船港コード   男女子供   成人男子 デッキ     独身\n",
              "0   0   3   1 22.0000       1      0  7.2500      S    man   True   N  False\n",
              "1   1   1   0 38.0000       1      0 71.2833      C  woman  False   C  False\n",
              "2   1   3   0 26.0000       0      0  7.9250      S  woman  False   N   True\n",
              "3   1   1   0 35.0000       1      0 53.1000      S  woman  False   C  False\n",
              "4   0   3   1 35.0000       0      0  8.0500      S    man   True   N   True"
            ]
          },
          "metadata": {
            "tags": []
          }
        }
      ]
    },
    {
      "cell_type": "code",
      "metadata": {
        "colab": {
          "base_uri": "https://localhost:8080/",
          "height": 204
        },
        "id": "PaXRPFPes6dr",
        "outputId": "888afbec-45f5-413a-f220-5a5f1820f77e"
      },
      "source": [
        "#辞書　tf_mapの定義\n",
        "tf_map = {True : 1, False: 0}\n",
        "\n",
        "# map関数を離昇して数値化\n",
        "df8 = df7.copy()\n",
        "df8['成人男子'] = df8['成人男子'].map(tf_map)\n",
        "\n",
        "# map関数を離昇して数値化\n",
        "df9 = df8.copy()\n",
        "df9['独身'] = df9['独身'].map(tf_map)\n",
        "\n",
        "#結果確認\n",
        "display(df9.head())"
      ],
      "execution_count": null,
      "outputs": [
        {
          "output_type": "display_data",
          "data": {
            "text/html": [
              "<div>\n",
              "<style scoped>\n",
              "    .dataframe tbody tr th:only-of-type {\n",
              "        vertical-align: middle;\n",
              "    }\n",
              "\n",
              "    .dataframe tbody tr th {\n",
              "        vertical-align: top;\n",
              "    }\n",
              "\n",
              "    .dataframe thead th {\n",
              "        text-align: right;\n",
              "    }\n",
              "</style>\n",
              "<table border=\"1\" class=\"dataframe\">\n",
              "  <thead>\n",
              "    <tr style=\"text-align: right;\">\n",
              "      <th></th>\n",
              "      <th>生存</th>\n",
              "      <th>等室</th>\n",
              "      <th>性別</th>\n",
              "      <th>年齢</th>\n",
              "      <th>兄弟配偶者数</th>\n",
              "      <th>両親子供数</th>\n",
              "      <th>料金</th>\n",
              "      <th>乗船港コード</th>\n",
              "      <th>男女子供</th>\n",
              "      <th>成人男子</th>\n",
              "      <th>デッキ</th>\n",
              "      <th>独身</th>\n",
              "    </tr>\n",
              "  </thead>\n",
              "  <tbody>\n",
              "    <tr>\n",
              "      <th>0</th>\n",
              "      <td>0</td>\n",
              "      <td>3</td>\n",
              "      <td>1</td>\n",
              "      <td>22.0000</td>\n",
              "      <td>1</td>\n",
              "      <td>0</td>\n",
              "      <td>7.2500</td>\n",
              "      <td>S</td>\n",
              "      <td>man</td>\n",
              "      <td>1</td>\n",
              "      <td>N</td>\n",
              "      <td>0</td>\n",
              "    </tr>\n",
              "    <tr>\n",
              "      <th>1</th>\n",
              "      <td>1</td>\n",
              "      <td>1</td>\n",
              "      <td>0</td>\n",
              "      <td>38.0000</td>\n",
              "      <td>1</td>\n",
              "      <td>0</td>\n",
              "      <td>71.2833</td>\n",
              "      <td>C</td>\n",
              "      <td>woman</td>\n",
              "      <td>0</td>\n",
              "      <td>C</td>\n",
              "      <td>0</td>\n",
              "    </tr>\n",
              "    <tr>\n",
              "      <th>2</th>\n",
              "      <td>1</td>\n",
              "      <td>3</td>\n",
              "      <td>0</td>\n",
              "      <td>26.0000</td>\n",
              "      <td>0</td>\n",
              "      <td>0</td>\n",
              "      <td>7.9250</td>\n",
              "      <td>S</td>\n",
              "      <td>woman</td>\n",
              "      <td>0</td>\n",
              "      <td>N</td>\n",
              "      <td>1</td>\n",
              "    </tr>\n",
              "    <tr>\n",
              "      <th>3</th>\n",
              "      <td>1</td>\n",
              "      <td>1</td>\n",
              "      <td>0</td>\n",
              "      <td>35.0000</td>\n",
              "      <td>1</td>\n",
              "      <td>0</td>\n",
              "      <td>53.1000</td>\n",
              "      <td>S</td>\n",
              "      <td>woman</td>\n",
              "      <td>0</td>\n",
              "      <td>C</td>\n",
              "      <td>0</td>\n",
              "    </tr>\n",
              "    <tr>\n",
              "      <th>4</th>\n",
              "      <td>0</td>\n",
              "      <td>3</td>\n",
              "      <td>1</td>\n",
              "      <td>35.0000</td>\n",
              "      <td>0</td>\n",
              "      <td>0</td>\n",
              "      <td>8.0500</td>\n",
              "      <td>S</td>\n",
              "      <td>man</td>\n",
              "      <td>1</td>\n",
              "      <td>N</td>\n",
              "      <td>1</td>\n",
              "    </tr>\n",
              "  </tbody>\n",
              "</table>\n",
              "</div>"
            ],
            "text/plain": [
              "   生存  等室  性別      年齢  兄弟配偶者数  両親子供数      料金 乗船港コード   男女子供  成人男子 デッキ  独身\n",
              "0   0   3   1 22.0000       1      0  7.2500      S    man     1   N   0\n",
              "1   1   1   0 38.0000       1      0 71.2833      C  woman     0   C   0\n",
              "2   1   3   0 26.0000       0      0  7.9250      S  woman     0   N   1\n",
              "3   1   1   0 35.0000       1      0 53.1000      S  woman     0   C   0\n",
              "4   0   3   1 35.0000       0      0  8.0500      S    man     1   N   1"
            ]
          },
          "metadata": {
            "tags": []
          }
        }
      ]
    },
    {
      "cell_type": "markdown",
      "metadata": {
        "id": "bNJeFMLYtpXy"
      },
      "source": [
        "One-Hot　エンコーディング\n",
        "\n",
        "　種類が３個以上ある立ラベルを数値化する方法\n",
        "\n",
        "　**それぞれのラベルに対応した列を新しくつくり、該当する項目は1を関係ない項目は値０を割り当てる手法**\n",
        "\n",
        "　get_dummies関数を利用"
      ]
    },
    {
      "cell_type": "code",
      "metadata": {
        "colab": {
          "base_uri": "https://localhost:8080/",
          "height": 359
        },
        "id": "aogpCYRatb1j",
        "outputId": "6a077e55-8590-4060-f5bc-d40d6247766a"
      },
      "source": [
        "# get_dummies関数の利用サンプル\n",
        "\n",
        "w = pd.get_dummies(df9['男女子供'], prefix='男女子供')\n",
        "display(w.head(10))"
      ],
      "execution_count": null,
      "outputs": [
        {
          "output_type": "display_data",
          "data": {
            "text/html": [
              "<div>\n",
              "<style scoped>\n",
              "    .dataframe tbody tr th:only-of-type {\n",
              "        vertical-align: middle;\n",
              "    }\n",
              "\n",
              "    .dataframe tbody tr th {\n",
              "        vertical-align: top;\n",
              "    }\n",
              "\n",
              "    .dataframe thead th {\n",
              "        text-align: right;\n",
              "    }\n",
              "</style>\n",
              "<table border=\"1\" class=\"dataframe\">\n",
              "  <thead>\n",
              "    <tr style=\"text-align: right;\">\n",
              "      <th></th>\n",
              "      <th>男女子供_child</th>\n",
              "      <th>男女子供_man</th>\n",
              "      <th>男女子供_woman</th>\n",
              "    </tr>\n",
              "  </thead>\n",
              "  <tbody>\n",
              "    <tr>\n",
              "      <th>0</th>\n",
              "      <td>0</td>\n",
              "      <td>1</td>\n",
              "      <td>0</td>\n",
              "    </tr>\n",
              "    <tr>\n",
              "      <th>1</th>\n",
              "      <td>0</td>\n",
              "      <td>0</td>\n",
              "      <td>1</td>\n",
              "    </tr>\n",
              "    <tr>\n",
              "      <th>2</th>\n",
              "      <td>0</td>\n",
              "      <td>0</td>\n",
              "      <td>1</td>\n",
              "    </tr>\n",
              "    <tr>\n",
              "      <th>3</th>\n",
              "      <td>0</td>\n",
              "      <td>0</td>\n",
              "      <td>1</td>\n",
              "    </tr>\n",
              "    <tr>\n",
              "      <th>4</th>\n",
              "      <td>0</td>\n",
              "      <td>1</td>\n",
              "      <td>0</td>\n",
              "    </tr>\n",
              "    <tr>\n",
              "      <th>5</th>\n",
              "      <td>0</td>\n",
              "      <td>1</td>\n",
              "      <td>0</td>\n",
              "    </tr>\n",
              "    <tr>\n",
              "      <th>6</th>\n",
              "      <td>0</td>\n",
              "      <td>1</td>\n",
              "      <td>0</td>\n",
              "    </tr>\n",
              "    <tr>\n",
              "      <th>7</th>\n",
              "      <td>1</td>\n",
              "      <td>0</td>\n",
              "      <td>0</td>\n",
              "    </tr>\n",
              "    <tr>\n",
              "      <th>8</th>\n",
              "      <td>0</td>\n",
              "      <td>0</td>\n",
              "      <td>1</td>\n",
              "    </tr>\n",
              "    <tr>\n",
              "      <th>9</th>\n",
              "      <td>1</td>\n",
              "      <td>0</td>\n",
              "      <td>0</td>\n",
              "    </tr>\n",
              "  </tbody>\n",
              "</table>\n",
              "</div>"
            ],
            "text/plain": [
              "   男女子供_child  男女子供_man  男女子供_woman\n",
              "0           0         1           0\n",
              "1           0         0           1\n",
              "2           0         0           1\n",
              "3           0         0           1\n",
              "4           0         1           0\n",
              "5           0         1           0\n",
              "6           0         1           0\n",
              "7           1         0           0\n",
              "8           0         0           1\n",
              "9           1         0           0"
            ]
          },
          "metadata": {
            "tags": []
          }
        }
      ]
    },
    {
      "cell_type": "code",
      "metadata": {
        "id": "Xunea6mLuNhH"
      },
      "source": [
        "# get_dummies関数でカトゴリ値をon hot vectorに展開する関数を定義\n",
        "# df対象データフレーム\n",
        "# column対象列\n",
        "\n",
        "def enc(df, column):\n",
        "  # One Hot Vector生成\n",
        "  df_dummy = pd.get_dummies(df[column], prefix=column)\n",
        "  #元列の削除\n",
        "  df_drop = df.drop([column], axis=1)\n",
        "  #削除したデータフレームと、One Hot生成列を連結\n",
        "  df1 = pd.concat([df_drop, df_dummy], axis=1)\n",
        "  return df1"
      ],
      "execution_count": null,
      "outputs": []
    },
    {
      "cell_type": "code",
      "metadata": {
        "colab": {
          "base_uri": "https://localhost:8080/",
          "height": 85
        },
        "id": "cvmGwTvPuvXt",
        "outputId": "37bfbb38-9003-4485-88bf-3c1b3a7aaaa0"
      },
      "source": [
        "# 項目値の確認\n",
        "display(df9['男女子供'].value_counts())"
      ],
      "execution_count": null,
      "outputs": [
        {
          "output_type": "display_data",
          "data": {
            "text/plain": [
              "man      537\n",
              "woman    269\n",
              "child     83\n",
              "Name: 男女子供, dtype: int64"
            ]
          },
          "metadata": {
            "tags": []
          }
        }
      ]
    },
    {
      "cell_type": "code",
      "metadata": {
        "colab": {
          "base_uri": "https://localhost:8080/",
          "height": 204
        },
        "id": "81D6hQzGu1Vh",
        "outputId": "c3776941-e314-43f1-a872-8a543b318fed"
      },
      "source": [
        "# One-Hotエンコーディング\n",
        "\n",
        "#男女子供\n",
        "df10 = enc(df9, '男女子供')\n",
        "\n",
        "# 結果確認\n",
        "display(df10.head())"
      ],
      "execution_count": null,
      "outputs": [
        {
          "output_type": "display_data",
          "data": {
            "text/html": [
              "<div>\n",
              "<style scoped>\n",
              "    .dataframe tbody tr th:only-of-type {\n",
              "        vertical-align: middle;\n",
              "    }\n",
              "\n",
              "    .dataframe tbody tr th {\n",
              "        vertical-align: top;\n",
              "    }\n",
              "\n",
              "    .dataframe thead th {\n",
              "        text-align: right;\n",
              "    }\n",
              "</style>\n",
              "<table border=\"1\" class=\"dataframe\">\n",
              "  <thead>\n",
              "    <tr style=\"text-align: right;\">\n",
              "      <th></th>\n",
              "      <th>生存</th>\n",
              "      <th>等室</th>\n",
              "      <th>性別</th>\n",
              "      <th>年齢</th>\n",
              "      <th>兄弟配偶者数</th>\n",
              "      <th>両親子供数</th>\n",
              "      <th>料金</th>\n",
              "      <th>乗船港コード</th>\n",
              "      <th>成人男子</th>\n",
              "      <th>デッキ</th>\n",
              "      <th>独身</th>\n",
              "      <th>男女子供_child</th>\n",
              "      <th>男女子供_man</th>\n",
              "      <th>男女子供_woman</th>\n",
              "    </tr>\n",
              "  </thead>\n",
              "  <tbody>\n",
              "    <tr>\n",
              "      <th>0</th>\n",
              "      <td>0</td>\n",
              "      <td>3</td>\n",
              "      <td>1</td>\n",
              "      <td>22.0000</td>\n",
              "      <td>1</td>\n",
              "      <td>0</td>\n",
              "      <td>7.2500</td>\n",
              "      <td>S</td>\n",
              "      <td>1</td>\n",
              "      <td>N</td>\n",
              "      <td>0</td>\n",
              "      <td>0</td>\n",
              "      <td>1</td>\n",
              "      <td>0</td>\n",
              "    </tr>\n",
              "    <tr>\n",
              "      <th>1</th>\n",
              "      <td>1</td>\n",
              "      <td>1</td>\n",
              "      <td>0</td>\n",
              "      <td>38.0000</td>\n",
              "      <td>1</td>\n",
              "      <td>0</td>\n",
              "      <td>71.2833</td>\n",
              "      <td>C</td>\n",
              "      <td>0</td>\n",
              "      <td>C</td>\n",
              "      <td>0</td>\n",
              "      <td>0</td>\n",
              "      <td>0</td>\n",
              "      <td>1</td>\n",
              "    </tr>\n",
              "    <tr>\n",
              "      <th>2</th>\n",
              "      <td>1</td>\n",
              "      <td>3</td>\n",
              "      <td>0</td>\n",
              "      <td>26.0000</td>\n",
              "      <td>0</td>\n",
              "      <td>0</td>\n",
              "      <td>7.9250</td>\n",
              "      <td>S</td>\n",
              "      <td>0</td>\n",
              "      <td>N</td>\n",
              "      <td>1</td>\n",
              "      <td>0</td>\n",
              "      <td>0</td>\n",
              "      <td>1</td>\n",
              "    </tr>\n",
              "    <tr>\n",
              "      <th>3</th>\n",
              "      <td>1</td>\n",
              "      <td>1</td>\n",
              "      <td>0</td>\n",
              "      <td>35.0000</td>\n",
              "      <td>1</td>\n",
              "      <td>0</td>\n",
              "      <td>53.1000</td>\n",
              "      <td>S</td>\n",
              "      <td>0</td>\n",
              "      <td>C</td>\n",
              "      <td>0</td>\n",
              "      <td>0</td>\n",
              "      <td>0</td>\n",
              "      <td>1</td>\n",
              "    </tr>\n",
              "    <tr>\n",
              "      <th>4</th>\n",
              "      <td>0</td>\n",
              "      <td>3</td>\n",
              "      <td>1</td>\n",
              "      <td>35.0000</td>\n",
              "      <td>0</td>\n",
              "      <td>0</td>\n",
              "      <td>8.0500</td>\n",
              "      <td>S</td>\n",
              "      <td>1</td>\n",
              "      <td>N</td>\n",
              "      <td>1</td>\n",
              "      <td>0</td>\n",
              "      <td>1</td>\n",
              "      <td>0</td>\n",
              "    </tr>\n",
              "  </tbody>\n",
              "</table>\n",
              "</div>"
            ],
            "text/plain": [
              "   生存  等室  性別      年齢  兄弟配偶者数  両親子供数      料金 乗船港コード  成人男子 デッキ  独身  男女子供_child  \\\n",
              "0   0   3   1 22.0000       1      0  7.2500      S     1   N   0           0   \n",
              "1   1   1   0 38.0000       1      0 71.2833      C     0   C   0           0   \n",
              "2   1   3   0 26.0000       0      0  7.9250      S     0   N   1           0   \n",
              "3   1   1   0 35.0000       1      0 53.1000      S     0   C   0           0   \n",
              "4   0   3   1 35.0000       0      0  8.0500      S     1   N   1           0   \n",
              "\n",
              "   男女子供_man  男女子供_woman  \n",
              "0         1           0  \n",
              "1         0           1  \n",
              "2         0           1  \n",
              "3         0           1  \n",
              "4         1           0  "
            ]
          },
          "metadata": {
            "tags": []
          }
        }
      ]
    },
    {
      "cell_type": "code",
      "metadata": {
        "colab": {
          "base_uri": "https://localhost:8080/",
          "height": 255
        },
        "id": "uWMJvctYvPA_",
        "outputId": "8f87fd1f-48e8-4380-ac2b-10427d49d2d9"
      },
      "source": [
        "#　One-Hotエンコーディング\n",
        "\n",
        "# 乗船港コード\n",
        "df11 = enc(df10, '乗船港コード')\n",
        "\n",
        "# デッキ\n",
        "df12 = enc(df11, 'デッキ')\n",
        "\n",
        "#　結果確認\n",
        "display(df12.head())"
      ],
      "execution_count": null,
      "outputs": [
        {
          "output_type": "display_data",
          "data": {
            "text/html": [
              "<div>\n",
              "<style scoped>\n",
              "    .dataframe tbody tr th:only-of-type {\n",
              "        vertical-align: middle;\n",
              "    }\n",
              "\n",
              "    .dataframe tbody tr th {\n",
              "        vertical-align: top;\n",
              "    }\n",
              "\n",
              "    .dataframe thead th {\n",
              "        text-align: right;\n",
              "    }\n",
              "</style>\n",
              "<table border=\"1\" class=\"dataframe\">\n",
              "  <thead>\n",
              "    <tr style=\"text-align: right;\">\n",
              "      <th></th>\n",
              "      <th>生存</th>\n",
              "      <th>等室</th>\n",
              "      <th>性別</th>\n",
              "      <th>年齢</th>\n",
              "      <th>兄弟配偶者数</th>\n",
              "      <th>両親子供数</th>\n",
              "      <th>料金</th>\n",
              "      <th>成人男子</th>\n",
              "      <th>独身</th>\n",
              "      <th>男女子供_child</th>\n",
              "      <th>男女子供_man</th>\n",
              "      <th>男女子供_woman</th>\n",
              "      <th>乗船港コード_C</th>\n",
              "      <th>乗船港コード_Q</th>\n",
              "      <th>乗船港コード_S</th>\n",
              "      <th>デッキ_A</th>\n",
              "      <th>デッキ_B</th>\n",
              "      <th>デッキ_C</th>\n",
              "      <th>デッキ_D</th>\n",
              "      <th>デッキ_E</th>\n",
              "      <th>デッキ_F</th>\n",
              "      <th>デッキ_G</th>\n",
              "      <th>デッキ_N</th>\n",
              "    </tr>\n",
              "  </thead>\n",
              "  <tbody>\n",
              "    <tr>\n",
              "      <th>0</th>\n",
              "      <td>0</td>\n",
              "      <td>3</td>\n",
              "      <td>1</td>\n",
              "      <td>22.0000</td>\n",
              "      <td>1</td>\n",
              "      <td>0</td>\n",
              "      <td>7.2500</td>\n",
              "      <td>1</td>\n",
              "      <td>0</td>\n",
              "      <td>0</td>\n",
              "      <td>1</td>\n",
              "      <td>0</td>\n",
              "      <td>0</td>\n",
              "      <td>0</td>\n",
              "      <td>1</td>\n",
              "      <td>0</td>\n",
              "      <td>0</td>\n",
              "      <td>0</td>\n",
              "      <td>0</td>\n",
              "      <td>0</td>\n",
              "      <td>0</td>\n",
              "      <td>0</td>\n",
              "      <td>1</td>\n",
              "    </tr>\n",
              "    <tr>\n",
              "      <th>1</th>\n",
              "      <td>1</td>\n",
              "      <td>1</td>\n",
              "      <td>0</td>\n",
              "      <td>38.0000</td>\n",
              "      <td>1</td>\n",
              "      <td>0</td>\n",
              "      <td>71.2833</td>\n",
              "      <td>0</td>\n",
              "      <td>0</td>\n",
              "      <td>0</td>\n",
              "      <td>0</td>\n",
              "      <td>1</td>\n",
              "      <td>1</td>\n",
              "      <td>0</td>\n",
              "      <td>0</td>\n",
              "      <td>0</td>\n",
              "      <td>0</td>\n",
              "      <td>1</td>\n",
              "      <td>0</td>\n",
              "      <td>0</td>\n",
              "      <td>0</td>\n",
              "      <td>0</td>\n",
              "      <td>0</td>\n",
              "    </tr>\n",
              "    <tr>\n",
              "      <th>2</th>\n",
              "      <td>1</td>\n",
              "      <td>3</td>\n",
              "      <td>0</td>\n",
              "      <td>26.0000</td>\n",
              "      <td>0</td>\n",
              "      <td>0</td>\n",
              "      <td>7.9250</td>\n",
              "      <td>0</td>\n",
              "      <td>1</td>\n",
              "      <td>0</td>\n",
              "      <td>0</td>\n",
              "      <td>1</td>\n",
              "      <td>0</td>\n",
              "      <td>0</td>\n",
              "      <td>1</td>\n",
              "      <td>0</td>\n",
              "      <td>0</td>\n",
              "      <td>0</td>\n",
              "      <td>0</td>\n",
              "      <td>0</td>\n",
              "      <td>0</td>\n",
              "      <td>0</td>\n",
              "      <td>1</td>\n",
              "    </tr>\n",
              "    <tr>\n",
              "      <th>3</th>\n",
              "      <td>1</td>\n",
              "      <td>1</td>\n",
              "      <td>0</td>\n",
              "      <td>35.0000</td>\n",
              "      <td>1</td>\n",
              "      <td>0</td>\n",
              "      <td>53.1000</td>\n",
              "      <td>0</td>\n",
              "      <td>0</td>\n",
              "      <td>0</td>\n",
              "      <td>0</td>\n",
              "      <td>1</td>\n",
              "      <td>0</td>\n",
              "      <td>0</td>\n",
              "      <td>1</td>\n",
              "      <td>0</td>\n",
              "      <td>0</td>\n",
              "      <td>1</td>\n",
              "      <td>0</td>\n",
              "      <td>0</td>\n",
              "      <td>0</td>\n",
              "      <td>0</td>\n",
              "      <td>0</td>\n",
              "    </tr>\n",
              "    <tr>\n",
              "      <th>4</th>\n",
              "      <td>0</td>\n",
              "      <td>3</td>\n",
              "      <td>1</td>\n",
              "      <td>35.0000</td>\n",
              "      <td>0</td>\n",
              "      <td>0</td>\n",
              "      <td>8.0500</td>\n",
              "      <td>1</td>\n",
              "      <td>1</td>\n",
              "      <td>0</td>\n",
              "      <td>1</td>\n",
              "      <td>0</td>\n",
              "      <td>0</td>\n",
              "      <td>0</td>\n",
              "      <td>1</td>\n",
              "      <td>0</td>\n",
              "      <td>0</td>\n",
              "      <td>0</td>\n",
              "      <td>0</td>\n",
              "      <td>0</td>\n",
              "      <td>0</td>\n",
              "      <td>0</td>\n",
              "      <td>1</td>\n",
              "    </tr>\n",
              "  </tbody>\n",
              "</table>\n",
              "</div>"
            ],
            "text/plain": [
              "   生存  等室  性別      年齢  兄弟配偶者数  両親子供数      料金  成人男子  独身  男女子供_child  男女子供_man  \\\n",
              "0   0   3   1 22.0000       1      0  7.2500     1   0           0         1   \n",
              "1   1   1   0 38.0000       1      0 71.2833     0   0           0         0   \n",
              "2   1   3   0 26.0000       0      0  7.9250     0   1           0         0   \n",
              "3   1   1   0 35.0000       1      0 53.1000     0   0           0         0   \n",
              "4   0   3   1 35.0000       0      0  8.0500     1   1           0         1   \n",
              "\n",
              "   男女子供_woman  乗船港コード_C  乗船港コード_Q  乗船港コード_S  デッキ_A  デッキ_B  デッキ_C  デッキ_D  \\\n",
              "0           0         0         0         1      0      0      0      0   \n",
              "1           1         1         0         0      0      0      1      0   \n",
              "2           1         0         0         1      0      0      0      0   \n",
              "3           1         0         0         1      0      0      1      0   \n",
              "4           0         0         0         1      0      0      0      0   \n",
              "\n",
              "   デッキ_E  デッキ_F  デッキ_G  デッキ_N  \n",
              "0      0      0      0      1  \n",
              "1      0      0      0      0  \n",
              "2      0      0      0      1  \n",
              "3      0      0      0      0  \n",
              "4      0      0      0      1  "
            ]
          },
          "metadata": {
            "tags": []
          }
        }
      ]
    },
    {
      "cell_type": "markdown",
      "metadata": {
        "id": "EYU7IhcFvssG"
      },
      "source": [
        "### 正規化\n",
        "\n",
        " normalization : 入力変数xを、最小値が0, 最大値が１になるように１次関数を使って変換\n",
        "\n",
        " xの最大値を x_max, 最小値をx_minとした時\n",
        "\n",
        " $ \\hat{x} = \\frac{x - x_{min}}{x_{max} - x_{min}} $\n",
        "\n",
        " この変換式の結果、x = x_maxの時に１の値を, x=x_minの時に0の値になる\n",
        "\n",
        " standardization : 入力変数xが平均0, 分散1の正規分布になるように１次関数を使って変換\n",
        "\n",
        " xの平均をm, 標準偏差を$\\sigma$とした時\n",
        "\n",
        " $\\hat{x} = \\frac{x-m}{\\sigma}$"
      ]
    },
    {
      "cell_type": "code",
      "metadata": {
        "colab": {
          "base_uri": "https://localhost:8080/",
          "height": 255
        },
        "id": "5QoNwB3Lvg11",
        "outputId": "b7c81060-8fb8-48a2-bedb-92fc4e4d5d90"
      },
      "source": [
        "# standardization\n",
        "df13 = df12.copy()\n",
        "from sklearn.preprocessing import StandardScaler\n",
        "stdsc = StandardScaler()\n",
        "df13[['年齢', '料金']] = stdsc.fit_transform(df13[['年齢', '料金']])\n",
        "\n",
        "#結果確認\n",
        "display(df13.head())"
      ],
      "execution_count": null,
      "outputs": [
        {
          "output_type": "display_data",
          "data": {
            "text/html": [
              "<div>\n",
              "<style scoped>\n",
              "    .dataframe tbody tr th:only-of-type {\n",
              "        vertical-align: middle;\n",
              "    }\n",
              "\n",
              "    .dataframe tbody tr th {\n",
              "        vertical-align: top;\n",
              "    }\n",
              "\n",
              "    .dataframe thead th {\n",
              "        text-align: right;\n",
              "    }\n",
              "</style>\n",
              "<table border=\"1\" class=\"dataframe\">\n",
              "  <thead>\n",
              "    <tr style=\"text-align: right;\">\n",
              "      <th></th>\n",
              "      <th>生存</th>\n",
              "      <th>等室</th>\n",
              "      <th>性別</th>\n",
              "      <th>年齢</th>\n",
              "      <th>兄弟配偶者数</th>\n",
              "      <th>両親子供数</th>\n",
              "      <th>料金</th>\n",
              "      <th>成人男子</th>\n",
              "      <th>独身</th>\n",
              "      <th>男女子供_child</th>\n",
              "      <th>男女子供_man</th>\n",
              "      <th>男女子供_woman</th>\n",
              "      <th>乗船港コード_C</th>\n",
              "      <th>乗船港コード_Q</th>\n",
              "      <th>乗船港コード_S</th>\n",
              "      <th>デッキ_A</th>\n",
              "      <th>デッキ_B</th>\n",
              "      <th>デッキ_C</th>\n",
              "      <th>デッキ_D</th>\n",
              "      <th>デッキ_E</th>\n",
              "      <th>デッキ_F</th>\n",
              "      <th>デッキ_G</th>\n",
              "      <th>デッキ_N</th>\n",
              "    </tr>\n",
              "  </thead>\n",
              "  <tbody>\n",
              "    <tr>\n",
              "      <th>0</th>\n",
              "      <td>0</td>\n",
              "      <td>3</td>\n",
              "      <td>1</td>\n",
              "      <td>-0.5896</td>\n",
              "      <td>1</td>\n",
              "      <td>0</td>\n",
              "      <td>-0.5002</td>\n",
              "      <td>1</td>\n",
              "      <td>0</td>\n",
              "      <td>0</td>\n",
              "      <td>1</td>\n",
              "      <td>0</td>\n",
              "      <td>0</td>\n",
              "      <td>0</td>\n",
              "      <td>1</td>\n",
              "      <td>0</td>\n",
              "      <td>0</td>\n",
              "      <td>0</td>\n",
              "      <td>0</td>\n",
              "      <td>0</td>\n",
              "      <td>0</td>\n",
              "      <td>0</td>\n",
              "      <td>1</td>\n",
              "    </tr>\n",
              "    <tr>\n",
              "      <th>1</th>\n",
              "      <td>1</td>\n",
              "      <td>1</td>\n",
              "      <td>0</td>\n",
              "      <td>0.6448</td>\n",
              "      <td>1</td>\n",
              "      <td>0</td>\n",
              "      <td>0.7889</td>\n",
              "      <td>0</td>\n",
              "      <td>0</td>\n",
              "      <td>0</td>\n",
              "      <td>0</td>\n",
              "      <td>1</td>\n",
              "      <td>1</td>\n",
              "      <td>0</td>\n",
              "      <td>0</td>\n",
              "      <td>0</td>\n",
              "      <td>0</td>\n",
              "      <td>1</td>\n",
              "      <td>0</td>\n",
              "      <td>0</td>\n",
              "      <td>0</td>\n",
              "      <td>0</td>\n",
              "      <td>0</td>\n",
              "    </tr>\n",
              "    <tr>\n",
              "      <th>2</th>\n",
              "      <td>1</td>\n",
              "      <td>3</td>\n",
              "      <td>0</td>\n",
              "      <td>-0.2810</td>\n",
              "      <td>0</td>\n",
              "      <td>0</td>\n",
              "      <td>-0.4866</td>\n",
              "      <td>0</td>\n",
              "      <td>1</td>\n",
              "      <td>0</td>\n",
              "      <td>0</td>\n",
              "      <td>1</td>\n",
              "      <td>0</td>\n",
              "      <td>0</td>\n",
              "      <td>1</td>\n",
              "      <td>0</td>\n",
              "      <td>0</td>\n",
              "      <td>0</td>\n",
              "      <td>0</td>\n",
              "      <td>0</td>\n",
              "      <td>0</td>\n",
              "      <td>0</td>\n",
              "      <td>1</td>\n",
              "    </tr>\n",
              "    <tr>\n",
              "      <th>3</th>\n",
              "      <td>1</td>\n",
              "      <td>1</td>\n",
              "      <td>0</td>\n",
              "      <td>0.4134</td>\n",
              "      <td>1</td>\n",
              "      <td>0</td>\n",
              "      <td>0.4229</td>\n",
              "      <td>0</td>\n",
              "      <td>0</td>\n",
              "      <td>0</td>\n",
              "      <td>0</td>\n",
              "      <td>1</td>\n",
              "      <td>0</td>\n",
              "      <td>0</td>\n",
              "      <td>1</td>\n",
              "      <td>0</td>\n",
              "      <td>0</td>\n",
              "      <td>1</td>\n",
              "      <td>0</td>\n",
              "      <td>0</td>\n",
              "      <td>0</td>\n",
              "      <td>0</td>\n",
              "      <td>0</td>\n",
              "    </tr>\n",
              "    <tr>\n",
              "      <th>4</th>\n",
              "      <td>0</td>\n",
              "      <td>3</td>\n",
              "      <td>1</td>\n",
              "      <td>0.4134</td>\n",
              "      <td>0</td>\n",
              "      <td>0</td>\n",
              "      <td>-0.4841</td>\n",
              "      <td>1</td>\n",
              "      <td>1</td>\n",
              "      <td>0</td>\n",
              "      <td>1</td>\n",
              "      <td>0</td>\n",
              "      <td>0</td>\n",
              "      <td>0</td>\n",
              "      <td>1</td>\n",
              "      <td>0</td>\n",
              "      <td>0</td>\n",
              "      <td>0</td>\n",
              "      <td>0</td>\n",
              "      <td>0</td>\n",
              "      <td>0</td>\n",
              "      <td>0</td>\n",
              "      <td>1</td>\n",
              "    </tr>\n",
              "  </tbody>\n",
              "</table>\n",
              "</div>"
            ],
            "text/plain": [
              "   生存  等室  性別      年齢  兄弟配偶者数  両親子供数      料金  成人男子  独身  男女子供_child  男女子供_man  \\\n",
              "0   0   3   1 -0.5896       1      0 -0.5002     1   0           0         1   \n",
              "1   1   1   0  0.6448       1      0  0.7889     0   0           0         0   \n",
              "2   1   3   0 -0.2810       0      0 -0.4866     0   1           0         0   \n",
              "3   1   1   0  0.4134       1      0  0.4229     0   0           0         0   \n",
              "4   0   3   1  0.4134       0      0 -0.4841     1   1           0         1   \n",
              "\n",
              "   男女子供_woman  乗船港コード_C  乗船港コード_Q  乗船港コード_S  デッキ_A  デッキ_B  デッキ_C  デッキ_D  \\\n",
              "0           0         0         0         1      0      0      0      0   \n",
              "1           1         1         0         0      0      0      1      0   \n",
              "2           1         0         0         1      0      0      0      0   \n",
              "3           1         0         0         1      0      0      1      0   \n",
              "4           0         0         0         1      0      0      0      0   \n",
              "\n",
              "   デッキ_E  デッキ_F  デッキ_G  デッキ_N  \n",
              "0      0      0      0      1  \n",
              "1      0      0      0      0  \n",
              "2      0      0      0      1  \n",
              "3      0      0      0      0  \n",
              "4      0      0      0      1  "
            ]
          },
          "metadata": {
            "tags": []
          }
        }
      ]
    },
    {
      "cell_type": "code",
      "metadata": {
        "id": "osSkBlTtxCZX"
      },
      "source": [
        ""
      ],
      "execution_count": null,
      "outputs": []
    }
  ]
}