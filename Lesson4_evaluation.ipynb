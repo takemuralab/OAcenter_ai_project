{
  "nbformat": 4,
  "nbformat_minor": 0,
  "metadata": {
    "colab": {
      "name": "Lesson4.ipynb",
      "provenance": [],
      "collapsed_sections": []
    },
    "kernelspec": {
      "name": "python3",
      "display_name": "Python 3"
    }
  },
  "cells": [
    {
      "cell_type": "markdown",
      "metadata": {
        "id": "KRWdyBzQiwaK"
      },
      "source": [
        "# 評価\n",
        "\n",
        "　　機械学習のモデルを作る　フローの中で重要な役割を持つの\n",
        "\n",
        "##評価手法の種類\n",
        "\n",
        "　　・混同行列\n",
        "　　・適合率\n",
        "　　・再現率　などの概念を学習する\n",
        "\n",
        "例：　乳がんの疾患モデルを利用して行う\n",
        "　　\n"
      ]
    },
    {
      "cell_type": "code",
      "metadata": {
        "colab": {
          "base_uri": "https://localhost:8080/"
        },
        "id": "hom82Q-1iqJi",
        "outputId": "038dd31c-f180-4cf2-f300-cbc35fbba901"
      },
      "source": [
        "# 日本語化ライブラリの導入\n",
        "\n",
        "!pip install japanize-matplotlib | tail -n 1\n",
        "\n",
        "# 共通事前処理\n",
        "\n",
        "# 余分なワーニングを非表示にする\n",
        "import warnings\n",
        "warnings.filterwarnings('ignore')\n",
        "\n",
        "# ライブりのインポート\n",
        "import pandas as pd\n",
        "import numpy as np\n",
        "import matplotlib.pyplot as plt\n",
        "\n",
        "#matplotlibの日本語化対応\n",
        "import japanize_matplotlib\n",
        "\n",
        "#データフレーム表示用関数\n",
        "from IPython.display import display\n",
        "\n",
        "# 表示オプション調整\n",
        "# NumPyの不動招集点の表示精度\n",
        "np.set_printoptions(suppress=True, precision=4)\n",
        "# pandasでの浮動小数点の表示精度\n",
        "pd.options.display.float_format = '{:.4f}'.format\n",
        "#データフレームで全ての項目を表示\n",
        "pd.set_option(\"display.max_columns\", None)\n",
        "#グラフのデフォルトフォントの指定\n",
        "plt.rcParams[\"font.size\"] = 14\n",
        "#乱数の種\n",
        "random_seed = 123"
      ],
      "execution_count": 1,
      "outputs": [
        {
          "output_type": "stream",
          "text": [
            "Successfully installed japanize-matplotlib-1.1.3\n"
          ],
          "name": "stdout"
        }
      ]
    },
    {
      "cell_type": "markdown",
      "metadata": {
        "id": "6TZAczQQaqwi"
      },
      "source": [
        "## 混同行列\n",
        "\n",
        "　分類の処理パターン\n",
        "\n",
        "　　　・精度 (Accuracy) 　・・・　予想結果の正解率\n",
        "\n",
        "　詳細にモデルを評価する際に必須の概念　・・・　「混同行列」(Confusion Matrix)\n",
        "\n",
        " 例：　乳がんの疾患予想モデル\n",
        "\n",
        " 目的　：　できるだけ多くの悪性を検知すること\n",
        "\n",
        " つまり、　**良性を良性と予測することの重要性は低い**\n",
        "\n",
        " 「モデルは、悪性と予想したが正解は良性だった」と「モデルは良性として予想したが正解は悪性だった」\n",
        "\n",
        " 　この２パターンであれば後者がモデルとしては致命的\n",
        "\n",
        " モデルの予想結果には、「悪性」「良性」、正解データには「悪性」「良性」\n",
        "\n",
        " 以上の４パターンそれぞれ件数を集計し表の形で整理する\n",
        "\n",
        " →　これを混同行列とする\n"
      ]
    },
    {
      "cell_type": "code",
      "metadata": {
        "id": "kg7wVJO_k9bd"
      },
      "source": [
        "# データの読み込みから分類まで\n",
        "\n",
        "# ライブラリのインポート\n",
        "from sklearn.datasets import load_breast_cancer\n",
        "\n",
        "#データのロード\n",
        "cancer = load_breast_cancer()\n",
        "\n",
        "#　入力データX\n",
        "x= cancer.data\n",
        "\n",
        "# 正解データy\n",
        "# 良性：０　悪性：1に値を変更する\n",
        "y = 1- cancer.target\n",
        "\n",
        "# 入力データを２次元に絞り込み\n",
        "x2 = x[:, :2]\n",
        "\n",
        "# (4) データの分割\n",
        "from sklearn.model_selection import train_test_split\n",
        "x_train, x_test, y_train, y_test = train_test_split(x2, y, train_size=0.7, test_size=0.3, random_state=random_seed)"
      ],
      "execution_count": 2,
      "outputs": []
    },
    {
      "cell_type": "code",
      "metadata": {
        "colab": {
          "base_uri": "https://localhost:8080/"
        },
        "id": "MqvRwHfhamkX",
        "outputId": "02e25a69-ab63-49f9-cdf2-2d49b009b8f2"
      },
      "source": [
        "# アルゴリズム選択から評価まで\n",
        "\n",
        "# アルゴリズム選択 (ロジスティック回帰)\n",
        "from sklearn.linear_model import LogisticRegression\n",
        "algorithm = LogisticRegression(random_state=random_seed)\n",
        "\n",
        "# 学習\n",
        "algorithm.fit(x_train, y_train)\n",
        "\n",
        "#　予想\n",
        "y_pred = algorithm.predict(x_test)\n",
        "\n",
        "# 評価\n",
        "score = algorithm.score(x_test, y_test)\n",
        "\n",
        "# 結果確認\n",
        "print(f'score: {score:.4f}')"
      ],
      "execution_count": 3,
      "outputs": [
        {
          "output_type": "stream",
          "text": [
            "score: 0.8772\n"
          ],
          "name": "stdout"
        }
      ]
    },
    {
      "cell_type": "code",
      "metadata": {
        "colab": {
          "base_uri": "https://localhost:8080/"
        },
        "id": "NT2Pdrv8eqb-",
        "outputId": "8e020c57-0eb4-449c-a9c7-0767cad69a59"
      },
      "source": [
        "# 混同行列の計算\n",
        "\n",
        "# 必要ライブラリの取り込み\n",
        "from sklearn.metrics import confusion_matrix\n",
        "\n",
        "# 混同行列の生成\n",
        "# y_test : 検証データの正解データ\n",
        "# y_pred : 検証データの予測結果\n",
        "matrix = confusion_matrix(y_test, y_pred)\n",
        "\n",
        "# 結果の確認\n",
        "print(matrix)\n"
      ],
      "execution_count": 4,
      "outputs": [
        {
          "output_type": "stream",
          "text": [
            "[[101   2]\n",
            " [ 19  49]]\n"
          ],
          "name": "stdout"
        }
      ]
    },
    {
      "cell_type": "code",
      "metadata": {
        "id": "u5ZP7POGg8J5"
      },
      "source": [
        "# 混同行列表示用の関数の生成\n",
        "\n",
        "def make_cm(matrix, columns):\n",
        "  # matrix numpy配列\n",
        "\n",
        "  # columns 項目名リスト\n",
        "  n = len(columns)\n",
        "\n",
        "  # '正解データ'をn回繰り返すリスト生成\n",
        "  act = ['正解データ'] * n\n",
        "  pred = ['予測結果'] * n\n",
        "\n",
        "  # データフレームの生成\n",
        "  cm = pd.DataFrame(matrix,\n",
        "                    columns=[pred, columns], index=[act, columns])\n",
        "  return cm"
      ],
      "execution_count": 5,
      "outputs": []
    },
    {
      "cell_type": "code",
      "metadata": {
        "colab": {
          "base_uri": "https://localhost:8080/",
          "height": 142
        },
        "id": "y49XN4vLhrtP",
        "outputId": "cb973b7a-98ef-46f9-ef5e-6dea1aff1083"
      },
      "source": [
        "# make_cmを使った混同行列の表示\n",
        "cm = make_cm(matrix, ['良性', '悪性'])\n",
        "display(cm)"
      ],
      "execution_count": 6,
      "outputs": [
        {
          "output_type": "display_data",
          "data": {
            "text/html": [
              "<div>\n",
              "<style scoped>\n",
              "    .dataframe tbody tr th:only-of-type {\n",
              "        vertical-align: middle;\n",
              "    }\n",
              "\n",
              "    .dataframe tbody tr th {\n",
              "        vertical-align: top;\n",
              "    }\n",
              "\n",
              "    .dataframe thead tr th {\n",
              "        text-align: left;\n",
              "    }\n",
              "</style>\n",
              "<table border=\"1\" class=\"dataframe\">\n",
              "  <thead>\n",
              "    <tr>\n",
              "      <th></th>\n",
              "      <th></th>\n",
              "      <th colspan=\"2\" halign=\"left\">予測結果</th>\n",
              "    </tr>\n",
              "    <tr>\n",
              "      <th></th>\n",
              "      <th></th>\n",
              "      <th>良性</th>\n",
              "      <th>悪性</th>\n",
              "    </tr>\n",
              "  </thead>\n",
              "  <tbody>\n",
              "    <tr>\n",
              "      <th rowspan=\"2\" valign=\"top\">正解データ</th>\n",
              "      <th>良性</th>\n",
              "      <td>101</td>\n",
              "      <td>2</td>\n",
              "    </tr>\n",
              "    <tr>\n",
              "      <th>悪性</th>\n",
              "      <td>19</td>\n",
              "      <td>49</td>\n",
              "    </tr>\n",
              "  </tbody>\n",
              "</table>\n",
              "</div>"
            ],
            "text/plain": [
              "         予測結果    \n",
              "           良性  悪性\n",
              "正解データ 良性  101   2\n",
              "      悪性   19  49"
            ]
          },
          "metadata": {
            "tags": []
          }
        }
      ]
    },
    {
      "cell_type": "markdown",
      "metadata": {
        "id": "Px2swmQElpe2"
      },
      "source": [
        "### Cofusion Matrixの検証するときのみかた\n",
        "\n",
        "悪性ー悪性 :　TF (True Positive ) :　モデルの予想結果が陽性(positive)で正解だった件数 \\\\\n",
        " 悪性ー良性　: FP (False Positive) : モデルの予想結果が陽性(positive)で不正解(Falseだった）件数\n",
        "\n",
        "良性ー陰性： FN (False Negative) : モデルの予想結果が陰性(Negative) で不正解 (False) だった件数 \\\\\n",
        "良性ー良性 : TN (True Negative ) ：　モデルの予想結果が陰性（negative)で正解（True)だった件数\n",
        "\n",
        "#### 精度・適合率・再現率・F値\n",
        "\n",
        "　**精度　：　「正解数」を「全体件数」で割った比**\n",
        "\n",
        " (全体件数) = TP + FP + FN + TN\n",
        " (正解数） = TP + PN\n",
        "\n",
        "$精度(Accurary) = \\frac{(正解数)}{(全体件数)}   = \\frac{TP+TN}{TP+FP+FN+TN} $\n",
        "\n",
        " **適合率(Precision) : モデルが「陽性」と予想した対象のうち、本当に「陽性」だった割合**\n",
        "\n",
        " $ 適合率(Precision) = \\frac{TP}{TP+FP} $\n",
        "\n",
        " **再現率(Recall) : 本当に陽性だったデータの内、どの程度をモデルで「陽性」と検知できたか**\n",
        "\n",
        " 　　$再現率(Recall) = \\frac{TP}{TP+FN} $\n",
        "\n",
        "  **F値 (F-score)** : 業務的に重要な陽性の値が存在し、そのよそう結果を重視したい。しかし、適合率や再現率をみるのではなく、両者をバランスよく改善させたいときに使うパラメータ\n",
        "  \n",
        "  $ F1 = \\frac{2・（適合率)・(再現率)}{(適合率)+(再現率)} $　\n"
      ]
    },
    {
      "cell_type": "code",
      "metadata": {
        "id": "Mu-XT2xziI1-",
        "colab": {
          "base_uri": "https://localhost:8080/"
        },
        "outputId": "4ed2353a-512b-4a4f-b027-fb740df0aca7"
      },
      "source": [
        "# 適合率・再現率・F値の計算\n",
        "\n",
        "# ライブラリの読み込み\n",
        "from sklearn.metrics import precision_recall_fscore_support\n",
        "\n",
        "# 適合率・再現率・F値の計算\n",
        "precision, recall, fscore, _ = precision_recall_fscore_support(y_test, y_pred, average='binary')\n",
        "\n",
        "#結果の表示\n",
        "print(f'適合率　: {precision:.4f}')\n",
        "print(f'再現率 : {recall:.4f}')\n",
        "print(f'F値　 : {fscore:.4f}')"
      ],
      "execution_count": 7,
      "outputs": [
        {
          "output_type": "stream",
          "text": [
            "適合率　: 0.9608\n",
            "再現率 : 0.7206\n",
            "F値　 : 0.8235\n"
          ],
          "name": "stdout"
        }
      ]
    },
    {
      "cell_type": "markdown",
      "metadata": {
        "id": "Nb9fUwti9QEB"
      },
      "source": [
        "### 指標値の使い分けについて\n",
        "\n",
        "**精度 (Accuracy)**\n",
        "\n",
        "　正解データの陽性と陰性の数のバランスがよく、業務的にも「どちらの値が重要」という区分けがない場合に利用。　逆に陽性の検出が業務上重要な場合、特に正解データの比率がアンバランスな場合は制度ではないものを使う方がよい\n",
        "\n",
        "**適合率(Precision)**\n",
        "\n",
        " 陽性の予測結果がどの程度正確かが業務に直結する場合は、適合率で評価する\n",
        "\n",
        " **再現率(Recall)**\n",
        "\n",
        " 故障など**問題のある事象を洗い出したい(陽性を漏れなく見つけたい)**\n",
        "\n",
        " 例：病気疾患の検知や営業要員が多い場合の営業成約予想モデル\n",
        "\n",
        " **F値 (F-score)**\n",
        "\n",
        "  予想結果の陽性が業務的に重要なので精度を用いたくないが、適合率か再現率に特化するのではなくバランよく評価をしたい場合に利用する\n"
      ]
    },
    {
      "cell_type": "markdown",
      "metadata": {
        "id": "nKPSjKrp-ssq"
      },
      "source": [
        "## 確率値と閾値の関係\n",
        "\n",
        "　分類のモデルでは、予想結果の実態が確率値で表現される\n",
        "\n",
        "　そのため, 0.5（閾値）より大きいか小さいかで、0か１かを出力しているアルゴリズムが多い\n",
        "\n",
        "そこで, 作ったモデルの確率値を抽出して、閾値を変更することでモデル出力結果のコントロールをする\n",
        "\n",
        "基本的にデフォルト値は0.5が多いがいつもこの値を使うとは限らない。\n",
        "\n",
        "業務要件によって最適な値を決めて、その設定を含めて「モデル」として取り扱って構わない"
      ]
    },
    {
      "cell_type": "code",
      "metadata": {
        "id": "KMtk1FiaqNMs",
        "colab": {
          "base_uri": "https://localhost:8080/"
        },
        "outputId": "cf599c01-c7f9-466f-da04-db1122d1a5d1"
      },
      "source": [
        "# 確率値の取得\n",
        "#prdict_proba関数は、確率変数を予測クラスに対して出力\n",
        "#　そのため足し算したら１となるはず\n",
        "y_proba =  algorithm.predict_proba(x_test)\n",
        "print(y_proba[:10, :])"
      ],
      "execution_count": 8,
      "outputs": [
        {
          "output_type": "stream",
          "text": [
            "[[0.9925 0.0075]\n",
            " [0.9981 0.0019]\n",
            " [0.0719 0.9281]\n",
            " [0.8134 0.1866]\n",
            " [0.0345 0.9655]\n",
            " [0.6376 0.3624]\n",
            " [0.9694 0.0306]\n",
            " [0.9743 0.0257]\n",
            " [0.76   0.24  ]\n",
            " [0.9775 0.0225]]\n"
          ],
          "name": "stdout"
        }
      ]
    },
    {
      "cell_type": "code",
      "metadata": {
        "id": "koVQEty9ABo8",
        "colab": {
          "base_uri": "https://localhost:8080/"
        },
        "outputId": "dc41eba6-2a51-444e-d6be-a9a6f7dcb5e8"
      },
      "source": [
        "# positive(1)の確率値の取得\n",
        "y_proba1 = y_proba[:,1]\n",
        "\n",
        "# 結果の確認\n",
        "print(y_test[10:20])\n",
        "print(y_pred[10:20])\n",
        "print(y_proba1[10:20])"
      ],
      "execution_count": 9,
      "outputs": [
        {
          "output_type": "stream",
          "text": [
            "[0 1 1 0 1 0 0 0 0 0]\n",
            "[0 1 0 0 1 0 0 0 0 0]\n",
            "[0.2111 0.9188 0.1617 0.0609 0.631  0.0549 0.0601 0.0506 0.0383 0.0164]\n"
          ],
          "name": "stdout"
        }
      ]
    },
    {
      "cell_type": "code",
      "metadata": {
        "colab": {
          "base_uri": "https://localhost:8080/"
        },
        "id": "1uozwu9-CRfy",
        "outputId": "62925e4e-bbe8-45aa-da76-a3273fc45f46"
      },
      "source": [
        "# 閾値を変化させる\n",
        "thres = 0.5\n",
        "print((y_proba1[10:20] > thres).astype(int))\n",
        "\n",
        "thres = 0.7\n",
        "print((y_proba1[10:20] > thres).astype(int))"
      ],
      "execution_count": 10,
      "outputs": [
        {
          "output_type": "stream",
          "text": [
            "[0 1 0 0 1 0 0 0 0 0]\n",
            "[0 1 0 0 0 0 0 0 0 0]\n"
          ],
          "name": "stdout"
        }
      ]
    },
    {
      "cell_type": "code",
      "metadata": {
        "id": "4gMeYh2NCn-k"
      },
      "source": [
        "# 閾値を変更した場合の予測関数の定義\n",
        "def pred(algorithm, x, thres):\n",
        "  # 確率値の取得\n",
        "  y_proba = algorithm.predict_proba(x)\n",
        "\n",
        "  #予測結果１の確率値\n",
        "  y_proba1 = y_proba[:, 1]\n",
        "\n",
        "  #予測結果1の確率値　> 閾値\n",
        "  y_pred = (y_proba1 > thres).astype(int)\n",
        "  return y_pred"
      ],
      "execution_count": 11,
      "outputs": []
    },
    {
      "cell_type": "code",
      "metadata": {
        "colab": {
          "base_uri": "https://localhost:8080/"
        },
        "id": "IeOpTUj4DBkG",
        "outputId": "8d244559-dddf-4484-bf28-fdfaff2007dc"
      },
      "source": [
        "# 閾値0.5で予測結果の取得\n",
        "pred_05 = pred(algorithm, x_test, 0.5)\n",
        "\n",
        "# 閾値0.7で予想結果の取得\n",
        "pred_07 = pred(algorithm, x_test, 0.7)\n",
        "\n",
        "# 結果確認\n",
        "print(pred_05[10:20])\n",
        "print(pred_07[10:20])"
      ],
      "execution_count": 12,
      "outputs": [
        {
          "output_type": "stream",
          "text": [
            "[0 1 0 0 1 0 0 0 0 0]\n",
            "[0 1 0 0 0 0 0 0 0 0]\n"
          ],
          "name": "stdout"
        }
      ]
    },
    {
      "cell_type": "markdown",
      "metadata": {
        "id": "VltSD-9lDeNi"
      },
      "source": [
        "### PR曲線とROC曲線\n",
        "\n",
        "閾値を変化させた時の精度の変化をプロットして、できた曲線によりモデルの性能を調べる手法\n",
        "\n",
        "**PR曲線**\n",
        "\n",
        " モデル内の確率値を使って閾値をへんこうさせていくと、モデルの適合率と再現率は変化する\n",
        "\n",
        " 閾値を変化させた時の適合率と再現率の値をグラフの中でプロっっとして、できた曲線によりモデル精度を評価\n",
        "\n",
        " この時の曲線を**PR曲線(Precision-Recall curve)**と呼ぶ"
      ]
    },
    {
      "cell_type": "code",
      "metadata": {
        "colab": {
          "base_uri": "https://localhost:8080/",
          "height": 266
        },
        "id": "CkcUYg9jDSCV",
        "outputId": "3e82459e-1711-407a-bd63-7bdc375d1d8c"
      },
      "source": [
        "# ライブラリの導入\n",
        "from sklearn.metrics import precision_recall_curve\n",
        "# 適合率、再現率、閾値の取得\n",
        "precision, recall, thresholds = precision_recall_curve(y_test, y_proba1)\n",
        "\n",
        "#結果をデータフレームにする\n",
        "df_pr = pd.DataFrame([thresholds, precision, recall]).T\n",
        "df_pr.columns = ['閾値', '適合率', '再現率']\n",
        "\n",
        "#閾値０.5周辺を表示\n",
        "display(df_pr[52:122:10])"
      ],
      "execution_count": 13,
      "outputs": [
        {
          "output_type": "display_data",
          "data": {
            "text/html": [
              "<div>\n",
              "<style scoped>\n",
              "    .dataframe tbody tr th:only-of-type {\n",
              "        vertical-align: middle;\n",
              "    }\n",
              "\n",
              "    .dataframe tbody tr th {\n",
              "        vertical-align: top;\n",
              "    }\n",
              "\n",
              "    .dataframe thead th {\n",
              "        text-align: right;\n",
              "    }\n",
              "</style>\n",
              "<table border=\"1\" class=\"dataframe\">\n",
              "  <thead>\n",
              "    <tr style=\"text-align: right;\">\n",
              "      <th></th>\n",
              "      <th>閾値</th>\n",
              "      <th>適合率</th>\n",
              "      <th>再現率</th>\n",
              "    </tr>\n",
              "  </thead>\n",
              "  <tbody>\n",
              "    <tr>\n",
              "      <th>52</th>\n",
              "      <td>0.1473</td>\n",
              "      <td>0.7901</td>\n",
              "      <td>0.9412</td>\n",
              "    </tr>\n",
              "    <tr>\n",
              "      <th>62</th>\n",
              "      <td>0.2027</td>\n",
              "      <td>0.8310</td>\n",
              "      <td>0.8676</td>\n",
              "    </tr>\n",
              "    <tr>\n",
              "      <th>72</th>\n",
              "      <td>0.3371</td>\n",
              "      <td>0.9344</td>\n",
              "      <td>0.8382</td>\n",
              "    </tr>\n",
              "    <tr>\n",
              "      <th>82</th>\n",
              "      <td>0.5347</td>\n",
              "      <td>0.9608</td>\n",
              "      <td>0.7206</td>\n",
              "    </tr>\n",
              "    <tr>\n",
              "      <th>92</th>\n",
              "      <td>0.7763</td>\n",
              "      <td>0.9756</td>\n",
              "      <td>0.5882</td>\n",
              "    </tr>\n",
              "    <tr>\n",
              "      <th>102</th>\n",
              "      <td>0.9025</td>\n",
              "      <td>1.0000</td>\n",
              "      <td>0.4559</td>\n",
              "    </tr>\n",
              "    <tr>\n",
              "      <th>112</th>\n",
              "      <td>0.9829</td>\n",
              "      <td>1.0000</td>\n",
              "      <td>0.3088</td>\n",
              "    </tr>\n",
              "  </tbody>\n",
              "</table>\n",
              "</div>"
            ],
            "text/plain": [
              "        閾値    適合率    再現率\n",
              "52  0.1473 0.7901 0.9412\n",
              "62  0.2027 0.8310 0.8676\n",
              "72  0.3371 0.9344 0.8382\n",
              "82  0.5347 0.9608 0.7206\n",
              "92  0.7763 0.9756 0.5882\n",
              "102 0.9025 1.0000 0.4559\n",
              "112 0.9829 1.0000 0.3088"
            ]
          },
          "metadata": {
            "tags": []
          }
        }
      ]
    },
    {
      "cell_type": "code",
      "metadata": {
        "colab": {
          "base_uri": "https://localhost:8080/",
          "height": 401
        },
        "id": "vPpggArsEYYa",
        "outputId": "68ae54e8-4186-46c5-e230-f1dbf9ccc43a"
      },
      "source": [
        "# 描画サイズ指定\n",
        "plt.figure(figsize=(6,6))\n",
        "# グラフ領域の塗りつぶし\n",
        "plt.fill_between(recall, precision, 0)\n",
        "#x, yの範囲指定\n",
        "plt.xlim([0.0, 1.0])\n",
        "plt.ylim([0.0, 1.0])\n",
        "\n",
        "#ラベル・タイトルの表示\n",
        "plt.xlabel('再現率')\n",
        "plt.ylabel('適合率')\n",
        "plt.title('PR曲線')\n",
        "plt.show()"
      ],
      "execution_count": 14,
      "outputs": [
        {
          "output_type": "display_data",
          "data": {
            "image/png": "[encoded data removed]",
            "text/plain": [
              "<Figure size 432x432 with 1 Axes>"
            ]
          },
          "metadata": {
            "tags": [],
            "needs_background": "light"
          }
        }
      ]
    },
    {
      "cell_type": "markdown",
      "metadata": {
        "id": "_4yYrOUVFhvR"
      },
      "source": [
        " 　このグラフを見る際に重要なのは、塗りつぶされた面積である\n",
        "\n",
        " 　この面積が１に近いほど、モデルの精度が高いことが知られている。"
      ]
    },
    {
      "cell_type": "code",
      "metadata": {
        "colab": {
          "base_uri": "https://localhost:8080/"
        },
        "id": "zDNUbWbmFW_B",
        "outputId": "330177dd-10fa-4c77-e4c2-c132d7055771"
      },
      "source": [
        "# PR曲線下面積の計算\n",
        "# 指標としては、0.9以上だと性能が良いとされている\n",
        "# auc ( area under the curve)\n",
        "from sklearn.metrics import auc\n",
        "pr_auc = auc(recall, precision)\n",
        "print(f'PR曲線下面積 : {pr_auc:.4f}')"
      ],
      "execution_count": 15,
      "outputs": [
        {
          "output_type": "stream",
          "text": [
            "PR曲線下面積 : 0.9459\n"
          ],
          "name": "stdout"
        }
      ]
    },
    {
      "cell_type": "markdown",
      "metadata": {
        "id": "cnf7YUOUIRyY"
      },
      "source": [
        "**ROC(Receiver Operating Characteristic) 曲線**\n",
        "\n",
        " 閾値を変化させた時のモデルの変化をプロットするという考えはPR曲線と同じ\n",
        "\n",
        " 「敏感度」と「偽陽性率」の2つの指標を定義する\n",
        "\n",
        " $ 敏感度 = \\frac{TP}{TP+FN} $\n",
        "\n",
        " $ 偽陽性率 = \\frac{FP}{FP + TN} $\n",
        "\n",
        " 敏感度は,  再現率と同じものを意味する。\n",
        "\n",
        "\n",
        "\n"
      ]
    },
    {
      "cell_type": "code",
      "metadata": {
        "colab": {
          "base_uri": "https://localhost:8080/",
          "height": 266
        },
        "id": "98nKXv1kILZU",
        "outputId": "af123238-ea4c-421c-f03e-919e1a5e1585"
      },
      "source": [
        "# ROC 曲線用配列の生成\n",
        "\n",
        "# ライブラリの導入\n",
        "from sklearn.metrics import roc_curve\n",
        "\n",
        "# 偽陽性率、敏感度、閾値の取得\n",
        "# drop_intermediate = False (閾値を変えたときに変化しない時が省略されないように設定)\n",
        "fpr, tpr, thresholds = roc_curve(\n",
        "    y_test, y_proba1, drop_intermediate=False)\n",
        "\n",
        "# 結果をデータフレームにする\n",
        "df_roc = pd.DataFrame([thresholds, fpr, tpr]).T\n",
        "df_roc.columns = ['閾値', '偽陽性率', '敏感度']\n",
        "\n",
        "# 閾値0.5の周辺を表示\n",
        "display(df_roc[21:91:10])"
      ],
      "execution_count": 16,
      "outputs": [
        {
          "output_type": "display_data",
          "data": {
            "text/html": [
              "<div>\n",
              "<style scoped>\n",
              "    .dataframe tbody tr th:only-of-type {\n",
              "        vertical-align: middle;\n",
              "    }\n",
              "\n",
              "    .dataframe tbody tr th {\n",
              "        vertical-align: top;\n",
              "    }\n",
              "\n",
              "    .dataframe thead th {\n",
              "        text-align: right;\n",
              "    }\n",
              "</style>\n",
              "<table border=\"1\" class=\"dataframe\">\n",
              "  <thead>\n",
              "    <tr style=\"text-align: right;\">\n",
              "      <th></th>\n",
              "      <th>閾値</th>\n",
              "      <th>偽陽性率</th>\n",
              "      <th>敏感度</th>\n",
              "    </tr>\n",
              "  </thead>\n",
              "  <tbody>\n",
              "    <tr>\n",
              "      <th>21</th>\n",
              "      <td>0.9829</td>\n",
              "      <td>0.0000</td>\n",
              "      <td>0.3088</td>\n",
              "    </tr>\n",
              "    <tr>\n",
              "      <th>31</th>\n",
              "      <td>0.9025</td>\n",
              "      <td>0.0000</td>\n",
              "      <td>0.4559</td>\n",
              "    </tr>\n",
              "    <tr>\n",
              "      <th>41</th>\n",
              "      <td>0.7763</td>\n",
              "      <td>0.0097</td>\n",
              "      <td>0.5882</td>\n",
              "    </tr>\n",
              "    <tr>\n",
              "      <th>51</th>\n",
              "      <td>0.5347</td>\n",
              "      <td>0.0194</td>\n",
              "      <td>0.7206</td>\n",
              "    </tr>\n",
              "    <tr>\n",
              "      <th>61</th>\n",
              "      <td>0.3371</td>\n",
              "      <td>0.0388</td>\n",
              "      <td>0.8382</td>\n",
              "    </tr>\n",
              "    <tr>\n",
              "      <th>71</th>\n",
              "      <td>0.2027</td>\n",
              "      <td>0.1165</td>\n",
              "      <td>0.8676</td>\n",
              "    </tr>\n",
              "    <tr>\n",
              "      <th>81</th>\n",
              "      <td>0.1473</td>\n",
              "      <td>0.1650</td>\n",
              "      <td>0.9412</td>\n",
              "    </tr>\n",
              "  </tbody>\n",
              "</table>\n",
              "</div>"
            ],
            "text/plain": [
              "       閾値   偽陽性率    敏感度\n",
              "21 0.9829 0.0000 0.3088\n",
              "31 0.9025 0.0000 0.4559\n",
              "41 0.7763 0.0097 0.5882\n",
              "51 0.5347 0.0194 0.7206\n",
              "61 0.3371 0.0388 0.8382\n",
              "71 0.2027 0.1165 0.8676\n",
              "81 0.1473 0.1650 0.9412"
            ]
          },
          "metadata": {
            "tags": []
          }
        }
      ]
    },
    {
      "cell_type": "code",
      "metadata": {
        "colab": {
          "base_uri": "https://localhost:8080/",
          "height": 402
        },
        "id": "h5u4_c5VJzf8",
        "outputId": "40e96c6f-789f-41c1-8363-9687e451b2ae"
      },
      "source": [
        "# ROC曲線の描画\n",
        "\n",
        "# 描画サイズ指定\n",
        "plt.figure(figsize=(6,6))\n",
        "\n",
        "# 点線の表示\n",
        "plt.plot([0, 1], [0, 1], 'k--')\n",
        "\n",
        "# グラフ領域の塗りつぶし\n",
        "plt.fill_between(fpr, tpr, 0)\n",
        "\n",
        "# x, yの範囲の指定\n",
        "plt.xlim([0.0, 1.0])\n",
        "plt.ylim([0.0, 1.0])\n",
        "\n",
        "# ラベル・タイトルの表示\n",
        "plt.xlabel('偽陽性率')\n",
        "plt.ylabel('敏感度')\n",
        "plt.title('ROC曲線')\n",
        "plt.show()"
      ],
      "execution_count": 17,
      "outputs": [
        {
          "output_type": "display_data",
          "data": {
            "image/png": "[encoded data removed]",
            "text/plain": [
              "<Figure size 432x432 with 1 Axes>"
            ]
          },
          "metadata": {
            "tags": [],
            "needs_background": "light"
          }
        }
      ]
    },
    {
      "cell_type": "markdown",
      "metadata": {
        "id": "WcE4rnlJLA6G"
      },
      "source": [
        "この点線は、最悪ケースのモデルを示している\n",
        "\n",
        "モデルの予測結果が陽性と陰性の分類にまったく役に立たない場合、理論上ROC曲線は点線と同じになる\n",
        "\n",
        "面積の場合、　最悪=0.5,  最善　= 1.0の範囲となる\n",
        "\n",
        "0.9 - 1.0 高性能 \\\\\n",
        "0.7 - 0.9 中性能 \\\\\n",
        "0.5 - 0.7 低性能 \\\\\n"
      ]
    },
    {
      "cell_type": "code",
      "metadata": {
        "colab": {
          "base_uri": "https://localhost:8080/"
        },
        "id": "IMCEzNvLK3Dq",
        "outputId": "649cc689-6042-4dc6-e425-54073b4a082e"
      },
      "source": [
        "# ROC曲線下面積の計算\n",
        "roc_auc = auc(fpr, tpr)\n",
        "print(f'ROC曲線下面積 : {roc_auc:.4f}')"
      ],
      "execution_count": 18,
      "outputs": [
        {
          "output_type": "stream",
          "text": [
            "ROC曲線下面積 : 0.9522\n"
          ],
          "name": "stdout"
        }
      ]
    },
    {
      "cell_type": "markdown",
      "metadata": {
        "id": "QCUrTtDyMUz6"
      },
      "source": [
        "#  課題\n",
        "\n",
        " これまでの、乳がんの検出には2つの項目のみを利用したモデルであったが、30次元のモデルを使用したときにどのように結果が変わるかを検証せよ"
      ]
    },
    {
      "cell_type": "code",
      "metadata": {
        "id": "vqSAl9MZL_6F"
      },
      "source": [
        "#　入力データX\n",
        "x= cancer.data\n",
        "\n",
        "# 正解データy\n",
        "# 良性：０　悪性：1に値を変更する\n",
        "y = 1- cancer.target\n",
        "\n",
        "# データの分割\n",
        "from sklearn.model_selection import train_test_split\n",
        "x_train, x_test, y_train, y_test = train_test_split(x, y, train_size=0.7, test_size=0.3, random_state=random_seed)\n"
      ],
      "execution_count": 19,
      "outputs": []
    },
    {
      "cell_type": "code",
      "metadata": {
        "colab": {
          "base_uri": "https://localhost:8080/"
        },
        "id": "-bR_fC2AMzB3",
        "outputId": "77f6c09b-7a6f-45d4-96fa-b9b1e9b7c6b2"
      },
      "source": [
        "# アルゴリズム選択から評価まで\n",
        "\n",
        "# アルゴリズム選択 (ロジスティック回帰)\n",
        "from sklearn.linear_model import LogisticRegression\n",
        "algorithm = LogisticRegression(random_state=random_seed)\n",
        "\n",
        "# 学習\n",
        "algorithm.fit(x_train, y_train)\n",
        "\n",
        "#　予想\n",
        "y_pred = algorithm.predict(x_test)\n",
        "\n",
        "# 評価\n",
        "score = algorithm.score(x_test, y_test)\n",
        "\n",
        "# 結果確認\n",
        "print(f'score: {score:.4f}')"
      ],
      "execution_count": 20,
      "outputs": [
        {
          "output_type": "stream",
          "text": [
            "score: 0.9649\n"
          ],
          "name": "stdout"
        }
      ]
    },
    {
      "cell_type": "code",
      "metadata": {
        "colab": {
          "base_uri": "https://localhost:8080/"
        },
        "id": "APnyQE5JM7NZ",
        "outputId": "188fe1ee-e182-4e7d-9b4c-4de0d1dcd213"
      },
      "source": [
        "# 混同行列の計算\n",
        "\n",
        "# 必要ライブラリの取り込み\n",
        "from sklearn.metrics import confusion_matrix\n",
        "\n",
        "# 混同行列の生成\n",
        "# y_test : 検証データの正解データ\n",
        "# y_pred : 検証データの予測結果\n",
        "matrix = confusion_matrix(y_test, y_pred)\n",
        "\n",
        "# 結果の確認\n",
        "print(matrix)\n"
      ],
      "execution_count": 21,
      "outputs": [
        {
          "output_type": "stream",
          "text": [
            "[[101   2]\n",
            " [  4  64]]\n"
          ],
          "name": "stdout"
        }
      ]
    },
    {
      "cell_type": "code",
      "metadata": {
        "colab": {
          "base_uri": "https://localhost:8080/",
          "height": 142
        },
        "id": "rQJ8PjN5NDZE",
        "outputId": "8ce47c04-ea2d-498d-ebe1-becfc78e082d"
      },
      "source": [
        "# make_cmを使った混同行列の表示\n",
        "cm = make_cm(matrix, ['良性', '悪性'])\n",
        "display(cm)"
      ],
      "execution_count": 22,
      "outputs": [
        {
          "output_type": "display_data",
          "data": {
            "text/html": [
              "<div>\n",
              "<style scoped>\n",
              "    .dataframe tbody tr th:only-of-type {\n",
              "        vertical-align: middle;\n",
              "    }\n",
              "\n",
              "    .dataframe tbody tr th {\n",
              "        vertical-align: top;\n",
              "    }\n",
              "\n",
              "    .dataframe thead tr th {\n",
              "        text-align: left;\n",
              "    }\n",
              "</style>\n",
              "<table border=\"1\" class=\"dataframe\">\n",
              "  <thead>\n",
              "    <tr>\n",
              "      <th></th>\n",
              "      <th></th>\n",
              "      <th colspan=\"2\" halign=\"left\">予測結果</th>\n",
              "    </tr>\n",
              "    <tr>\n",
              "      <th></th>\n",
              "      <th></th>\n",
              "      <th>良性</th>\n",
              "      <th>悪性</th>\n",
              "    </tr>\n",
              "  </thead>\n",
              "  <tbody>\n",
              "    <tr>\n",
              "      <th rowspan=\"2\" valign=\"top\">正解データ</th>\n",
              "      <th>良性</th>\n",
              "      <td>101</td>\n",
              "      <td>2</td>\n",
              "    </tr>\n",
              "    <tr>\n",
              "      <th>悪性</th>\n",
              "      <td>4</td>\n",
              "      <td>64</td>\n",
              "    </tr>\n",
              "  </tbody>\n",
              "</table>\n",
              "</div>"
            ],
            "text/plain": [
              "         予測結果    \n",
              "           良性  悪性\n",
              "正解データ 良性  101   2\n",
              "      悪性    4  64"
            ]
          },
          "metadata": {
            "tags": []
          }
        }
      ]
    },
    {
      "cell_type": "code",
      "metadata": {
        "colab": {
          "base_uri": "https://localhost:8080/"
        },
        "id": "24Z_En18NUQY",
        "outputId": "1fb19562-f89a-4100-a2cc-16ff927acad2"
      },
      "source": [
        "# 適合率・再現率・F値の計算\n",
        "\n",
        "# ライブラリの読み込み\n",
        "from sklearn.metrics import precision_recall_fscore_support\n",
        "\n",
        "# 適合率・再現率・F値の計算\n",
        "precision, recall, fscore, _ = precision_recall_fscore_support(y_test, y_pred, average='binary')\n",
        "\n",
        "#結果の表示\n",
        "print(f'適合率　: {precision:.4f}')\n",
        "print(f'再現率 : {recall:.4f}')\n",
        "print(f'F値　 : {fscore:.4f}')"
      ],
      "execution_count": 23,
      "outputs": [
        {
          "output_type": "stream",
          "text": [
            "適合率　: 0.9697\n",
            "再現率 : 0.9412\n",
            "F値　 : 0.9552\n"
          ],
          "name": "stdout"
        }
      ]
    },
    {
      "cell_type": "code",
      "metadata": {
        "id": "JrzwGq55NlSz"
      },
      "source": [
        "# 確率値の取得\n",
        "#prdict_proba関数は、確率変数を予測クラスに対して出力\n",
        "#　そのため足し算したら１となるはず\n",
        "y_proba =  algorithm.predict_proba(x_test)\n",
        "\n",
        "y_proba1 = y_proba[:, 1]\n",
        "\n",
        "\n",
        "# ライブラリの導入\n",
        "from sklearn.metrics import precision_recall_curve\n",
        "# 適合率、再現率、閾値の取得\n",
        "precision, recall, thresholds = precision_recall_curve(y_test, y_proba1)\n",
        "\n"
      ],
      "execution_count": 24,
      "outputs": []
    },
    {
      "cell_type": "code",
      "metadata": {
        "colab": {
          "base_uri": "https://localhost:8080/",
          "height": 401
        },
        "id": "ZEorygkWN5de",
        "outputId": "c93235cb-6f56-4268-bc6b-47cd8835ee9c"
      },
      "source": [
        "# 描画サイズ指定\n",
        "plt.figure(figsize=(6,6))\n",
        "# グラフ領域の塗りつぶし\n",
        "plt.fill_between(recall, precision, 0)\n",
        "#x, yの範囲指定\n",
        "plt.xlim([0.0, 1.0])\n",
        "plt.ylim([0.0, 1.0])\n",
        "\n",
        "#ラベル・タイトルの表示\n",
        "plt.xlabel('再現率')\n",
        "plt.ylabel('適合率')\n",
        "plt.title('PR曲線')\n",
        "plt.show()"
      ],
      "execution_count": 25,
      "outputs": [
        {
          "output_type": "display_data",
          "data": {
            "image/png": "[encoded data removed]",
            "text/plain": [
              "<Figure size 432x432 with 1 Axes>"
            ]
          },
          "metadata": {
            "tags": [],
            "needs_background": "light"
          }
        }
      ]
    },
    {
      "cell_type": "code",
      "metadata": {
        "colab": {
          "base_uri": "https://localhost:8080/"
        },
        "id": "jIqHDq6kOD0N",
        "outputId": "35f6c4c9-f158-4a89-bc27-f7f3dadf343e"
      },
      "source": [
        "# PR曲線下面積の計算\n",
        "# 指標としては、0.9以上だと性能が良いとされている\n",
        "# auc ( area under the curve)\n",
        "from sklearn.metrics import auc\n",
        "pr_auc = auc(recall, precision)\n",
        "print(f'PR曲線下面積 : {pr_auc:.4f}')"
      ],
      "execution_count": 26,
      "outputs": [
        {
          "output_type": "stream",
          "text": [
            "PR曲線下面積 : 0.9906\n"
          ],
          "name": "stdout"
        }
      ]
    },
    {
      "cell_type": "code",
      "metadata": {
        "id": "rT0NEsxWOJa1"
      },
      "source": [
        "# ROC 曲線用配列の生成\n",
        "\n",
        "# ライブラリの導入\n",
        "from sklearn.metrics import roc_curve\n",
        "\n",
        "# 偽陽性率、敏感度、閾値の取得\n",
        "# drop_intermediate = False (閾値を変えたときに変化しない時が省略されないように設定)\n",
        "fpr, tpr, thresholds = roc_curve(\n",
        "    y_test, y_proba1, drop_intermediate=False)\n"
      ],
      "execution_count": 27,
      "outputs": []
    },
    {
      "cell_type": "code",
      "metadata": {
        "colab": {
          "base_uri": "https://localhost:8080/",
          "height": 402
        },
        "id": "QMqEkcKIORit",
        "outputId": "ada7f7b6-f39d-41ad-89e9-4cebb360e8c0"
      },
      "source": [
        "# ROC曲線の描画\n",
        "\n",
        "# 描画サイズ指定\n",
        "plt.figure(figsize=(6,6))\n",
        "\n",
        "# 点線の表示\n",
        "plt.plot([0, 1], [0, 1], 'k--')\n",
        "\n",
        "# グラフ領域の塗りつぶし\n",
        "plt.fill_between(fpr, tpr, 0)\n",
        "\n",
        "# x, yの範囲の指定\n",
        "plt.xlim([0.0, 1.0])\n",
        "plt.ylim([0.0, 1.0])\n",
        "\n",
        "# ラベル・タイトルの表示\n",
        "plt.xlabel('偽陽性率')\n",
        "plt.ylabel('敏感度')\n",
        "plt.title('ROC曲線')\n",
        "plt.show()"
      ],
      "execution_count": 28,
      "outputs": [
        {
          "output_type": "display_data",
          "data": {
            "image/png": "[encoded data removed]",
            "text/plain": [
              "<Figure size 432x432 with 1 Axes>"
            ]
          },
          "metadata": {
            "tags": [],
            "needs_background": "light"
          }
        }
      ]
    },
    {
      "cell_type": "code",
      "metadata": {
        "colab": {
          "base_uri": "https://localhost:8080/"
        },
        "id": "ZC8sHfYSOXPh",
        "outputId": "141ff151-e85b-4c10-c003-7803a2f2df3c"
      },
      "source": [
        "# ROC曲線下面積の計算\n",
        "roc_auc = auc(fpr, tpr)\n",
        "print(f'ROC曲線下面積 : {roc_auc:.4f}')"
      ],
      "execution_count": 29,
      "outputs": [
        {
          "output_type": "stream",
          "text": [
            "ROC曲線下面積 : 0.9937\n"
          ],
          "name": "stdout"
        }
      ]
    },
    {
      "cell_type": "markdown",
      "metadata": {
        "id": "AOg_kADeOkWI"
      },
      "source": [
        "### 入力項目の重要度\n",
        "\n",
        "　　予測をするにあたってどの項目がどの程度関与しているか"
      ]
    },
    {
      "cell_type": "code",
      "metadata": {
        "colab": {
          "base_uri": "https://localhost:8080/"
        },
        "id": "Y4RrfIUrObTC",
        "outputId": "54d74b5d-c3e0-4c30-8e48-288c4e0d2b5d"
      },
      "source": [
        "# ランダムフォレストのモデルを作るまで\n",
        "\n",
        "# サンプルデータの読み込み\n",
        "import seaborn as sns\n",
        "df_iris = sns.load_dataset(\"iris\")\n",
        "columns_i = ['がく片長', 'がく片幅', '花弁長', '花弁幅', '種別']\n",
        "df_iris.columns = columns_i\n",
        "\n",
        "# 入力データx\n",
        "x = df_iris[['がく片長', 'がく片幅', '花弁長', '花弁幅']]\n",
        "\n",
        "# 正解データy\n",
        "y = df_iris['種別']\n",
        "\n",
        "# アルゴリズムの選択\n",
        "from sklearn.ensemble import RandomForestClassifier\n",
        "algorithm = RandomForestClassifier(random_state=random_seed)\n",
        "\n",
        "# 学習\n",
        "algorithm.fit(x,y)"
      ],
      "execution_count": 30,
      "outputs": [
        {
          "output_type": "execute_result",
          "data": {
            "text/plain": [
              "RandomForestClassifier(bootstrap=True, ccp_alpha=0.0, class_weight=None,\n",
              "                       criterion='gini', max_depth=None, max_features='auto',\n",
              "                       max_leaf_nodes=None, max_samples=None,\n",
              "                       min_impurity_decrease=0.0, min_impurity_split=None,\n",
              "                       min_samples_leaf=1, min_samples_split=2,\n",
              "                       min_weight_fraction_leaf=0.0, n_estimators=100,\n",
              "                       n_jobs=None, oob_score=False, random_state=123,\n",
              "                       verbose=0, warm_start=False)"
            ]
          },
          "metadata": {
            "tags": []
          },
          "execution_count": 30
        }
      ]
    },
    {
      "cell_type": "code",
      "metadata": {
        "colab": {
          "base_uri": "https://localhost:8080/"
        },
        "id": "Rw-WggzjPoVG",
        "outputId": "853128aa-59d6-4791-b7dc-e78f65771b2d"
      },
      "source": [
        "# 重要ベクトルの取得\n",
        "importances = algorithm.feature_importances_\n",
        "\n",
        "# 項目名をキーにSeriesを生成\n",
        "w = pd.Series(importances, index=x.columns)\n",
        "\n",
        "#　値の大きい順にソート\n",
        "u = w.sort_values(ascending=False)\n",
        "\n",
        "# 結果確認\n",
        "print(u)"
      ],
      "execution_count": 31,
      "outputs": [
        {
          "output_type": "stream",
          "text": [
            "花弁長    0.4611\n",
            "花弁幅    0.4257\n",
            "がく片長   0.0874\n",
            "がく片幅   0.0257\n",
            "dtype: float64\n"
          ],
          "name": "stdout"
        }
      ]
    },
    {
      "cell_type": "code",
      "metadata": {
        "colab": {
          "base_uri": "https://localhost:8080/",
          "height": 310
        },
        "id": "hiFnf6uSQERZ",
        "outputId": "343af102-3126-479c-f347-bd78b8490b5c"
      },
      "source": [
        "# 重要度の棒グラフの表示\n",
        "\n",
        "# 棒グラフ表示\n",
        "plt.bar(range(len(u)), u, color='b', align='center')\n",
        "\n",
        "# 項目名の表示(90度回転)\n",
        "plt.xticks(range(len(u)), u.index, rotation=90)\n",
        "\n",
        "#　タイトルの表示\n",
        "plt.title('入力変数の重要度')\n",
        "\n",
        "plt.show()"
      ],
      "execution_count": 32,
      "outputs": [
        {
          "output_type": "display_data",
          "data": {
            "image/png": "[encoded data removed]",
            "text/plain": [
              "<Figure size 432x288 with 1 Axes>"
            ]
          },
          "metadata": {
            "tags": [],
            "needs_background": "light"
          }
        }
      ]
    },
    {
      "cell_type": "markdown",
      "metadata": {
        "id": "wBzIqmGdQrvm"
      },
      "source": [
        "# 課題\n",
        "\n",
        "　入力変数の重要度を探索木やXGBoostを用いて比較を行うこと"
      ]
    },
    {
      "cell_type": "code",
      "metadata": {
        "colab": {
          "base_uri": "https://localhost:8080/"
        },
        "id": "9ChyJS10QrQX",
        "outputId": "ef8e7c6b-c9c4-4e0e-c5af-5a8ad7b0d1c8"
      },
      "source": [
        "# 学習\n",
        "from sklearn.tree import DecisionTreeClassifier\n",
        "algorithm = DecisionTreeClassifier(random_state=random_seed)\n",
        "\n",
        "# 学習\n",
        "algorithm.fit(x,y)\n"
      ],
      "execution_count": 33,
      "outputs": [
        {
          "output_type": "execute_result",
          "data": {
            "text/plain": [
              "DecisionTreeClassifier(ccp_alpha=0.0, class_weight=None, criterion='gini',\n",
              "                       max_depth=None, max_features=None, max_leaf_nodes=None,\n",
              "                       min_impurity_decrease=0.0, min_impurity_split=None,\n",
              "                       min_samples_leaf=1, min_samples_split=2,\n",
              "                       min_weight_fraction_leaf=0.0, presort='deprecated',\n",
              "                       random_state=123, splitter='best')"
            ]
          },
          "metadata": {
            "tags": []
          },
          "execution_count": 33
        }
      ]
    },
    {
      "cell_type": "code",
      "metadata": {
        "colab": {
          "base_uri": "https://localhost:8080/"
        },
        "id": "2kyIiO5uQhxz",
        "outputId": "3b84bda0-63b4-4e07-b645-ac0c851f31ca"
      },
      "source": [
        "# 重要ベクトルの取得\n",
        "importances = algorithm.feature_importances_\n",
        "\n",
        "# 項目名をキーにSeriesを生成\n",
        "w = pd.Series(importances, index=x.columns)\n",
        "\n",
        "#　値の大きい順にソート\n",
        "u = w.sort_values(ascending=False)\n",
        "\n",
        "# 結果確認\n",
        "print(u)"
      ],
      "execution_count": 34,
      "outputs": [
        {
          "output_type": "stream",
          "text": [
            "花弁長    0.5507\n",
            "花弁幅    0.4226\n",
            "がく片長   0.0267\n",
            "がく片幅   0.0000\n",
            "dtype: float64\n"
          ],
          "name": "stdout"
        }
      ]
    },
    {
      "cell_type": "code",
      "metadata": {
        "colab": {
          "base_uri": "https://localhost:8080/",
          "height": 311
        },
        "id": "rUsGAjD-RRWu",
        "outputId": "40bf9071-ad46-4085-dc37-e7e44efc69e3"
      },
      "source": [
        "# 重要度の棒グラフの表示\n",
        "\n",
        "# 棒グラフ表示\n",
        "plt.bar(range(len(u)), u, color='b', align='center')\n",
        "\n",
        "# 項目名の表示(90度回転)\n",
        "plt.xticks(range(len(u)), u.index, rotation=90)\n",
        "\n",
        "#　タイトルの表示\n",
        "plt.title('入力変数の重要度(決定木)')\n",
        "\n",
        "plt.show()"
      ],
      "execution_count": 35,
      "outputs": [
        {
          "output_type": "display_data",
          "data": {
            "image/png": "[encoded data removed]",
            "text/plain": [
              "<Figure size 432x288 with 1 Axes>"
            ]
          },
          "metadata": {
            "tags": [],
            "needs_background": "light"
          }
        }
      ]
    },
    {
      "cell_type": "code",
      "metadata": {
        "colab": {
          "base_uri": "https://localhost:8080/"
        },
        "id": "aXCnn6yyRfXN",
        "outputId": "52bab9f5-cd25-455a-943b-8a9ad29b3db9"
      },
      "source": [
        "# アルゴリズムの選択\n",
        "import xgboost\n",
        "algorithm = xgboost.XGBClassifier(random_state=random_seed)\n",
        "\n",
        "# 学習\n",
        "algorithm.fit(x,y)"
      ],
      "execution_count": 36,
      "outputs": [
        {
          "output_type": "execute_result",
          "data": {
            "text/plain": [
              "XGBClassifier(base_score=0.5, booster='gbtree', colsample_bylevel=1,\n",
              "              colsample_bynode=1, colsample_bytree=1, gamma=0,\n",
              "              learning_rate=0.1, max_delta_step=0, max_depth=3,\n",
              "              min_child_weight=1, missing=None, n_estimators=100, n_jobs=1,\n",
              "              nthread=None, objective='multi:softprob', random_state=123,\n",
              "              reg_alpha=0, reg_lambda=1, scale_pos_weight=1, seed=None,\n",
              "              silent=None, subsample=1, verbosity=1)"
            ]
          },
          "metadata": {
            "tags": []
          },
          "execution_count": 36
        }
      ]
    },
    {
      "cell_type": "code",
      "metadata": {
        "colab": {
          "base_uri": "https://localhost:8080/"
        },
        "id": "PF4kDXfeRnqf",
        "outputId": "49f25cde-f9f4-444f-8630-5100825a1cdb"
      },
      "source": [
        "# 重要ベクトルの取得\n",
        "importances = algorithm.feature_importances_\n",
        "\n",
        "# 項目名をキーにSeriesを生成\n",
        "w = pd.Series(importances, index=x.columns)\n",
        "\n",
        "#　値の大きい順にソート\n",
        "u = w.sort_values(ascending=False)\n",
        "\n",
        "# 結果確認\n",
        "print(u)"
      ],
      "execution_count": 37,
      "outputs": [
        {
          "output_type": "stream",
          "text": [
            "花弁長    0.5958\n",
            "花弁幅    0.3582\n",
            "がく片幅   0.0335\n",
            "がく片長   0.0125\n",
            "dtype: float32\n"
          ],
          "name": "stdout"
        }
      ]
    },
    {
      "cell_type": "code",
      "metadata": {
        "colab": {
          "base_uri": "https://localhost:8080/",
          "height": 311
        },
        "id": "TDU6I__rRt1J",
        "outputId": "0f191479-bb79-46f5-f852-18b9d0eedf46"
      },
      "source": [
        "# 重要度の棒グラフの表示\n",
        "\n",
        "# 棒グラフ表示\n",
        "plt.bar(range(len(u)), u, color='b', align='center')\n",
        "\n",
        "# 項目名の表示(90度回転)\n",
        "plt.xticks(range(len(u)), u.index, rotation=90)\n",
        "\n",
        "#　タイトルの表示\n",
        "plt.title('入力変数の重要度(XGBoost)')\n",
        "\n",
        "plt.show()"
      ],
      "execution_count": 38,
      "outputs": [
        {
          "output_type": "display_data",
          "data": {
            "image/png": "[encoded data removed]",
            "text/plain": [
              "<Figure size 432x288 with 1 Axes>"
            ]
          },
          "metadata": {
            "tags": [],
            "needs_background": "light"
          }
        }
      ]
    },
    {
      "cell_type": "markdown",
      "metadata": {
        "id": "h64iRHzrR2Fg"
      },
      "source": [
        "以上の結果から　**ほとんどの判断は花弁長と花弁幅で行われている**"
      ]
    },
    {
      "cell_type": "markdown",
      "metadata": {
        "id": "TRo2iMxbSA_1"
      },
      "source": [
        "### 回帰のモデルの評価方法\n",
        "\n",
        " 　今までは、「分類」の評価をおこなってきた。\n",
        "\n",
        " 　もう一つの「教師あり学習」の処理パターンである「回帰」の評価方法\n",
        "\n",
        " **分類と回帰モデルの違い**\n",
        "\n",
        "  分類　：　０または１という決まった値をとる\n",
        "  \n",
        "  回帰　：　数値をとる\n",
        "\n",
        "**回帰の評価の難しさ**\n",
        "\n",
        " 分類の場合は　：　あっているかはずれているかという単純な評価が可能\n",
        "\n",
        " 回帰は、「値」を予測する処理パターンなので, 簡単な割り算での評価は難しい\n",
        " \n",
        "　　**正解データと予測結果の差を評価する**\n",
        "\n",
        " **決定係数($R^{2}$値）**　：　予測結果の大きさを気にせずに使える代表的な評価値\n",
        "\n",
        " 　予測結果と正解データが全てのデータでぴったり一致する理想的な素速の場合　：　１になる\n",
        " \n",
        " 　どの入力データでも予測結果が同じになる「何もしないモデル」の場合　：　０になる\n",
        "\n",
        " 　→　１に近い値になると性能が良い\n",
        " \n",
        "  \n"
      ]
    },
    {
      "cell_type": "code",
      "metadata": {
        "id": "19rslv_qRwVj",
        "colab": {
          "base_uri": "https://localhost:8080/",
          "height": 408
        },
        "outputId": "07cd195a-51ae-4c6d-fd7f-ad6ba97c4f1c"
      },
      "source": [
        "#データ読み込みからデータ分割まで\n",
        "\n",
        "# データ読み込み(ボストン・データセット)\n",
        "from sklearn.datasets import load_boston\n",
        "boston = load_boston()\n",
        "\n",
        "# df: 入力データ\n",
        "df = pd.DataFrame(boston.data, columns=boston.feature_names)\n",
        "\n",
        "# y: 正解データ\n",
        "y = boston.target\n",
        "\n",
        "# 1項目だけの入力データ df1を作る\n",
        "df1 = df[['RM']]\n",
        "\n",
        "# 結果確認\n",
        "display(df.head())\n",
        "display(df1.head())\n",
        "print(y[:5])"
      ],
      "execution_count": 40,
      "outputs": [
        {
          "output_type": "display_data",
          "data": {
            "text/html": [
              "<div>\n",
              "<style scoped>\n",
              "    .dataframe tbody tr th:only-of-type {\n",
              "        vertical-align: middle;\n",
              "    }\n",
              "\n",
              "    .dataframe tbody tr th {\n",
              "        vertical-align: top;\n",
              "    }\n",
              "\n",
              "    .dataframe thead th {\n",
              "        text-align: right;\n",
              "    }\n",
              "</style>\n",
              "<table border=\"1\" class=\"dataframe\">\n",
              "  <thead>\n",
              "    <tr style=\"text-align: right;\">\n",
              "      <th></th>\n",
              "      <th>CRIM</th>\n",
              "      <th>ZN</th>\n",
              "      <th>INDUS</th>\n",
              "      <th>CHAS</th>\n",
              "      <th>NOX</th>\n",
              "      <th>RM</th>\n",
              "      <th>AGE</th>\n",
              "      <th>DIS</th>\n",
              "      <th>RAD</th>\n",
              "      <th>TAX</th>\n",
              "      <th>PTRATIO</th>\n",
              "      <th>B</th>\n",
              "      <th>LSTAT</th>\n",
              "    </tr>\n",
              "  </thead>\n",
              "  <tbody>\n",
              "    <tr>\n",
              "      <th>0</th>\n",
              "      <td>0.0063</td>\n",
              "      <td>18.0000</td>\n",
              "      <td>2.3100</td>\n",
              "      <td>0.0000</td>\n",
              "      <td>0.5380</td>\n",
              "      <td>6.5750</td>\n",
              "      <td>65.2000</td>\n",
              "      <td>4.0900</td>\n",
              "      <td>1.0000</td>\n",
              "      <td>296.0000</td>\n",
              "      <td>15.3000</td>\n",
              "      <td>396.9000</td>\n",
              "      <td>4.9800</td>\n",
              "    </tr>\n",
              "    <tr>\n",
              "      <th>1</th>\n",
              "      <td>0.0273</td>\n",
              "      <td>0.0000</td>\n",
              "      <td>7.0700</td>\n",
              "      <td>0.0000</td>\n",
              "      <td>0.4690</td>\n",
              "      <td>6.4210</td>\n",
              "      <td>78.9000</td>\n",
              "      <td>4.9671</td>\n",
              "      <td>2.0000</td>\n",
              "      <td>242.0000</td>\n",
              "      <td>17.8000</td>\n",
              "      <td>396.9000</td>\n",
              "      <td>9.1400</td>\n",
              "    </tr>\n",
              "    <tr>\n",
              "      <th>2</th>\n",
              "      <td>0.0273</td>\n",
              "      <td>0.0000</td>\n",
              "      <td>7.0700</td>\n",
              "      <td>0.0000</td>\n",
              "      <td>0.4690</td>\n",
              "      <td>7.1850</td>\n",
              "      <td>61.1000</td>\n",
              "      <td>4.9671</td>\n",
              "      <td>2.0000</td>\n",
              "      <td>242.0000</td>\n",
              "      <td>17.8000</td>\n",
              "      <td>392.8300</td>\n",
              "      <td>4.0300</td>\n",
              "    </tr>\n",
              "    <tr>\n",
              "      <th>3</th>\n",
              "      <td>0.0324</td>\n",
              "      <td>0.0000</td>\n",
              "      <td>2.1800</td>\n",
              "      <td>0.0000</td>\n",
              "      <td>0.4580</td>\n",
              "      <td>6.9980</td>\n",
              "      <td>45.8000</td>\n",
              "      <td>6.0622</td>\n",
              "      <td>3.0000</td>\n",
              "      <td>222.0000</td>\n",
              "      <td>18.7000</td>\n",
              "      <td>394.6300</td>\n",
              "      <td>2.9400</td>\n",
              "    </tr>\n",
              "    <tr>\n",
              "      <th>4</th>\n",
              "      <td>0.0691</td>\n",
              "      <td>0.0000</td>\n",
              "      <td>2.1800</td>\n",
              "      <td>0.0000</td>\n",
              "      <td>0.4580</td>\n",
              "      <td>7.1470</td>\n",
              "      <td>54.2000</td>\n",
              "      <td>6.0622</td>\n",
              "      <td>3.0000</td>\n",
              "      <td>222.0000</td>\n",
              "      <td>18.7000</td>\n",
              "      <td>396.9000</td>\n",
              "      <td>5.3300</td>\n",
              "    </tr>\n",
              "  </tbody>\n",
              "</table>\n",
              "</div>"
            ],
            "text/plain": [
              "    CRIM      ZN  INDUS   CHAS    NOX     RM     AGE    DIS    RAD      TAX  \\\n",
              "0 0.0063 18.0000 2.3100 0.0000 0.5380 6.5750 65.2000 4.0900 1.0000 296.0000   \n",
              "1 0.0273  0.0000 7.0700 0.0000 0.4690 6.4210 78.9000 4.9671 2.0000 242.0000   \n",
              "2 0.0273  0.0000 7.0700 0.0000 0.4690 7.1850 61.1000 4.9671 2.0000 242.0000   \n",
              "3 0.0324  0.0000 2.1800 0.0000 0.4580 6.9980 45.8000 6.0622 3.0000 222.0000   \n",
              "4 0.0691  0.0000 2.1800 0.0000 0.4580 7.1470 54.2000 6.0622 3.0000 222.0000   \n",
              "\n",
              "   PTRATIO        B  LSTAT  \n",
              "0  15.3000 396.9000 4.9800  \n",
              "1  17.8000 396.9000 9.1400  \n",
              "2  17.8000 392.8300 4.0300  \n",
              "3  18.7000 394.6300 2.9400  \n",
              "4  18.7000 396.9000 5.3300  "
            ]
          },
          "metadata": {
            "tags": []
          }
        },
        {
          "output_type": "display_data",
          "data": {
            "text/html": [
              "<div>\n",
              "<style scoped>\n",
              "    .dataframe tbody tr th:only-of-type {\n",
              "        vertical-align: middle;\n",
              "    }\n",
              "\n",
              "    .dataframe tbody tr th {\n",
              "        vertical-align: top;\n",
              "    }\n",
              "\n",
              "    .dataframe thead th {\n",
              "        text-align: right;\n",
              "    }\n",
              "</style>\n",
              "<table border=\"1\" class=\"dataframe\">\n",
              "  <thead>\n",
              "    <tr style=\"text-align: right;\">\n",
              "      <th></th>\n",
              "      <th>RM</th>\n",
              "    </tr>\n",
              "  </thead>\n",
              "  <tbody>\n",
              "    <tr>\n",
              "      <th>0</th>\n",
              "      <td>6.5750</td>\n",
              "    </tr>\n",
              "    <tr>\n",
              "      <th>1</th>\n",
              "      <td>6.4210</td>\n",
              "    </tr>\n",
              "    <tr>\n",
              "      <th>2</th>\n",
              "      <td>7.1850</td>\n",
              "    </tr>\n",
              "    <tr>\n",
              "      <th>3</th>\n",
              "      <td>6.9980</td>\n",
              "    </tr>\n",
              "    <tr>\n",
              "      <th>4</th>\n",
              "      <td>7.1470</td>\n",
              "    </tr>\n",
              "  </tbody>\n",
              "</table>\n",
              "</div>"
            ],
            "text/plain": [
              "      RM\n",
              "0 6.5750\n",
              "1 6.4210\n",
              "2 7.1850\n",
              "3 6.9980\n",
              "4 7.1470"
            ]
          },
          "metadata": {
            "tags": []
          }
        },
        {
          "output_type": "stream",
          "text": [
            "[24.  21.6 34.7 33.4 36.2]\n"
          ],
          "name": "stdout"
        }
      ]
    },
    {
      "cell_type": "markdown",
      "metadata": {
        "id": "8JXIkTaD6xMJ"
      },
      "source": [
        "データ　「ボストン・データセット」　　→　回帰モデルでよく使われるデータセット\n",
        "\n",
        "algorithm 1: 「ボストンデータセット」の入力項目のうち, 特定の項目(RM)のいを用いて学習と予測を実施　 \\\\\n",
        "予測結果をy_pred1として取得\n",
        "\n",
        "algorithm2 : 「ボストンデータセット」の入力全13項目を用いて学習・予測を実施 \\\\\n",
        "予測結果をy_pred2として取得"
      ]
    },
    {
      "cell_type": "code",
      "metadata": {
        "id": "WICx2fwX6rqr"
      },
      "source": [
        "# アルゴリズム選定から予測まで\n",
        "\n",
        "# アルゴリズム: XGBRegressor\n",
        "from xgboost import XGBRegressor\n",
        "algorithm1 = XGBRegressor(objective ='reg:squarederror',\n",
        "    random_state=random_seed)\n",
        "\n",
        "# 学習 (入力データにdf1を利用)\n",
        "algorithm1.fit(df1, y)\n",
        "\n",
        "# 予測\n",
        "y_pred1 = algorithm1.predict(df1)\n",
        "\n",
        "\n",
        "# アルゴリズム: XGBRegressor\n",
        "from xgboost import XGBRegressor\n",
        "algorithm2 = XGBRegressor(objective ='reg:squarederror',\n",
        "    random_state=random_seed)\n",
        "\n",
        "# 学習 (入力データにdfを利用)\n",
        "algorithm2.fit(df, y)\n",
        "\n",
        "# 予測\n",
        "y_pred2 = algorithm2.predict(df)"
      ],
      "execution_count": 41,
      "outputs": []
    },
    {
      "cell_type": "code",
      "metadata": {
        "colab": {
          "base_uri": "https://localhost:8080/"
        },
        "id": "kIDDhwtd7d1Q",
        "outputId": "3b531954-24b3-4b66-fa00-3e15ed70e13e"
      },
      "source": [
        "#結果確認\n",
        "\n",
        "print(f'y[:5] {y[:5]}')\n",
        "print(f'y_pred1[:5] {y_pred1[:5]}')\n",
        "print(f'y_pred2[:5] {y_pred2[:5]}')"
      ],
      "execution_count": 43,
      "outputs": [
        {
          "output_type": "stream",
          "text": [
            "y[:5] [24.  21.6 34.7 33.4 36.2]\n",
            "y_pred1[:5] [25.438  20.3028 33.6333 31.4608 33.9829]\n",
            "y_pred2[:5] [26.6479 22.2483 34.0721 34.315  35.4908]\n"
          ],
          "name": "stdout"
        }
      ]
    },
    {
      "cell_type": "code",
      "metadata": {
        "colab": {
          "base_uri": "https://localhost:8080/"
        },
        "id": "1W12j0pn7x0e",
        "outputId": "cd67e19c-944e-486a-c45f-f2da5835cf39"
      },
      "source": [
        "# 評価１　：散布図による評価\n",
        "# yの最大値と最小値の計算\n",
        "y_range = np.array([y.min(), y.max()])\n",
        "\n",
        "#結果確認\n",
        "print(y_range)"
      ],
      "execution_count": 44,
      "outputs": [
        {
          "output_type": "stream",
          "text": [
            "[ 5. 50.]\n"
          ],
          "name": "stdout"
        }
      ]
    },
    {
      "cell_type": "code",
      "metadata": {
        "colab": {
          "base_uri": "https://localhost:8080/",
          "height": 403
        },
        "id": "8SWtVcHS8Hgn",
        "outputId": "2de04543-668e-4e7a-acec-618ae356a063"
      },
      "source": [
        "# 散布図による結果確認　(1入力変数)\n",
        "\n",
        "# 描画サイズ指定\n",
        "plt.figure(figsize=(6,6))\n",
        "\n",
        "#　散布図\n",
        "plt.scatter(y, y_pred1)\n",
        "\n",
        "# 正解データ＝予測結果の直線\n",
        "plt.plot(y_range, y_range, 'k--')\n",
        "\n",
        "# ラベル・タイトル\n",
        "plt.xlabel('正解データ')\n",
        "plt.ylabel('予測結果')\n",
        "plt.title('正解データと予測結果の散布図表示(1入力変数)')\n",
        "\n",
        "plt.show()"
      ],
      "execution_count": 46,
      "outputs": [
        {
          "output_type": "display_data",
          "data": {
            "image/png": "[encoded data removed]",
            "text/plain": [
              "<Figure size 432x432 with 1 Axes>"
            ]
          },
          "metadata": {
            "tags": [],
            "needs_background": "light"
          }
        }
      ]
    },
    {
      "cell_type": "markdown",
      "metadata": {
        "id": "-llxOIyA8xah"
      },
      "source": [
        "# 課題\n",
        "\n",
        "　 全入力を挿入した場合の散布図も作成して性能がどうかを比較せよ"
      ]
    },
    {
      "cell_type": "code",
      "metadata": {
        "colab": {
          "base_uri": "https://localhost:8080/",
          "height": 403
        },
        "id": "xdQuwjxG8o9-",
        "outputId": "ba039bf8-63a8-4162-ecf0-f68c9a5b73ca"
      },
      "source": [
        "# 散布図による結果確認　(全13項目変数)\n",
        "\n",
        "# 描画サイズ指定\n",
        "plt.figure(figsize=(6,6))\n",
        "\n",
        "#　散布図\n",
        "plt.scatter(y, y_pred2)\n",
        "\n",
        "# 正解データ＝予測結果の直線\n",
        "plt.plot(y_range, y_range, 'k--')\n",
        "\n",
        "# ラベル・タイトル\n",
        "plt.xlabel('正解データ')\n",
        "plt.ylabel('予測結果')\n",
        "plt.title('正解データと予測結果の散布図表示(全13項目変数)')\n",
        "\n",
        "plt.show()"
      ],
      "execution_count": 48,
      "outputs": [
        {
          "output_type": "display_data",
          "data": {
            "image/png": "[encoded data removed]",
            "text/plain": [
              "<Figure size 432x432 with 1 Axes>"
            ]
          },
          "metadata": {
            "tags": [],
            "needs_background": "light"
          }
        }
      ]
    },
    {
      "cell_type": "code",
      "metadata": {
        "colab": {
          "base_uri": "https://localhost:8080/"
        },
        "id": "cOQb08nv8_0r",
        "outputId": "3392c1fc-83c2-4499-91ff-efa1fe61b207"
      },
      "source": [
        "#r2 scoreの計算 (1入力変数)\n",
        "from sklearn.metrics import r2_score\n",
        "r2_score1 = r2_score(y, y_pred1)\n",
        "print(f'R2 score(1入力変数) : {r2_score1:.4f}')"
      ],
      "execution_count": 52,
      "outputs": [
        {
          "output_type": "stream",
          "text": [
            "R2 score(1入力変数) : 0.7424\n"
          ],
          "name": "stdout"
        }
      ]
    },
    {
      "cell_type": "code",
      "metadata": {
        "colab": {
          "base_uri": "https://localhost:8080/"
        },
        "id": "G-GQU5029aMc",
        "outputId": "5d44d5b1-f9fa-4362-f8b6-f908ac25c45b"
      },
      "source": [
        "#r2 scoreの計算　（全13入力変数)\n",
        "r2_score2 = r2_score(y, y_pred2)\n",
        "print(f'R2 scofe(全13入力変数): {r2_score2:.4f}')"
      ],
      "execution_count": 53,
      "outputs": [
        {
          "output_type": "stream",
          "text": [
            "R2 scofe(全13入力変数): 0.9720\n"
          ],
          "name": "stdout"
        }
      ]
    },
    {
      "cell_type": "code",
      "metadata": {
        "id": "C2HvGVmF93kq"
      },
      "source": [
        ""
      ],
      "execution_count": null,
      "outputs": []
    }
  ]
}