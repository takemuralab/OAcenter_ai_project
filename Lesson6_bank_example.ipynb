{
  "nbformat": 4,
  "nbformat_minor": 0,
  "metadata": {
    "colab": {
      "name": "Lesson6_bank_example.ipynb",
      "provenance": [],
      "collapsed_sections": []
    },
    "kernelspec": {
      "name": "python3",
      "display_name": "Python 3"
    }
  },
  "cells": [
    {
      "cell_type": "markdown",
      "metadata": {
        "id": "OaJ3SH5-Zabs"
      },
      "source": [
        "# 業務要件と処理パターン (1)\n",
        "## 営業成約予測　(分類）\n",
        "\n",
        " 顧客に営業活動をしたときに、顧客が実際に商品を購入するかどうかを予測するモデル\n",
        "\n",
        " 処理パターン　：　　分類\n",
        " \n",
        " 学習　：　教師あり学習 \\\\\n",
        " \n",
        " データをもとに分析し, 成約確度の高い顧客を絞り込めて営業効率が上がることが目標\n",
        "\n",
        "　「成功の見込みあり」と予測した顧客に対して実際に営業活動をした場合にせいかうするのかの比率が重要 \\\\\n",
        " →　**「適合率」**に該当する. \n",
        "\n",
        " 一方で、同じ営業成約を予測するような業務利用シーンでも**「再現率」**を併せて考慮する必要がある\n",
        "\n",
        " 例：　営業要員が十分んいいるが、モデルで絞り込んだ顧客だけだとアプローチする対象が足りない場合 \\\\\n",
        " →　成約できる潜在顧客のうち、どれだけ多くの割合にアプローチできるかを意味する**再現率**をみれるようにする\n",
        "\n",
        " AIが使える根拠　→　正解データの入手が容易, 営業の成功率はもともと低いことが多いので成功率をあげるという点でAI効果がわかりやすい\n",
        "\n"
      ]
    },
    {
      "cell_type": "code",
      "metadata": {
        "colab": {
          "base_uri": "https://localhost:8080/"
        },
        "id": "3W4W3TZQZQhP",
        "outputId": "ff7656fa-4cb1-424c-9484-715591a7ce1a"
      },
      "source": [
        "# 日本語化ライブラリの導入\n",
        "\n",
        "!pip install japanize-matplotlib | tail -n 1\n",
        "\n",
        "# 共通事前処理\n",
        "\n",
        "# 余分なワーニングを非表示にする\n",
        "import warnings\n",
        "warnings.filterwarnings('ignore')\n",
        "\n",
        "# 必要ライブラリのimport\n",
        "import pandas as pd\n",
        "import numpy as np\n",
        "import matplotlib.pyplot as plt\n",
        "\n",
        "# matplotlib日本語化対応\n",
        "import japanize_matplotlib\n",
        "\n",
        "# データフレーム表示用関数\n",
        "from IPython.display import display\n",
        "\n",
        "# 表示オプション調整\n",
        "# numpyの浮動小数点の表示精度\n",
        "np.set_printoptions(suppress=True, precision=4)\n",
        "# pandasでの浮動小数点の表示精度\n",
        "pd.options.display.float_format = '{:.4f}'.format\n",
        "# データフレームですべての項目を表示\n",
        "pd.set_option(\"display.max_columns\",None)\n",
        "# グラフのデフォルトフォント指定\n",
        "plt.rcParams[\"font.size\"] = 14\n",
        "# 乱数の種\n",
        "random_seed = 123"
      ],
      "execution_count": 2,
      "outputs": [
        {
          "output_type": "stream",
          "text": [
            "Successfully installed japanize-matplotlib-1.1.3\n"
          ],
          "name": "stdout"
        }
      ]
    },
    {
      "cell_type": "code",
      "metadata": {
        "id": "ycRxMpwifBVJ"
      },
      "source": [
        "# 混同行列表示用関数\n",
        "\n",
        "def make_cm(matrix, columns):\n",
        "    # matrix numpy配列\n",
        "    \n",
        "    # columns 項目名リスト\n",
        "    n = len(columns)\n",
        "    \n",
        "    # '正解データ'をn回繰り返すリスト生成\n",
        "    act = ['正解データ'] * n\n",
        "    pred = ['予測結果'] * n\n",
        "    \n",
        "    #データフレーム生成\n",
        "    cm = pd.DataFrame(matrix, \n",
        "        columns=[pred, columns], index=[act, columns])\n",
        "    return cm"
      ],
      "execution_count": 3,
      "outputs": []
    },
    {
      "cell_type": "markdown",
      "metadata": {
        "id": "mjR1Q2FpZYHb"
      },
      "source": [
        "*例題データ*\n",
        "　\n",
        "　　　公開データセット　：Bank Marketing Data Set  (銀行営業データセット）\n",
        "\n",
        " https://archive.ics.uci.edu/ml/datasets/Bank+Marketing\n",
        "\n",
        " 入力変数 : 年齢, 職業, 学歴, 債務不履行, 平均残高, 住宅ローン, 個人ローン, 連絡手段, 最終通話日, 最終通話月, 最後通話秒数, 通話回数(促進中), 前回販促後経過日数, 通話回数(販促前）, 前回販促結果\n",
        "\n",
        " 目的変数 : 今回販促結果\n",
        "\n",
        " テレマーケティングしている組織の営業結果を後悔したもの\n",
        "\n",
        " 顧客の属性（年齢や職業)と顧客に対する営業記録を入力している　　\n",
        "\n",
        " \n"
      ]
    },
    {
      "cell_type": "code",
      "metadata": {
        "colab": {
          "base_uri": "https://localhost:8080/"
        },
        "id": "Bby-sL9_cNsp",
        "outputId": "4314b13c-8094-41fa-b8e2-fac3a31294f1"
      },
      "source": [
        "# 公開データのダウンロードと解凍\n",
        "!wget https://archive.ics.uci.edu/ml/\\\n",
        "machine-learning-databases/00222/bank.zip\n",
        "!unzip -o bank.zip\n",
        "\n",
        "# bank-full.csvをデータフレームに取り込み\n",
        "df_all = pd.read_csv('bank-full.csv', sep=';')\n",
        "\n",
        "# 項目名を日本語に置き換える\n",
        "columns = [\n",
        "    '年齢', '職業', '婚姻', '学歴', '債務不履行', '平均残高',\n",
        "    '住宅ローン', '個人ローン', '連絡手段', '最終通話日',\n",
        "    '最終通話月', '最終通話秒数', '通話回数_販促中',\n",
        "    '前回販促後_経過日数', '通話回数_販促前', '前回販促結果',\n",
        "    '今回販促結果'\n",
        "]\n",
        "df_all.columns = columns"
      ],
      "execution_count": 4,
      "outputs": [
        {
          "output_type": "stream",
          "text": [
            "--2021-01-05 03:14:17--  https://archive.ics.uci.edu/ml/machine-learning-databases/00222/bank.zip\n",
            "Resolving archive.ics.uci.edu (archive.ics.uci.edu)... 128.195.10.252\n",
            "Connecting to archive.ics.uci.edu (archive.ics.uci.edu)|128.195.10.252|:443... connected.\n",
            "HTTP request sent, awaiting response... 200 OK\n",
            "Length: 579043 (565K) [application/x-httpd-php]\n",
            "Saving to: ‘bank.zip’\n",
            "\n",
            "bank.zip            100%[===================>] 565.47K  2.11MB/s    in 0.3s    \n",
            "\n",
            "2021-01-05 03:14:18 (2.11 MB/s) - ‘bank.zip’ saved [579043/579043]\n",
            "\n",
            "Archive:  bank.zip\n",
            "  inflating: bank-full.csv           \n",
            "  inflating: bank-names.txt          \n",
            "  inflating: bank.csv                \n"
          ],
          "name": "stdout"
        }
      ]
    },
    {
      "cell_type": "code",
      "metadata": {
        "colab": {
          "base_uri": "https://localhost:8080/",
          "height": 238
        },
        "id": "FSEVQtrleRa1",
        "outputId": "0234432e-5b89-41d7-9935-00dde060ff88"
      },
      "source": [
        "# データフレームの確認\n",
        "display(df_all.head())"
      ],
      "execution_count": 5,
      "outputs": [
        {
          "output_type": "display_data",
          "data": {
            "text/html": [
              "<div>\n",
              "<style scoped>\n",
              "    .dataframe tbody tr th:only-of-type {\n",
              "        vertical-align: middle;\n",
              "    }\n",
              "\n",
              "    .dataframe tbody tr th {\n",
              "        vertical-align: top;\n",
              "    }\n",
              "\n",
              "    .dataframe thead th {\n",
              "        text-align: right;\n",
              "    }\n",
              "</style>\n",
              "<table border=\"1\" class=\"dataframe\">\n",
              "  <thead>\n",
              "    <tr style=\"text-align: right;\">\n",
              "      <th></th>\n",
              "      <th>年齢</th>\n",
              "      <th>職業</th>\n",
              "      <th>婚姻</th>\n",
              "      <th>学歴</th>\n",
              "      <th>債務不履行</th>\n",
              "      <th>平均残高</th>\n",
              "      <th>住宅ローン</th>\n",
              "      <th>個人ローン</th>\n",
              "      <th>連絡手段</th>\n",
              "      <th>最終通話日</th>\n",
              "      <th>最終通話月</th>\n",
              "      <th>最終通話秒数</th>\n",
              "      <th>通話回数_販促中</th>\n",
              "      <th>前回販促後_経過日数</th>\n",
              "      <th>通話回数_販促前</th>\n",
              "      <th>前回販促結果</th>\n",
              "      <th>今回販促結果</th>\n",
              "    </tr>\n",
              "  </thead>\n",
              "  <tbody>\n",
              "    <tr>\n",
              "      <th>0</th>\n",
              "      <td>58</td>\n",
              "      <td>management</td>\n",
              "      <td>married</td>\n",
              "      <td>tertiary</td>\n",
              "      <td>no</td>\n",
              "      <td>2143</td>\n",
              "      <td>yes</td>\n",
              "      <td>no</td>\n",
              "      <td>unknown</td>\n",
              "      <td>5</td>\n",
              "      <td>may</td>\n",
              "      <td>261</td>\n",
              "      <td>1</td>\n",
              "      <td>-1</td>\n",
              "      <td>0</td>\n",
              "      <td>unknown</td>\n",
              "      <td>no</td>\n",
              "    </tr>\n",
              "    <tr>\n",
              "      <th>1</th>\n",
              "      <td>44</td>\n",
              "      <td>technician</td>\n",
              "      <td>single</td>\n",
              "      <td>secondary</td>\n",
              "      <td>no</td>\n",
              "      <td>29</td>\n",
              "      <td>yes</td>\n",
              "      <td>no</td>\n",
              "      <td>unknown</td>\n",
              "      <td>5</td>\n",
              "      <td>may</td>\n",
              "      <td>151</td>\n",
              "      <td>1</td>\n",
              "      <td>-1</td>\n",
              "      <td>0</td>\n",
              "      <td>unknown</td>\n",
              "      <td>no</td>\n",
              "    </tr>\n",
              "    <tr>\n",
              "      <th>2</th>\n",
              "      <td>33</td>\n",
              "      <td>entrepreneur</td>\n",
              "      <td>married</td>\n",
              "      <td>secondary</td>\n",
              "      <td>no</td>\n",
              "      <td>2</td>\n",
              "      <td>yes</td>\n",
              "      <td>yes</td>\n",
              "      <td>unknown</td>\n",
              "      <td>5</td>\n",
              "      <td>may</td>\n",
              "      <td>76</td>\n",
              "      <td>1</td>\n",
              "      <td>-1</td>\n",
              "      <td>0</td>\n",
              "      <td>unknown</td>\n",
              "      <td>no</td>\n",
              "    </tr>\n",
              "    <tr>\n",
              "      <th>3</th>\n",
              "      <td>47</td>\n",
              "      <td>blue-collar</td>\n",
              "      <td>married</td>\n",
              "      <td>unknown</td>\n",
              "      <td>no</td>\n",
              "      <td>1506</td>\n",
              "      <td>yes</td>\n",
              "      <td>no</td>\n",
              "      <td>unknown</td>\n",
              "      <td>5</td>\n",
              "      <td>may</td>\n",
              "      <td>92</td>\n",
              "      <td>1</td>\n",
              "      <td>-1</td>\n",
              "      <td>0</td>\n",
              "      <td>unknown</td>\n",
              "      <td>no</td>\n",
              "    </tr>\n",
              "    <tr>\n",
              "      <th>4</th>\n",
              "      <td>33</td>\n",
              "      <td>unknown</td>\n",
              "      <td>single</td>\n",
              "      <td>unknown</td>\n",
              "      <td>no</td>\n",
              "      <td>1</td>\n",
              "      <td>no</td>\n",
              "      <td>no</td>\n",
              "      <td>unknown</td>\n",
              "      <td>5</td>\n",
              "      <td>may</td>\n",
              "      <td>198</td>\n",
              "      <td>1</td>\n",
              "      <td>-1</td>\n",
              "      <td>0</td>\n",
              "      <td>unknown</td>\n",
              "      <td>no</td>\n",
              "    </tr>\n",
              "  </tbody>\n",
              "</table>\n",
              "</div>"
            ],
            "text/plain": [
              "   年齢            職業       婚姻         学歴 債務不履行  平均残高 住宅ローン 個人ローン     連絡手段  \\\n",
              "0  58    management  married   tertiary    no  2143   yes    no  unknown   \n",
              "1  44    technician   single  secondary    no    29   yes    no  unknown   \n",
              "2  33  entrepreneur  married  secondary    no     2   yes   yes  unknown   \n",
              "3  47   blue-collar  married    unknown    no  1506   yes    no  unknown   \n",
              "4  33       unknown   single    unknown    no     1    no    no  unknown   \n",
              "\n",
              "   最終通話日 最終通話月  最終通話秒数  通話回数_販促中  前回販促後_経過日数  通話回数_販促前   前回販促結果 今回販促結果  \n",
              "0      5   may     261         1          -1         0  unknown     no  \n",
              "1      5   may     151         1          -1         0  unknown     no  \n",
              "2      5   may      76         1          -1         0  unknown     no  \n",
              "3      5   may      92         1          -1         0  unknown     no  \n",
              "4      5   may     198         1          -1         0  unknown     no  "
            ]
          },
          "metadata": {
            "tags": []
          }
        }
      ]
    },
    {
      "cell_type": "markdown",
      "metadata": {
        "id": "8KAI-xJwfetp"
      },
      "source": [
        "学習データ数　:  4万5211件\n",
        "\n",
        "営業成功した件数 5289  (出力変数 1,  失敗 0)\n",
        "\n",
        "成功率 (11.7%)"
      ]
    },
    {
      "cell_type": "code",
      "metadata": {
        "colab": {
          "base_uri": "https://localhost:8080/"
        },
        "id": "6eIi3BILfZnj",
        "outputId": "4298b98a-70a8-4736-eef2-049dd0758460"
      },
      "source": [
        "# 学習データの件数と項目数の確認\n",
        "print(df_all.shape)\n",
        "print()\n",
        "\n",
        "# 「今回販促結果」の値の分布確認\n",
        "print(df_all['今回販促結果'].value_counts())\n",
        "print()\n",
        "\n",
        "# 営業成功率\n",
        "rate = df_all['今回販促結果'].value_counts()['yes']/len(df_all)\n",
        "print(f'生業成功率 : {rate:.4f}')"
      ],
      "execution_count": 6,
      "outputs": [
        {
          "output_type": "stream",
          "text": [
            "(45211, 17)\n",
            "\n",
            "no     39922\n",
            "yes     5289\n",
            "Name: 今回販促結果, dtype: int64\n",
            "\n",
            "生業成功率 : 0.1170\n"
          ],
          "name": "stdout"
        }
      ]
    },
    {
      "cell_type": "code",
      "metadata": {
        "colab": {
          "base_uri": "https://localhost:8080/"
        },
        "id": "lHgU3h1DgHd5",
        "outputId": "33365fe8-f1e4-46a7-823b-53723a0a689f"
      },
      "source": [
        "# 欠損値の確認\n",
        "print(df_all.isnull().sum())"
      ],
      "execution_count": 7,
      "outputs": [
        {
          "output_type": "stream",
          "text": [
            "年齢            0\n",
            "職業            0\n",
            "婚姻            0\n",
            "学歴            0\n",
            "債務不履行         0\n",
            "平均残高          0\n",
            "住宅ローン         0\n",
            "個人ローン         0\n",
            "連絡手段          0\n",
            "最終通話日         0\n",
            "最終通話月         0\n",
            "最終通話秒数        0\n",
            "通話回数_販促中      0\n",
            "前回販促後_経過日数    0\n",
            "通話回数_販促前      0\n",
            "前回販促結果        0\n",
            "今回販促結果        0\n",
            "dtype: int64\n"
          ],
          "name": "stdout"
        }
      ]
    },
    {
      "cell_type": "markdown",
      "metadata": {
        "id": "wI6eGZIKgnl1"
      },
      "source": [
        "### 前処理1\n",
        "\n",
        " テキストのラベル値を持つ項目をOne-Hotエンコーディングする処理"
      ]
    },
    {
      "cell_type": "code",
      "metadata": {
        "id": "8LSXXl6Zge2O"
      },
      "source": [
        "# get_dummies関数でカテゴリ値をOne-Hotエンコーディング\n",
        "\n",
        "# 項目をOne-Hotエンコーディングするための関数\n",
        "def enc(df, column):\n",
        "  df_dummy = pd.get_dummies(df[column], prefix=column)\n",
        "  df = pd.concat([df.drop([column], axis=1), df_dummy], axis=1)\n",
        "  return df"
      ],
      "execution_count": 8,
      "outputs": []
    },
    {
      "cell_type": "code",
      "metadata": {
        "colab": {
          "base_uri": "https://localhost:8080/",
          "height": 377
        },
        "id": "Y2RgtE61hN5g",
        "outputId": "3546ae39-94b3-4c0f-b954-b254e7583b83"
      },
      "source": [
        "df_all2 = df_all.copy()\n",
        "df_all2 = enc(df_all2, '職業')\n",
        "df_all2 = enc(df_all2, '婚姻')\n",
        "df_all2 = enc(df_all2, '学歴')\n",
        "df_all2 = enc(df_all2, '連絡手段')\n",
        "df_all2 = enc(df_all2, '前回販促結果')\n",
        "\n",
        "#結果確認\n",
        "display(df_all2.head())"
      ],
      "execution_count": 9,
      "outputs": [
        {
          "output_type": "display_data",
          "data": {
            "text/html": [
              "<div>\n",
              "<style scoped>\n",
              "    .dataframe tbody tr th:only-of-type {\n",
              "        vertical-align: middle;\n",
              "    }\n",
              "\n",
              "    .dataframe tbody tr th {\n",
              "        vertical-align: top;\n",
              "    }\n",
              "\n",
              "    .dataframe thead th {\n",
              "        text-align: right;\n",
              "    }\n",
              "</style>\n",
              "<table border=\"1\" class=\"dataframe\">\n",
              "  <thead>\n",
              "    <tr style=\"text-align: right;\">\n",
              "      <th></th>\n",
              "      <th>年齢</th>\n",
              "      <th>債務不履行</th>\n",
              "      <th>平均残高</th>\n",
              "      <th>住宅ローン</th>\n",
              "      <th>個人ローン</th>\n",
              "      <th>最終通話日</th>\n",
              "      <th>最終通話月</th>\n",
              "      <th>最終通話秒数</th>\n",
              "      <th>通話回数_販促中</th>\n",
              "      <th>前回販促後_経過日数</th>\n",
              "      <th>通話回数_販促前</th>\n",
              "      <th>今回販促結果</th>\n",
              "      <th>職業_admin.</th>\n",
              "      <th>職業_blue-collar</th>\n",
              "      <th>職業_entrepreneur</th>\n",
              "      <th>職業_housemaid</th>\n",
              "      <th>職業_management</th>\n",
              "      <th>職業_retired</th>\n",
              "      <th>職業_self-employed</th>\n",
              "      <th>職業_services</th>\n",
              "      <th>職業_student</th>\n",
              "      <th>職業_technician</th>\n",
              "      <th>職業_unemployed</th>\n",
              "      <th>職業_unknown</th>\n",
              "      <th>婚姻_divorced</th>\n",
              "      <th>婚姻_married</th>\n",
              "      <th>婚姻_single</th>\n",
              "      <th>学歴_primary</th>\n",
              "      <th>学歴_secondary</th>\n",
              "      <th>学歴_tertiary</th>\n",
              "      <th>学歴_unknown</th>\n",
              "      <th>連絡手段_cellular</th>\n",
              "      <th>連絡手段_telephone</th>\n",
              "      <th>連絡手段_unknown</th>\n",
              "      <th>前回販促結果_failure</th>\n",
              "      <th>前回販促結果_other</th>\n",
              "      <th>前回販促結果_success</th>\n",
              "      <th>前回販促結果_unknown</th>\n",
              "    </tr>\n",
              "  </thead>\n",
              "  <tbody>\n",
              "    <tr>\n",
              "      <th>0</th>\n",
              "      <td>58</td>\n",
              "      <td>no</td>\n",
              "      <td>2143</td>\n",
              "      <td>yes</td>\n",
              "      <td>no</td>\n",
              "      <td>5</td>\n",
              "      <td>may</td>\n",
              "      <td>261</td>\n",
              "      <td>1</td>\n",
              "      <td>-1</td>\n",
              "      <td>0</td>\n",
              "      <td>no</td>\n",
              "      <td>0</td>\n",
              "      <td>0</td>\n",
              "      <td>0</td>\n",
              "      <td>0</td>\n",
              "      <td>1</td>\n",
              "      <td>0</td>\n",
              "      <td>0</td>\n",
              "      <td>0</td>\n",
              "      <td>0</td>\n",
              "      <td>0</td>\n",
              "      <td>0</td>\n",
              "      <td>0</td>\n",
              "      <td>0</td>\n",
              "      <td>1</td>\n",
              "      <td>0</td>\n",
              "      <td>0</td>\n",
              "      <td>0</td>\n",
              "      <td>1</td>\n",
              "      <td>0</td>\n",
              "      <td>0</td>\n",
              "      <td>0</td>\n",
              "      <td>1</td>\n",
              "      <td>0</td>\n",
              "      <td>0</td>\n",
              "      <td>0</td>\n",
              "      <td>1</td>\n",
              "    </tr>\n",
              "    <tr>\n",
              "      <th>1</th>\n",
              "      <td>44</td>\n",
              "      <td>no</td>\n",
              "      <td>29</td>\n",
              "      <td>yes</td>\n",
              "      <td>no</td>\n",
              "      <td>5</td>\n",
              "      <td>may</td>\n",
              "      <td>151</td>\n",
              "      <td>1</td>\n",
              "      <td>-1</td>\n",
              "      <td>0</td>\n",
              "      <td>no</td>\n",
              "      <td>0</td>\n",
              "      <td>0</td>\n",
              "      <td>0</td>\n",
              "      <td>0</td>\n",
              "      <td>0</td>\n",
              "      <td>0</td>\n",
              "      <td>0</td>\n",
              "      <td>0</td>\n",
              "      <td>0</td>\n",
              "      <td>1</td>\n",
              "      <td>0</td>\n",
              "      <td>0</td>\n",
              "      <td>0</td>\n",
              "      <td>0</td>\n",
              "      <td>1</td>\n",
              "      <td>0</td>\n",
              "      <td>1</td>\n",
              "      <td>0</td>\n",
              "      <td>0</td>\n",
              "      <td>0</td>\n",
              "      <td>0</td>\n",
              "      <td>1</td>\n",
              "      <td>0</td>\n",
              "      <td>0</td>\n",
              "      <td>0</td>\n",
              "      <td>1</td>\n",
              "    </tr>\n",
              "    <tr>\n",
              "      <th>2</th>\n",
              "      <td>33</td>\n",
              "      <td>no</td>\n",
              "      <td>2</td>\n",
              "      <td>yes</td>\n",
              "      <td>yes</td>\n",
              "      <td>5</td>\n",
              "      <td>may</td>\n",
              "      <td>76</td>\n",
              "      <td>1</td>\n",
              "      <td>-1</td>\n",
              "      <td>0</td>\n",
              "      <td>no</td>\n",
              "      <td>0</td>\n",
              "      <td>0</td>\n",
              "      <td>1</td>\n",
              "      <td>0</td>\n",
              "      <td>0</td>\n",
              "      <td>0</td>\n",
              "      <td>0</td>\n",
              "      <td>0</td>\n",
              "      <td>0</td>\n",
              "      <td>0</td>\n",
              "      <td>0</td>\n",
              "      <td>0</td>\n",
              "      <td>0</td>\n",
              "      <td>1</td>\n",
              "      <td>0</td>\n",
              "      <td>0</td>\n",
              "      <td>1</td>\n",
              "      <td>0</td>\n",
              "      <td>0</td>\n",
              "      <td>0</td>\n",
              "      <td>0</td>\n",
              "      <td>1</td>\n",
              "      <td>0</td>\n",
              "      <td>0</td>\n",
              "      <td>0</td>\n",
              "      <td>1</td>\n",
              "    </tr>\n",
              "    <tr>\n",
              "      <th>3</th>\n",
              "      <td>47</td>\n",
              "      <td>no</td>\n",
              "      <td>1506</td>\n",
              "      <td>yes</td>\n",
              "      <td>no</td>\n",
              "      <td>5</td>\n",
              "      <td>may</td>\n",
              "      <td>92</td>\n",
              "      <td>1</td>\n",
              "      <td>-1</td>\n",
              "      <td>0</td>\n",
              "      <td>no</td>\n",
              "      <td>0</td>\n",
              "      <td>1</td>\n",
              "      <td>0</td>\n",
              "      <td>0</td>\n",
              "      <td>0</td>\n",
              "      <td>0</td>\n",
              "      <td>0</td>\n",
              "      <td>0</td>\n",
              "      <td>0</td>\n",
              "      <td>0</td>\n",
              "      <td>0</td>\n",
              "      <td>0</td>\n",
              "      <td>0</td>\n",
              "      <td>1</td>\n",
              "      <td>0</td>\n",
              "      <td>0</td>\n",
              "      <td>0</td>\n",
              "      <td>0</td>\n",
              "      <td>1</td>\n",
              "      <td>0</td>\n",
              "      <td>0</td>\n",
              "      <td>1</td>\n",
              "      <td>0</td>\n",
              "      <td>0</td>\n",
              "      <td>0</td>\n",
              "      <td>1</td>\n",
              "    </tr>\n",
              "    <tr>\n",
              "      <th>4</th>\n",
              "      <td>33</td>\n",
              "      <td>no</td>\n",
              "      <td>1</td>\n",
              "      <td>no</td>\n",
              "      <td>no</td>\n",
              "      <td>5</td>\n",
              "      <td>may</td>\n",
              "      <td>198</td>\n",
              "      <td>1</td>\n",
              "      <td>-1</td>\n",
              "      <td>0</td>\n",
              "      <td>no</td>\n",
              "      <td>0</td>\n",
              "      <td>0</td>\n",
              "      <td>0</td>\n",
              "      <td>0</td>\n",
              "      <td>0</td>\n",
              "      <td>0</td>\n",
              "      <td>0</td>\n",
              "      <td>0</td>\n",
              "      <td>0</td>\n",
              "      <td>0</td>\n",
              "      <td>0</td>\n",
              "      <td>1</td>\n",
              "      <td>0</td>\n",
              "      <td>0</td>\n",
              "      <td>1</td>\n",
              "      <td>0</td>\n",
              "      <td>0</td>\n",
              "      <td>0</td>\n",
              "      <td>1</td>\n",
              "      <td>0</td>\n",
              "      <td>0</td>\n",
              "      <td>1</td>\n",
              "      <td>0</td>\n",
              "      <td>0</td>\n",
              "      <td>0</td>\n",
              "      <td>1</td>\n",
              "    </tr>\n",
              "  </tbody>\n",
              "</table>\n",
              "</div>"
            ],
            "text/plain": [
              "   年齢 債務不履行  平均残高 住宅ローン 個人ローン  最終通話日 最終通話月  最終通話秒数  通話回数_販促中  前回販促後_経過日数  \\\n",
              "0  58    no  2143   yes    no      5   may     261         1          -1   \n",
              "1  44    no    29   yes    no      5   may     151         1          -1   \n",
              "2  33    no     2   yes   yes      5   may      76         1          -1   \n",
              "3  47    no  1506   yes    no      5   may      92         1          -1   \n",
              "4  33    no     1    no    no      5   may     198         1          -1   \n",
              "\n",
              "   通話回数_販促前 今回販促結果  職業_admin.  職業_blue-collar  職業_entrepreneur  職業_housemaid  \\\n",
              "0         0     no          0               0                0             0   \n",
              "1         0     no          0               0                0             0   \n",
              "2         0     no          0               0                1             0   \n",
              "3         0     no          0               1                0             0   \n",
              "4         0     no          0               0                0             0   \n",
              "\n",
              "   職業_management  職業_retired  職業_self-employed  職業_services  職業_student  \\\n",
              "0              1           0                 0            0           0   \n",
              "1              0           0                 0            0           0   \n",
              "2              0           0                 0            0           0   \n",
              "3              0           0                 0            0           0   \n",
              "4              0           0                 0            0           0   \n",
              "\n",
              "   職業_technician  職業_unemployed  職業_unknown  婚姻_divorced  婚姻_married  \\\n",
              "0              0              0           0            0           1   \n",
              "1              1              0           0            0           0   \n",
              "2              0              0           0            0           1   \n",
              "3              0              0           0            0           1   \n",
              "4              0              0           1            0           0   \n",
              "\n",
              "   婚姻_single  学歴_primary  学歴_secondary  学歴_tertiary  学歴_unknown  \\\n",
              "0          0           0             0            1           0   \n",
              "1          1           0             1            0           0   \n",
              "2          0           0             1            0           0   \n",
              "3          0           0             0            0           1   \n",
              "4          1           0             0            0           1   \n",
              "\n",
              "   連絡手段_cellular  連絡手段_telephone  連絡手段_unknown  前回販促結果_failure  前回販促結果_other  \\\n",
              "0              0               0             1               0             0   \n",
              "1              0               0             1               0             0   \n",
              "2              0               0             1               0             0   \n",
              "3              0               0             1               0             0   \n",
              "4              0               0             1               0             0   \n",
              "\n",
              "   前回販促結果_success  前回販促結果_unknown  \n",
              "0               0               1  \n",
              "1               0               1  \n",
              "2               0               1  \n",
              "3               0               1  \n",
              "4               0               1  "
            ]
          },
          "metadata": {
            "tags": []
          }
        }
      ]
    },
    {
      "cell_type": "markdown",
      "metadata": {
        "id": "COabWdVIh5BZ"
      },
      "source": [
        "前処理　ステップ2\n",
        "\n",
        " テキストのラベル値が yes / noの場合は、One-Hotエンコーディングは不要なので２値変換する"
      ]
    },
    {
      "cell_type": "code",
      "metadata": {
        "id": "g3y8XiMOhUDU"
      },
      "source": [
        "# yes/noを1/0に置換 \n",
        "\n",
        "# 2値 (yes/no)の値を(1/0)に置換する関数\n",
        "def enc_bin(df, column):\n",
        "    df[column] = df[column].map(dict(yes=1, no=0)) \n",
        "    return df\n",
        "\n"
      ],
      "execution_count": 10,
      "outputs": []
    },
    {
      "cell_type": "code",
      "metadata": {
        "colab": {
          "base_uri": "https://localhost:8080/",
          "height": 377
        },
        "id": "4hA-6SBriY_Z",
        "outputId": "ac7bd6ae-4b8f-420f-a8b2-9dc29c1dd56e"
      },
      "source": [
        "df_all2 = enc_bin(df_all2, '債務不履行')\n",
        "df_all2 = enc_bin(df_all2, '住宅ローン')\n",
        "df_all2 = enc_bin(df_all2, '個人ローン')\n",
        "df_all2 = enc_bin(df_all2, '今回販促結果')\n",
        "\n",
        "# 結果確認\n",
        "display(df_all2.head())"
      ],
      "execution_count": 11,
      "outputs": [
        {
          "output_type": "display_data",
          "data": {
            "text/html": [
              "<div>\n",
              "<style scoped>\n",
              "    .dataframe tbody tr th:only-of-type {\n",
              "        vertical-align: middle;\n",
              "    }\n",
              "\n",
              "    .dataframe tbody tr th {\n",
              "        vertical-align: top;\n",
              "    }\n",
              "\n",
              "    .dataframe thead th {\n",
              "        text-align: right;\n",
              "    }\n",
              "</style>\n",
              "<table border=\"1\" class=\"dataframe\">\n",
              "  <thead>\n",
              "    <tr style=\"text-align: right;\">\n",
              "      <th></th>\n",
              "      <th>年齢</th>\n",
              "      <th>債務不履行</th>\n",
              "      <th>平均残高</th>\n",
              "      <th>住宅ローン</th>\n",
              "      <th>個人ローン</th>\n",
              "      <th>最終通話日</th>\n",
              "      <th>最終通話月</th>\n",
              "      <th>最終通話秒数</th>\n",
              "      <th>通話回数_販促中</th>\n",
              "      <th>前回販促後_経過日数</th>\n",
              "      <th>通話回数_販促前</th>\n",
              "      <th>今回販促結果</th>\n",
              "      <th>職業_admin.</th>\n",
              "      <th>職業_blue-collar</th>\n",
              "      <th>職業_entrepreneur</th>\n",
              "      <th>職業_housemaid</th>\n",
              "      <th>職業_management</th>\n",
              "      <th>職業_retired</th>\n",
              "      <th>職業_self-employed</th>\n",
              "      <th>職業_services</th>\n",
              "      <th>職業_student</th>\n",
              "      <th>職業_technician</th>\n",
              "      <th>職業_unemployed</th>\n",
              "      <th>職業_unknown</th>\n",
              "      <th>婚姻_divorced</th>\n",
              "      <th>婚姻_married</th>\n",
              "      <th>婚姻_single</th>\n",
              "      <th>学歴_primary</th>\n",
              "      <th>学歴_secondary</th>\n",
              "      <th>学歴_tertiary</th>\n",
              "      <th>学歴_unknown</th>\n",
              "      <th>連絡手段_cellular</th>\n",
              "      <th>連絡手段_telephone</th>\n",
              "      <th>連絡手段_unknown</th>\n",
              "      <th>前回販促結果_failure</th>\n",
              "      <th>前回販促結果_other</th>\n",
              "      <th>前回販促結果_success</th>\n",
              "      <th>前回販促結果_unknown</th>\n",
              "    </tr>\n",
              "  </thead>\n",
              "  <tbody>\n",
              "    <tr>\n",
              "      <th>0</th>\n",
              "      <td>58</td>\n",
              "      <td>0</td>\n",
              "      <td>2143</td>\n",
              "      <td>1</td>\n",
              "      <td>0</td>\n",
              "      <td>5</td>\n",
              "      <td>may</td>\n",
              "      <td>261</td>\n",
              "      <td>1</td>\n",
              "      <td>-1</td>\n",
              "      <td>0</td>\n",
              "      <td>0</td>\n",
              "      <td>0</td>\n",
              "      <td>0</td>\n",
              "      <td>0</td>\n",
              "      <td>0</td>\n",
              "      <td>1</td>\n",
              "      <td>0</td>\n",
              "      <td>0</td>\n",
              "      <td>0</td>\n",
              "      <td>0</td>\n",
              "      <td>0</td>\n",
              "      <td>0</td>\n",
              "      <td>0</td>\n",
              "      <td>0</td>\n",
              "      <td>1</td>\n",
              "      <td>0</td>\n",
              "      <td>0</td>\n",
              "      <td>0</td>\n",
              "      <td>1</td>\n",
              "      <td>0</td>\n",
              "      <td>0</td>\n",
              "      <td>0</td>\n",
              "      <td>1</td>\n",
              "      <td>0</td>\n",
              "      <td>0</td>\n",
              "      <td>0</td>\n",
              "      <td>1</td>\n",
              "    </tr>\n",
              "    <tr>\n",
              "      <th>1</th>\n",
              "      <td>44</td>\n",
              "      <td>0</td>\n",
              "      <td>29</td>\n",
              "      <td>1</td>\n",
              "      <td>0</td>\n",
              "      <td>5</td>\n",
              "      <td>may</td>\n",
              "      <td>151</td>\n",
              "      <td>1</td>\n",
              "      <td>-1</td>\n",
              "      <td>0</td>\n",
              "      <td>0</td>\n",
              "      <td>0</td>\n",
              "      <td>0</td>\n",
              "      <td>0</td>\n",
              "      <td>0</td>\n",
              "      <td>0</td>\n",
              "      <td>0</td>\n",
              "      <td>0</td>\n",
              "      <td>0</td>\n",
              "      <td>0</td>\n",
              "      <td>1</td>\n",
              "      <td>0</td>\n",
              "      <td>0</td>\n",
              "      <td>0</td>\n",
              "      <td>0</td>\n",
              "      <td>1</td>\n",
              "      <td>0</td>\n",
              "      <td>1</td>\n",
              "      <td>0</td>\n",
              "      <td>0</td>\n",
              "      <td>0</td>\n",
              "      <td>0</td>\n",
              "      <td>1</td>\n",
              "      <td>0</td>\n",
              "      <td>0</td>\n",
              "      <td>0</td>\n",
              "      <td>1</td>\n",
              "    </tr>\n",
              "    <tr>\n",
              "      <th>2</th>\n",
              "      <td>33</td>\n",
              "      <td>0</td>\n",
              "      <td>2</td>\n",
              "      <td>1</td>\n",
              "      <td>1</td>\n",
              "      <td>5</td>\n",
              "      <td>may</td>\n",
              "      <td>76</td>\n",
              "      <td>1</td>\n",
              "      <td>-1</td>\n",
              "      <td>0</td>\n",
              "      <td>0</td>\n",
              "      <td>0</td>\n",
              "      <td>0</td>\n",
              "      <td>1</td>\n",
              "      <td>0</td>\n",
              "      <td>0</td>\n",
              "      <td>0</td>\n",
              "      <td>0</td>\n",
              "      <td>0</td>\n",
              "      <td>0</td>\n",
              "      <td>0</td>\n",
              "      <td>0</td>\n",
              "      <td>0</td>\n",
              "      <td>0</td>\n",
              "      <td>1</td>\n",
              "      <td>0</td>\n",
              "      <td>0</td>\n",
              "      <td>1</td>\n",
              "      <td>0</td>\n",
              "      <td>0</td>\n",
              "      <td>0</td>\n",
              "      <td>0</td>\n",
              "      <td>1</td>\n",
              "      <td>0</td>\n",
              "      <td>0</td>\n",
              "      <td>0</td>\n",
              "      <td>1</td>\n",
              "    </tr>\n",
              "    <tr>\n",
              "      <th>3</th>\n",
              "      <td>47</td>\n",
              "      <td>0</td>\n",
              "      <td>1506</td>\n",
              "      <td>1</td>\n",
              "      <td>0</td>\n",
              "      <td>5</td>\n",
              "      <td>may</td>\n",
              "      <td>92</td>\n",
              "      <td>1</td>\n",
              "      <td>-1</td>\n",
              "      <td>0</td>\n",
              "      <td>0</td>\n",
              "      <td>0</td>\n",
              "      <td>1</td>\n",
              "      <td>0</td>\n",
              "      <td>0</td>\n",
              "      <td>0</td>\n",
              "      <td>0</td>\n",
              "      <td>0</td>\n",
              "      <td>0</td>\n",
              "      <td>0</td>\n",
              "      <td>0</td>\n",
              "      <td>0</td>\n",
              "      <td>0</td>\n",
              "      <td>0</td>\n",
              "      <td>1</td>\n",
              "      <td>0</td>\n",
              "      <td>0</td>\n",
              "      <td>0</td>\n",
              "      <td>0</td>\n",
              "      <td>1</td>\n",
              "      <td>0</td>\n",
              "      <td>0</td>\n",
              "      <td>1</td>\n",
              "      <td>0</td>\n",
              "      <td>0</td>\n",
              "      <td>0</td>\n",
              "      <td>1</td>\n",
              "    </tr>\n",
              "    <tr>\n",
              "      <th>4</th>\n",
              "      <td>33</td>\n",
              "      <td>0</td>\n",
              "      <td>1</td>\n",
              "      <td>0</td>\n",
              "      <td>0</td>\n",
              "      <td>5</td>\n",
              "      <td>may</td>\n",
              "      <td>198</td>\n",
              "      <td>1</td>\n",
              "      <td>-1</td>\n",
              "      <td>0</td>\n",
              "      <td>0</td>\n",
              "      <td>0</td>\n",
              "      <td>0</td>\n",
              "      <td>0</td>\n",
              "      <td>0</td>\n",
              "      <td>0</td>\n",
              "      <td>0</td>\n",
              "      <td>0</td>\n",
              "      <td>0</td>\n",
              "      <td>0</td>\n",
              "      <td>0</td>\n",
              "      <td>0</td>\n",
              "      <td>1</td>\n",
              "      <td>0</td>\n",
              "      <td>0</td>\n",
              "      <td>1</td>\n",
              "      <td>0</td>\n",
              "      <td>0</td>\n",
              "      <td>0</td>\n",
              "      <td>1</td>\n",
              "      <td>0</td>\n",
              "      <td>0</td>\n",
              "      <td>1</td>\n",
              "      <td>0</td>\n",
              "      <td>0</td>\n",
              "      <td>0</td>\n",
              "      <td>1</td>\n",
              "    </tr>\n",
              "  </tbody>\n",
              "</table>\n",
              "</div>"
            ],
            "text/plain": [
              "   年齢  債務不履行  平均残高  住宅ローン  個人ローン  最終通話日 最終通話月  最終通話秒数  通話回数_販促中  前回販促後_経過日数  \\\n",
              "0  58      0  2143      1      0      5   may     261         1          -1   \n",
              "1  44      0    29      1      0      5   may     151         1          -1   \n",
              "2  33      0     2      1      1      5   may      76         1          -1   \n",
              "3  47      0  1506      1      0      5   may      92         1          -1   \n",
              "4  33      0     1      0      0      5   may     198         1          -1   \n",
              "\n",
              "   通話回数_販促前  今回販促結果  職業_admin.  職業_blue-collar  職業_entrepreneur  職業_housemaid  \\\n",
              "0         0       0          0               0                0             0   \n",
              "1         0       0          0               0                0             0   \n",
              "2         0       0          0               0                1             0   \n",
              "3         0       0          0               1                0             0   \n",
              "4         0       0          0               0                0             0   \n",
              "\n",
              "   職業_management  職業_retired  職業_self-employed  職業_services  職業_student  \\\n",
              "0              1           0                 0            0           0   \n",
              "1              0           0                 0            0           0   \n",
              "2              0           0                 0            0           0   \n",
              "3              0           0                 0            0           0   \n",
              "4              0           0                 0            0           0   \n",
              "\n",
              "   職業_technician  職業_unemployed  職業_unknown  婚姻_divorced  婚姻_married  \\\n",
              "0              0              0           0            0           1   \n",
              "1              1              0           0            0           0   \n",
              "2              0              0           0            0           1   \n",
              "3              0              0           0            0           1   \n",
              "4              0              0           1            0           0   \n",
              "\n",
              "   婚姻_single  学歴_primary  学歴_secondary  学歴_tertiary  学歴_unknown  \\\n",
              "0          0           0             0            1           0   \n",
              "1          1           0             1            0           0   \n",
              "2          0           0             1            0           0   \n",
              "3          0           0             0            0           1   \n",
              "4          1           0             0            0           1   \n",
              "\n",
              "   連絡手段_cellular  連絡手段_telephone  連絡手段_unknown  前回販促結果_failure  前回販促結果_other  \\\n",
              "0              0               0             1               0             0   \n",
              "1              0               0             1               0             0   \n",
              "2              0               0             1               0             0   \n",
              "3              0               0             1               0             0   \n",
              "4              0               0             1               0             0   \n",
              "\n",
              "   前回販促結果_success  前回販促結果_unknown  \n",
              "0               0               1  \n",
              "1               0               1  \n",
              "2               0               1  \n",
              "3               0               1  \n",
              "4               0               1  "
            ]
          },
          "metadata": {
            "tags": []
          }
        }
      ]
    },
    {
      "cell_type": "markdown",
      "metadata": {
        "id": "SNPdD-hEneIO"
      },
      "source": [
        "### 前処理ステップ３\n",
        "\n",
        "最終通話月　:　本来はOne-Hotエンコードするものだが12項目と思われる\n",
        "\n",
        "月の間の連続性は、12月と1月の間が不連続になることを除けば１項目の数値で表現できる"
      ]
    },
    {
      "cell_type": "code",
      "metadata": {
        "id": "HLgkVn14lhCv"
      },
      "source": [
        "# 月名(jn, feb, ...)を1, 2, ...に置換\n",
        "month_dict = dict(jan=1, feb=2, mar=3, apr=4,\n",
        "                  may=5, jun=6, jul=7, aug=8, sep=9,\n",
        "                  oct=10, nov=11, dec=12)\n",
        "\n",
        "def enc_month(df, column):\n",
        "  df[column] = df[column].map(month_dict)\n",
        "  return df\n",
        "\n"
      ],
      "execution_count": 12,
      "outputs": []
    },
    {
      "cell_type": "code",
      "metadata": {
        "colab": {
          "base_uri": "https://localhost:8080/",
          "height": 377
        },
        "id": "CGw36E2jomyQ",
        "outputId": "322edbe2-5731-4f60-cee2-ee7cd3a7a0a2"
      },
      "source": [
        "df_all2 = enc_month(df_all2, '最終通話月')\n",
        "\n",
        "#結果確認\n",
        "display(df_all2.head())"
      ],
      "execution_count": 13,
      "outputs": [
        {
          "output_type": "display_data",
          "data": {
            "text/html": [
              "<div>\n",
              "<style scoped>\n",
              "    .dataframe tbody tr th:only-of-type {\n",
              "        vertical-align: middle;\n",
              "    }\n",
              "\n",
              "    .dataframe tbody tr th {\n",
              "        vertical-align: top;\n",
              "    }\n",
              "\n",
              "    .dataframe thead th {\n",
              "        text-align: right;\n",
              "    }\n",
              "</style>\n",
              "<table border=\"1\" class=\"dataframe\">\n",
              "  <thead>\n",
              "    <tr style=\"text-align: right;\">\n",
              "      <th></th>\n",
              "      <th>年齢</th>\n",
              "      <th>債務不履行</th>\n",
              "      <th>平均残高</th>\n",
              "      <th>住宅ローン</th>\n",
              "      <th>個人ローン</th>\n",
              "      <th>最終通話日</th>\n",
              "      <th>最終通話月</th>\n",
              "      <th>最終通話秒数</th>\n",
              "      <th>通話回数_販促中</th>\n",
              "      <th>前回販促後_経過日数</th>\n",
              "      <th>通話回数_販促前</th>\n",
              "      <th>今回販促結果</th>\n",
              "      <th>職業_admin.</th>\n",
              "      <th>職業_blue-collar</th>\n",
              "      <th>職業_entrepreneur</th>\n",
              "      <th>職業_housemaid</th>\n",
              "      <th>職業_management</th>\n",
              "      <th>職業_retired</th>\n",
              "      <th>職業_self-employed</th>\n",
              "      <th>職業_services</th>\n",
              "      <th>職業_student</th>\n",
              "      <th>職業_technician</th>\n",
              "      <th>職業_unemployed</th>\n",
              "      <th>職業_unknown</th>\n",
              "      <th>婚姻_divorced</th>\n",
              "      <th>婚姻_married</th>\n",
              "      <th>婚姻_single</th>\n",
              "      <th>学歴_primary</th>\n",
              "      <th>学歴_secondary</th>\n",
              "      <th>学歴_tertiary</th>\n",
              "      <th>学歴_unknown</th>\n",
              "      <th>連絡手段_cellular</th>\n",
              "      <th>連絡手段_telephone</th>\n",
              "      <th>連絡手段_unknown</th>\n",
              "      <th>前回販促結果_failure</th>\n",
              "      <th>前回販促結果_other</th>\n",
              "      <th>前回販促結果_success</th>\n",
              "      <th>前回販促結果_unknown</th>\n",
              "    </tr>\n",
              "  </thead>\n",
              "  <tbody>\n",
              "    <tr>\n",
              "      <th>0</th>\n",
              "      <td>58</td>\n",
              "      <td>0</td>\n",
              "      <td>2143</td>\n",
              "      <td>1</td>\n",
              "      <td>0</td>\n",
              "      <td>5</td>\n",
              "      <td>5</td>\n",
              "      <td>261</td>\n",
              "      <td>1</td>\n",
              "      <td>-1</td>\n",
              "      <td>0</td>\n",
              "      <td>0</td>\n",
              "      <td>0</td>\n",
              "      <td>0</td>\n",
              "      <td>0</td>\n",
              "      <td>0</td>\n",
              "      <td>1</td>\n",
              "      <td>0</td>\n",
              "      <td>0</td>\n",
              "      <td>0</td>\n",
              "      <td>0</td>\n",
              "      <td>0</td>\n",
              "      <td>0</td>\n",
              "      <td>0</td>\n",
              "      <td>0</td>\n",
              "      <td>1</td>\n",
              "      <td>0</td>\n",
              "      <td>0</td>\n",
              "      <td>0</td>\n",
              "      <td>1</td>\n",
              "      <td>0</td>\n",
              "      <td>0</td>\n",
              "      <td>0</td>\n",
              "      <td>1</td>\n",
              "      <td>0</td>\n",
              "      <td>0</td>\n",
              "      <td>0</td>\n",
              "      <td>1</td>\n",
              "    </tr>\n",
              "    <tr>\n",
              "      <th>1</th>\n",
              "      <td>44</td>\n",
              "      <td>0</td>\n",
              "      <td>29</td>\n",
              "      <td>1</td>\n",
              "      <td>0</td>\n",
              "      <td>5</td>\n",
              "      <td>5</td>\n",
              "      <td>151</td>\n",
              "      <td>1</td>\n",
              "      <td>-1</td>\n",
              "      <td>0</td>\n",
              "      <td>0</td>\n",
              "      <td>0</td>\n",
              "      <td>0</td>\n",
              "      <td>0</td>\n",
              "      <td>0</td>\n",
              "      <td>0</td>\n",
              "      <td>0</td>\n",
              "      <td>0</td>\n",
              "      <td>0</td>\n",
              "      <td>0</td>\n",
              "      <td>1</td>\n",
              "      <td>0</td>\n",
              "      <td>0</td>\n",
              "      <td>0</td>\n",
              "      <td>0</td>\n",
              "      <td>1</td>\n",
              "      <td>0</td>\n",
              "      <td>1</td>\n",
              "      <td>0</td>\n",
              "      <td>0</td>\n",
              "      <td>0</td>\n",
              "      <td>0</td>\n",
              "      <td>1</td>\n",
              "      <td>0</td>\n",
              "      <td>0</td>\n",
              "      <td>0</td>\n",
              "      <td>1</td>\n",
              "    </tr>\n",
              "    <tr>\n",
              "      <th>2</th>\n",
              "      <td>33</td>\n",
              "      <td>0</td>\n",
              "      <td>2</td>\n",
              "      <td>1</td>\n",
              "      <td>1</td>\n",
              "      <td>5</td>\n",
              "      <td>5</td>\n",
              "      <td>76</td>\n",
              "      <td>1</td>\n",
              "      <td>-1</td>\n",
              "      <td>0</td>\n",
              "      <td>0</td>\n",
              "      <td>0</td>\n",
              "      <td>0</td>\n",
              "      <td>1</td>\n",
              "      <td>0</td>\n",
              "      <td>0</td>\n",
              "      <td>0</td>\n",
              "      <td>0</td>\n",
              "      <td>0</td>\n",
              "      <td>0</td>\n",
              "      <td>0</td>\n",
              "      <td>0</td>\n",
              "      <td>0</td>\n",
              "      <td>0</td>\n",
              "      <td>1</td>\n",
              "      <td>0</td>\n",
              "      <td>0</td>\n",
              "      <td>1</td>\n",
              "      <td>0</td>\n",
              "      <td>0</td>\n",
              "      <td>0</td>\n",
              "      <td>0</td>\n",
              "      <td>1</td>\n",
              "      <td>0</td>\n",
              "      <td>0</td>\n",
              "      <td>0</td>\n",
              "      <td>1</td>\n",
              "    </tr>\n",
              "    <tr>\n",
              "      <th>3</th>\n",
              "      <td>47</td>\n",
              "      <td>0</td>\n",
              "      <td>1506</td>\n",
              "      <td>1</td>\n",
              "      <td>0</td>\n",
              "      <td>5</td>\n",
              "      <td>5</td>\n",
              "      <td>92</td>\n",
              "      <td>1</td>\n",
              "      <td>-1</td>\n",
              "      <td>0</td>\n",
              "      <td>0</td>\n",
              "      <td>0</td>\n",
              "      <td>1</td>\n",
              "      <td>0</td>\n",
              "      <td>0</td>\n",
              "      <td>0</td>\n",
              "      <td>0</td>\n",
              "      <td>0</td>\n",
              "      <td>0</td>\n",
              "      <td>0</td>\n",
              "      <td>0</td>\n",
              "      <td>0</td>\n",
              "      <td>0</td>\n",
              "      <td>0</td>\n",
              "      <td>1</td>\n",
              "      <td>0</td>\n",
              "      <td>0</td>\n",
              "      <td>0</td>\n",
              "      <td>0</td>\n",
              "      <td>1</td>\n",
              "      <td>0</td>\n",
              "      <td>0</td>\n",
              "      <td>1</td>\n",
              "      <td>0</td>\n",
              "      <td>0</td>\n",
              "      <td>0</td>\n",
              "      <td>1</td>\n",
              "    </tr>\n",
              "    <tr>\n",
              "      <th>4</th>\n",
              "      <td>33</td>\n",
              "      <td>0</td>\n",
              "      <td>1</td>\n",
              "      <td>0</td>\n",
              "      <td>0</td>\n",
              "      <td>5</td>\n",
              "      <td>5</td>\n",
              "      <td>198</td>\n",
              "      <td>1</td>\n",
              "      <td>-1</td>\n",
              "      <td>0</td>\n",
              "      <td>0</td>\n",
              "      <td>0</td>\n",
              "      <td>0</td>\n",
              "      <td>0</td>\n",
              "      <td>0</td>\n",
              "      <td>0</td>\n",
              "      <td>0</td>\n",
              "      <td>0</td>\n",
              "      <td>0</td>\n",
              "      <td>0</td>\n",
              "      <td>0</td>\n",
              "      <td>0</td>\n",
              "      <td>1</td>\n",
              "      <td>0</td>\n",
              "      <td>0</td>\n",
              "      <td>1</td>\n",
              "      <td>0</td>\n",
              "      <td>0</td>\n",
              "      <td>0</td>\n",
              "      <td>1</td>\n",
              "      <td>0</td>\n",
              "      <td>0</td>\n",
              "      <td>1</td>\n",
              "      <td>0</td>\n",
              "      <td>0</td>\n",
              "      <td>0</td>\n",
              "      <td>1</td>\n",
              "    </tr>\n",
              "  </tbody>\n",
              "</table>\n",
              "</div>"
            ],
            "text/plain": [
              "   年齢  債務不履行  平均残高  住宅ローン  個人ローン  最終通話日  最終通話月  最終通話秒数  通話回数_販促中  前回販促後_経過日数  \\\n",
              "0  58      0  2143      1      0      5      5     261         1          -1   \n",
              "1  44      0    29      1      0      5      5     151         1          -1   \n",
              "2  33      0     2      1      1      5      5      76         1          -1   \n",
              "3  47      0  1506      1      0      5      5      92         1          -1   \n",
              "4  33      0     1      0      0      5      5     198         1          -1   \n",
              "\n",
              "   通話回数_販促前  今回販促結果  職業_admin.  職業_blue-collar  職業_entrepreneur  職業_housemaid  \\\n",
              "0         0       0          0               0                0             0   \n",
              "1         0       0          0               0                0             0   \n",
              "2         0       0          0               0                1             0   \n",
              "3         0       0          0               1                0             0   \n",
              "4         0       0          0               0                0             0   \n",
              "\n",
              "   職業_management  職業_retired  職業_self-employed  職業_services  職業_student  \\\n",
              "0              1           0                 0            0           0   \n",
              "1              0           0                 0            0           0   \n",
              "2              0           0                 0            0           0   \n",
              "3              0           0                 0            0           0   \n",
              "4              0           0                 0            0           0   \n",
              "\n",
              "   職業_technician  職業_unemployed  職業_unknown  婚姻_divorced  婚姻_married  \\\n",
              "0              0              0           0            0           1   \n",
              "1              1              0           0            0           0   \n",
              "2              0              0           0            0           1   \n",
              "3              0              0           0            0           1   \n",
              "4              0              0           1            0           0   \n",
              "\n",
              "   婚姻_single  学歴_primary  学歴_secondary  学歴_tertiary  学歴_unknown  \\\n",
              "0          0           0             0            1           0   \n",
              "1          1           0             1            0           0   \n",
              "2          0           0             1            0           0   \n",
              "3          0           0             0            0           1   \n",
              "4          1           0             0            0           1   \n",
              "\n",
              "   連絡手段_cellular  連絡手段_telephone  連絡手段_unknown  前回販促結果_failure  前回販促結果_other  \\\n",
              "0              0               0             1               0             0   \n",
              "1              0               0             1               0             0   \n",
              "2              0               0             1               0             0   \n",
              "3              0               0             1               0             0   \n",
              "4              0               0             1               0             0   \n",
              "\n",
              "   前回販促結果_success  前回販促結果_unknown  \n",
              "0               0               1  \n",
              "1               0               1  \n",
              "2               0               1  \n",
              "3               0               1  \n",
              "4               0               1  "
            ]
          },
          "metadata": {
            "tags": []
          }
        }
      ]
    },
    {
      "cell_type": "code",
      "metadata": {
        "id": "9-P_PqVuo-ot"
      },
      "source": [
        "# 入力データと正解データの分割\n",
        "x = df_all2.drop('今回販促結果', axis=1)\n",
        "y = df_all2['今回販促結果'].values\n",
        "\n",
        "# 訓練データと検証データの分割\n",
        "# 訓練データ６０%　検証データ40％の比率で分割する\n",
        "test_size = 0.4\n",
        "\n",
        "from sklearn.model_selection import train_test_split\n",
        "x_train, x_test, y_train, y_test = train_test_split(\n",
        "    x, y, test_size=test_size, random_state=random_seed,\n",
        "    stratify=y)"
      ],
      "execution_count": 14,
      "outputs": []
    },
    {
      "cell_type": "code",
      "metadata": {
        "id": "nRr-QQr-pZCq"
      },
      "source": [
        "# 候補アルゴリズムのリスト化\n",
        "\n",
        "# ロジスティック回帰\n",
        "from sklearn.linear_model import LogisticRegression\n",
        "algorithm1 = LogisticRegression(random_state=random_seed)\n",
        "\n",
        "#　決定木\n",
        "from sklearn.tree import DecisionTreeClassifier\n",
        "algorithm2 = DecisionTreeClassifier(random_state=random_seed)\n",
        "\n",
        "# ランダムフォレスト\n",
        "from sklearn.ensemble import RandomForestClassifier\n",
        "algorithm3 = RandomForestClassifier(random_state=random_seed)\n",
        "\n",
        "# XGBoost\n",
        "from xgboost import XGBClassifier\n",
        "algorithm4 = XGBClassifier(random_state=random_seed)\n",
        "\n",
        "algorithms = [algorithm1, algorithm2, algorithm3, algorithm4]"
      ],
      "execution_count": 15,
      "outputs": []
    },
    {
      "cell_type": "markdown",
      "metadata": {
        "id": "MfTIAoRZqvx6"
      },
      "source": [
        "今回　サポートベクターマシン(SVM）は確率値の関数（predict_proba)が使えないので除外"
      ]
    },
    {
      "cell_type": "code",
      "metadata": {
        "colab": {
          "base_uri": "https://localhost:8080/"
        },
        "id": "3bH796NoqsJ2",
        "outputId": "fa5062d5-5766-499a-abf0-68837faecc4e"
      },
      "source": [
        "# 交差検定法を用いて最適なアルゴリズムの選択\n",
        "from sklearn.model_selection import StratifiedKFold\n",
        "stratifiedkfold = StratifiedKFold(n_splits=3)\n",
        "\n",
        "from sklearn.model_selection import cross_val_score\n",
        "for algorithm in algorithms:\n",
        "  #交差検定法の実行\n",
        "  scores = cross_val_score(algorithm, x_train, y_train, cv=stratifiedkfold, scoring='roc_auc')\n",
        "  score = scores.mean()\n",
        "  name = algorithm.__class__.__name__\n",
        "  print(f'平均スコア : {score:.4f} 個別スコア : {scores} {name}')"
      ],
      "execution_count": 16,
      "outputs": [
        {
          "output_type": "stream",
          "text": [
            "平均スコア : 0.8325 個別スコア : [0.8275 0.8287 0.8412] LogisticRegression\n",
            "平均スコア : 0.6958 個別スコア : [0.6917 0.7023 0.6935] DecisionTreeClassifier\n",
            "平均スコア : 0.9200 個別スコア : [0.9259 0.9196 0.9145] RandomForestClassifier\n",
            "平均スコア : 0.9222 個別スコア : [0.9246 0.9213 0.9206] XGBClassifier\n"
          ],
          "name": "stdout"
        }
      ]
    },
    {
      "cell_type": "markdown",
      "metadata": {
        "id": "jEqZsgurrxN2"
      },
      "source": [
        "scoring ='roc_aut'　\n",
        "\n",
        "どの計算方法で順位をつけるかを指定するパラメータで、defaultはaccuracy (精度）\n",
        "\n",
        "今回は、正解データ1と0の比率がアンバランスであるので、精度だけ見ても良いアルゴリズムが見つかる可能性が低いため, ROC AUC値(ROC曲線下の面積）を利用する\n",
        "\n"
      ]
    },
    {
      "cell_type": "markdown",
      "metadata": {
        "id": "gOtHqAFUsbgQ"
      },
      "source": [
        "#### 学習・予測・評価"
      ]
    },
    {
      "cell_type": "code",
      "metadata": {
        "id": "e0xVziJgrnBd"
      },
      "source": [
        "#アルゴリズム選択\n",
        "# 前の結果よりXGBoostを採用\n",
        "algorithm = XGBClassifier(random_state=random_seed)\n",
        "\n",
        "# 学習\n",
        "algorithm.fit(x_train, y_train)\n",
        "\n",
        "#　予想\n",
        "y_pred = algorithm.predict(x_test)"
      ],
      "execution_count": 17,
      "outputs": []
    },
    {
      "cell_type": "code",
      "metadata": {
        "colab": {
          "base_uri": "https://localhost:8080/",
          "height": 159
        },
        "id": "Gv8ews6AswoP",
        "outputId": "4d01f112-7930-4202-8a46-de1d2bd4e912"
      },
      "source": [
        "#　評価\n",
        "\n",
        "# 混同行列を出力\n",
        "from sklearn.metrics import confusion_matrix\n",
        "df_matrix = make_cm(confusion_matrix(y_test, y_pred), ['失敗', '成功'])\n",
        "display(df_matrix)\n",
        "\n",
        "# 適合率, 再現率, F値を計算\n",
        "from sklearn.metrics import precision_recall_fscore_support\n",
        "precision, recall, fscore, _ = precision_recall_fscore_support(y_test, y_pred, average='binary')\n",
        "print(f'適合率: {precision:.4f} 再現率 : {recall:.4f} F値 : { fscore:.4f}')\n"
      ],
      "execution_count": 18,
      "outputs": [
        {
          "output_type": "display_data",
          "data": {
            "text/html": [
              "<div>\n",
              "<style scoped>\n",
              "    .dataframe tbody tr th:only-of-type {\n",
              "        vertical-align: middle;\n",
              "    }\n",
              "\n",
              "    .dataframe tbody tr th {\n",
              "        vertical-align: top;\n",
              "    }\n",
              "\n",
              "    .dataframe thead tr th {\n",
              "        text-align: left;\n",
              "    }\n",
              "</style>\n",
              "<table border=\"1\" class=\"dataframe\">\n",
              "  <thead>\n",
              "    <tr>\n",
              "      <th></th>\n",
              "      <th></th>\n",
              "      <th colspan=\"2\" halign=\"left\">予測結果</th>\n",
              "    </tr>\n",
              "    <tr>\n",
              "      <th></th>\n",
              "      <th></th>\n",
              "      <th>失敗</th>\n",
              "      <th>成功</th>\n",
              "    </tr>\n",
              "  </thead>\n",
              "  <tbody>\n",
              "    <tr>\n",
              "      <th rowspan=\"2\" valign=\"top\">正解データ</th>\n",
              "      <th>失敗</th>\n",
              "      <td>15593</td>\n",
              "      <td>376</td>\n",
              "    </tr>\n",
              "    <tr>\n",
              "      <th>成功</th>\n",
              "      <td>1341</td>\n",
              "      <td>775</td>\n",
              "    </tr>\n",
              "  </tbody>\n",
              "</table>\n",
              "</div>"
            ],
            "text/plain": [
              "           予測結果     \n",
              "             失敗   成功\n",
              "正解データ 失敗  15593  376\n",
              "      成功   1341  775"
            ]
          },
          "metadata": {
            "tags": []
          }
        },
        {
          "output_type": "stream",
          "text": [
            "適合率: 0.6733 再現率 : 0.3663 F値 : 0.4744\n"
          ],
          "name": "stdout"
        }
      ]
    },
    {
      "cell_type": "markdown",
      "metadata": {
        "id": "aGDcTDl_uhx6"
      },
      "source": [
        "ランダムにアプローチした場合 11.7%しかなかった営業成功率が適合率67.33%になったので成功率が６倍になったことを意味する\n",
        "\n",
        "次にモデルのチューニングについて考えてみる\n",
        "\n",
        "今回のモデルで抽出した見込み顧客は合計で1151人(=376+775)であった\n",
        "\n",
        "営業担当者がたくさんいて、　もっと多くの顧客に営業できる状況だった場合、もう少し判断基準を甘くして、より多くの候補をあげたくなることがある\n",
        "\n",
        "#### チューニング\n",
        "\n",
        "　通常の機械学習モデルのチューニング : アルゴリズムやパラメータの値を調整してモデルそのものを作り直す\n",
        "\n",
        "　今回のモデルチューニング : モデル自体は買えずにモデルの「閾値」を調整してユーザが望む結果に近づけるアプローチ\n",
        "\n",
        "　基本的には, 閾値は 0.5に設定しているので判断基準をどう帰るかを考える"
      ]
    },
    {
      "cell_type": "code",
      "metadata": {
        "colab": {
          "base_uri": "https://localhost:8080/",
          "height": 413
        },
        "id": "Tw7U3nmftiu9",
        "outputId": "987276ce-82d6-4ea0-fc1d-442f0115cb15"
      },
      "source": [
        "# 確率値の度数分布グラフ\n",
        "import seaborn as sns\n",
        "\n",
        "# y=0の確率値取得\n",
        "y_proba0 = algorithm.predict_proba(x_test)[:, 1]\n",
        "\n",
        "# y_test=0とy_test1でデータ分割\n",
        "y0 = y_proba0[y_test==0]\n",
        "y1 = y_proba0[y_test==1]\n",
        "\n",
        "# 散布図描画\n",
        "plt.figure(figsize=(6,6))\n",
        "plt.title('確率値の度数分布')\n",
        "sns.distplot(y1, kde=False, norm_hist=True,\n",
        "             bins=50, color='b', label='成功')\n",
        "sns.distplot(y0, kde=False, norm_hist=True,\n",
        "             bins=50, color='k', label='失敗')\n",
        "plt.xlabel('確率値')\n",
        "plt.legend()\n",
        "plt.show()"
      ],
      "execution_count": 19,
      "outputs": [
        {
          "output_type": "display_data",
          "data": {
            "image/png": "[encoded data removed]",
            "text/plain": [
              "<Figure size 432x432 with 1 Axes>"
            ]
          },
          "metadata": {
            "tags": [],
            "needs_background": "light"
          }
        }
      ]
    },
    {
      "cell_type": "markdown",
      "metadata": {
        "id": "9fnW_55fxHVv"
      },
      "source": [
        "#### これからやること\n",
        "\n",
        "閾値 0.5 (defult)　で分類していた。\n",
        "\n",
        "その値を少し下げたとしても成功位rつは悪くならず、切り捨てられる成功ケースが減ると予想される\n",
        "\n",
        "このためには、閾値をパラメータにした形で予測することが必要である"
      ]
    },
    {
      "cell_type": "code",
      "metadata": {
        "id": "9jQYyzq2wnjl"
      },
      "source": [
        "# 閾値を変更した場合の予測関数の定義\n",
        "def pred(algorithm, x, thres):\n",
        "  #確率値の取得 (行列)\n",
        "  y_proba = algorithm.predict_proba(x)\n",
        "\n",
        "  #予測結果１の確率値\n",
        "  y_proba1 = y_proba[:,1]\n",
        "\n",
        "  #　予測結果１の確率値 > 閾値\n",
        "  y_pred = (y_proba1 > thres).astype(int)\n",
        "  return y_pred\n",
        "  "
      ],
      "execution_count": 20,
      "outputs": []
    },
    {
      "cell_type": "code",
      "metadata": {
        "colab": {
          "base_uri": "https://localhost:8080/"
        },
        "id": "wsLZwwRcx8F4",
        "outputId": "e5359e5a-01c4-49c6-b434-0924035fd8af"
      },
      "source": [
        "# 閾値を0.05刻みに変化させて、適合率, 再現率, F値を計算する\n",
        "thres_list = np.arange(0.5, 0, -0.05)\n",
        "\n",
        "for thres in thres_list:\n",
        "  y_pred = pred(algorithm, x_test, thres)\n",
        "  pred_sum = y_pred.sum()\n",
        "  precision, recall, fscore, _ = precision_recall_fscore_support(\n",
        "      y_test, y_pred, average='binary')\n",
        "  print(f'閾値: {thres:.2f} 陽性予測数 : {pred_sum}\\\n",
        "  適合率　： {precision:.4f} 再現率 : {recall:.4f} F値 : {fscore:.4f})')"
      ],
      "execution_count": 21,
      "outputs": [
        {
          "output_type": "stream",
          "text": [
            "閾値: 0.50 陽性予測数 : 1151  適合率　： 0.6733 再現率 : 0.3663 F値 : 0.4744)\n",
            "閾値: 0.45 陽性予測数 : 1412  適合率　： 0.6402 再現率 : 0.4272 F値 : 0.5125)\n",
            "閾値: 0.40 陽性予測数 : 1724  適合率　： 0.6108 再現率 : 0.4976 F値 : 0.5484)\n",
            "閾値: 0.35 陽性予測数 : 2053  適合率　： 0.5889 再現率 : 0.5714 F値 : 0.5800)\n",
            "閾値: 0.30 陽性予測数 : 2411  適合率　： 0.5649 再現率 : 0.6437 F値 : 0.6017)\n",
            "閾値: 0.25 陽性予測数 : 2823  適合率　： 0.5257 再現率 : 0.7013 F値 : 0.6009)\n",
            "閾値: 0.20 陽性予測数 : 3364  適合率　： 0.4822 再現率 : 0.7665 F値 : 0.5920)\n",
            "閾値: 0.15 陽性予測数 : 4081  適合率　： 0.4347 再現率 : 0.8384 F値 : 0.5725)\n",
            "閾値: 0.10 陽性予測数 : 5260  適合率　： 0.3675 再現率 : 0.9135 F値 : 0.5241)\n",
            "閾値: 0.05 陽性予測数 : 7523  適合率　： 0.2741 再現率 : 0.9745 F値 : 0.4278)\n"
          ],
          "name": "stdout"
        }
      ]
    },
    {
      "cell_type": "markdown",
      "metadata": {
        "id": "KJCi2jS_y_JX"
      },
      "source": [
        "適合率と再現率はトレードオフの関係になっているので, バランスをみるF値の良い値を使う\n",
        "\n",
        "今回の閾値は 0.3とした場合が良さそうである"
      ]
    },
    {
      "cell_type": "code",
      "metadata": {
        "colab": {
          "base_uri": "https://localhost:8080/",
          "height": 159
        },
        "id": "5UHM_Ej5y1vl",
        "outputId": "90cf0432-b215-490d-fe1e-8bd45939f6d1"
      },
      "source": [
        "#F値を最大にする閾値は0.30\n",
        "y_final = pred(algorithm, x_test, 0.30)\n",
        "\n",
        "# 混同行列を出力\n",
        "df_matrix2 = make_cm(\n",
        "    confusion_matrix(y_test, y_final), ['失敗', '成功'])\n",
        "display(df_matrix2)\n",
        "\n",
        "# 適合率, 再現率, F値を計算\n",
        "precision, recall, fscore, _= precision_recall_fscore_support(\n",
        "    y_test, y_final, average='binary')\n",
        "print(f' 適合率　： {precision:.4f} 再現率 : {recall:.4f} F値 : {fscore:.4f})')"
      ],
      "execution_count": 22,
      "outputs": [
        {
          "output_type": "display_data",
          "data": {
            "text/html": [
              "<div>\n",
              "<style scoped>\n",
              "    .dataframe tbody tr th:only-of-type {\n",
              "        vertical-align: middle;\n",
              "    }\n",
              "\n",
              "    .dataframe tbody tr th {\n",
              "        vertical-align: top;\n",
              "    }\n",
              "\n",
              "    .dataframe thead tr th {\n",
              "        text-align: left;\n",
              "    }\n",
              "</style>\n",
              "<table border=\"1\" class=\"dataframe\">\n",
              "  <thead>\n",
              "    <tr>\n",
              "      <th></th>\n",
              "      <th></th>\n",
              "      <th colspan=\"2\" halign=\"left\">予測結果</th>\n",
              "    </tr>\n",
              "    <tr>\n",
              "      <th></th>\n",
              "      <th></th>\n",
              "      <th>失敗</th>\n",
              "      <th>成功</th>\n",
              "    </tr>\n",
              "  </thead>\n",
              "  <tbody>\n",
              "    <tr>\n",
              "      <th rowspan=\"2\" valign=\"top\">正解データ</th>\n",
              "      <th>失敗</th>\n",
              "      <td>14920</td>\n",
              "      <td>1049</td>\n",
              "    </tr>\n",
              "    <tr>\n",
              "      <th>成功</th>\n",
              "      <td>754</td>\n",
              "      <td>1362</td>\n",
              "    </tr>\n",
              "  </tbody>\n",
              "</table>\n",
              "</div>"
            ],
            "text/plain": [
              "           予測結果      \n",
              "             失敗    成功\n",
              "正解データ 失敗  14920  1049\n",
              "      成功    754  1362"
            ]
          },
          "metadata": {
            "tags": []
          }
        },
        {
          "output_type": "stream",
          "text": [
            " 適合率　： 0.5649 再現率 : 0.6437 F値 : 0.6017)\n"
          ],
          "name": "stdout"
        }
      ]
    },
    {
      "cell_type": "markdown",
      "metadata": {
        "id": "F6CEVVum0ESM"
      },
      "source": [
        "### 重要度分析"
      ]
    },
    {
      "cell_type": "code",
      "metadata": {
        "colab": {
          "base_uri": "https://localhost:8080/",
          "height": 414
        },
        "id": "4Rk0tcLQz2ze",
        "outputId": "d35ef3c7-859f-4f2c-97bf-82cda5614856"
      },
      "source": [
        "# 重要度ベクトルの取得\n",
        "importances = algorithm.feature_importances_\n",
        "\n",
        "# 項目名をキーにSeriesを生成\n",
        "w = pd.Series(importances, index=x.columns)\n",
        "\n",
        "# 値の大きい順にソート\n",
        "u = w.sort_values(ascending=False)\n",
        "\n",
        "# トップ10のみ抽出\n",
        "v = u[:10]\n",
        "\n",
        "#重要度の棒グラフ表示\n",
        "plt.title('入力項目の重要度', fontsize=14)\n",
        "plt.bar(range(len(v)), v, color='b', align='center')\n",
        "plt.xticks(range(len(v)), v.index, rotation=90, fontsize=14)\n",
        "plt.show()"
      ],
      "execution_count": 23,
      "outputs": [
        {
          "output_type": "display_data",
          "data": {
            "image/png": "[encoded data removed]",
            "text/plain": [
              "<Figure size 432x288 with 1 Axes>"
            ]
          },
          "metadata": {
            "tags": [],
            "needs_background": "light"
          }
        }
      ]
    },
    {
      "cell_type": "markdown",
      "metadata": {
        "id": "cvYkTDhg1QsM"
      },
      "source": [
        "各項目の影響度が目的変数に対して、良い方向に作用するのか、悪い方向に作用するのかは不明\n",
        "\n",
        "上位3項目に関して、個別にヒストグラムを表示する\n",
        "\n",
        "**課題：　上位4〜１０もヒストグラムを作り、どう影響するのかを予測せよ**"
      ]
    },
    {
      "cell_type": "code",
      "metadata": {
        "colab": {
          "base_uri": "https://localhost:8080/",
          "height": 286
        },
        "id": "raSOY4sm0-L0",
        "outputId": "ca9e2868-7619-4cc2-b6f1-091acbf07d10"
      },
      "source": [
        "column = '前回販促結果_success'\n",
        "\n",
        "sns.distplot(x_test[y_test==1][column], kde=False, norm_hist=True,\n",
        "             bins=5, color='b', label='成功')\n",
        "sns.distplot(x_test[y_test==0][column], kde=False, norm_hist=True,\n",
        "             bins=5, color='k', label='失敗')\n",
        "\n",
        "plt.legend()\n",
        "plt.show()"
      ],
      "execution_count": 24,
      "outputs": [
        {
          "output_type": "display_data",
          "data": {
            "image/png": "[encoded data removed]",
            "text/plain": [
              "<Figure size 432x288 with 1 Axes>"
            ]
          },
          "metadata": {
            "tags": [],
            "needs_background": "light"
          }
        }
      ]
    },
    {
      "cell_type": "markdown",
      "metadata": {
        "id": "98cwUA4Q2X70"
      },
      "source": [
        "右側のグラフをみる\n",
        "\n",
        "上部が青色なら良い方向の灰色なら悪い方向の影響となる\n",
        "\n",
        "今回は、良い方向に影響がある。　前回の販促で成功した顧客は良い方向の営業がある"
      ]
    },
    {
      "cell_type": "code",
      "metadata": {
        "colab": {
          "base_uri": "https://localhost:8080/",
          "height": 286
        },
        "id": "AShrSiQ52Jio",
        "outputId": "9d4bf815-1d05-4b10-849b-6e5380ceefae"
      },
      "source": [
        "column = '最終通話秒数'\n",
        "\n",
        "sns.distplot(x_test[y_test==1][column], kde=False, norm_hist=True,\n",
        "             bins=50, color='b', label='成功')\n",
        "sns.distplot(x_test[y_test==0][column], kde=False, norm_hist=True,\n",
        "             bins=50, color='k', label='失敗')\n",
        "\n",
        "plt.legend()\n",
        "plt.show()"
      ],
      "execution_count": 25,
      "outputs": [
        {
          "output_type": "display_data",
          "data": {
            "image/png": "[encoded data removed]",
            "text/plain": [
              "<Figure size 432x288 with 1 Axes>"
            ]
          },
          "metadata": {
            "tags": [],
            "needs_background": "light"
          }
        }
      ]
    },
    {
      "cell_type": "markdown",
      "metadata": {
        "id": "yCptElc33CeA"
      },
      "source": [
        "長く通話している顧客ほど成功の可能性が高いことがわかる"
      ]
    },
    {
      "cell_type": "code",
      "metadata": {
        "colab": {
          "base_uri": "https://localhost:8080/",
          "height": 286
        },
        "id": "FhtvQuk528F_",
        "outputId": "1fded965-25cc-40a9-dcc5-b8da3fecbf74"
      },
      "source": [
        "column = '連絡手段_unknown'\n",
        "\n",
        "sns.distplot(x_test[y_test==1][column], kde=False, norm_hist=True,\n",
        "             bins=5, color='b', label='成功')\n",
        "sns.distplot(x_test[y_test==0][column], kde=False, norm_hist=True,\n",
        "             bins=5, color='k', label='失敗')\n",
        "\n",
        "plt.legend()\n",
        "plt.show()"
      ],
      "execution_count": 27,
      "outputs": [
        {
          "output_type": "display_data",
          "data": {
            "image/png": "[encoded data removed]",
            "text/plain": [
              "<Figure size 432x288 with 1 Axes>"
            ]
          },
          "metadata": {
            "tags": [],
            "needs_background": "light"
          }
        }
      ]
    },
    {
      "cell_type": "markdown",
      "metadata": {
        "id": "qcYSjslo3fXu"
      },
      "source": [
        "悪い方向に影響があることがわかる\n",
        "\n",
        "**課題を以下に解く**"
      ]
    },
    {
      "cell_type": "code",
      "metadata": {
        "colab": {
          "base_uri": "https://localhost:8080/",
          "height": 285
        },
        "id": "WHv__6rV3Omx",
        "outputId": "8c7ebafa-8485-475a-ca25-33f31c13e465"
      },
      "source": [
        "column = '住宅ローン'\n",
        "\n",
        "sns.distplot(x_test[y_test==1][column], kde=False, norm_hist=True,\n",
        "             bins=5, color='b', label='成功')\n",
        "sns.distplot(x_test[y_test==0][column], kde=False, norm_hist=True,\n",
        "             bins=5, color='k', label='失敗')\n",
        "\n",
        "plt.legend()\n",
        "plt.show()"
      ],
      "execution_count": 28,
      "outputs": [
        {
          "output_type": "display_data",
          "data": {
            "image/png": "[encoded data removed]",
            "text/plain": [
              "<Figure size 432x288 with 1 Axes>"
            ]
          },
          "metadata": {
            "tags": [],
            "needs_background": "light"
          }
        }
      ]
    },
    {
      "cell_type": "markdown",
      "metadata": {
        "id": "YsNqLYi3ivm8"
      },
      "source": [
        "住宅ローンがない場合の方が成功率が上がるので負の方向に作用する"
      ]
    },
    {
      "cell_type": "code",
      "metadata": {
        "colab": {
          "base_uri": "https://localhost:8080/",
          "height": 287
        },
        "id": "0WeWWDqMiXxu",
        "outputId": "d878d4b1-d0c0-43f7-f009-636ca3304c7d"
      },
      "source": [
        "column = '婚姻_single'\n",
        "\n",
        "sns.distplot(x_test[y_test==1][column], kde=False, norm_hist=True,\n",
        "             bins=5, color='b', label='成功')\n",
        "sns.distplot(x_test[y_test==0][column], kde=False, norm_hist=True,\n",
        "             bins=5, color='k', label='失敗')\n",
        "\n",
        "plt.legend()\n",
        "plt.show()"
      ],
      "execution_count": 29,
      "outputs": [
        {
          "output_type": "display_data",
          "data": {
            "image/png": "[encoded data removed]",
            "text/plain": [
              "<Figure size 432x288 with 1 Axes>"
            ]
          },
          "metadata": {
            "tags": [],
            "needs_background": "light"
          }
        }
      ]
    },
    {
      "cell_type": "code",
      "metadata": {
        "colab": {
          "base_uri": "https://localhost:8080/",
          "height": 286
        },
        "id": "8TwO1kOYi4z4",
        "outputId": "499ca3b3-66a5-494c-e630-ce493823a080"
      },
      "source": [
        "column = '職業_student'\n",
        "\n",
        "sns.distplot(x_test[y_test==1][column], kde=False, norm_hist=True,\n",
        "             bins=5, color='b', label='成功')\n",
        "sns.distplot(x_test[y_test==0][column], kde=False, norm_hist=True,\n",
        "             bins=5, color='k', label='失敗')\n",
        "\n",
        "plt.legend()\n",
        "plt.show()"
      ],
      "execution_count": 30,
      "outputs": [
        {
          "output_type": "display_data",
          "data": {
            "image/png": "[encoded data removed]",
            "text/plain": [
              "<Figure size 432x288 with 1 Axes>"
            ]
          },
          "metadata": {
            "tags": [],
            "needs_background": "light"
          }
        }
      ]
    },
    {
      "cell_type": "code",
      "metadata": {
        "colab": {
          "base_uri": "https://localhost:8080/",
          "height": 285
        },
        "id": "uYm4FVrIi_ti",
        "outputId": "43f3fcbd-0393-459c-be10-40cd99e1cb66"
      },
      "source": [
        "column = '個人ローン'\n",
        "\n",
        "sns.distplot(x_test[y_test==1][column], kde=False, norm_hist=True,\n",
        "             bins=5, color='b', label='成功')\n",
        "sns.distplot(x_test[y_test==0][column], kde=False, norm_hist=True,\n",
        "             bins=5, color='k', label='失敗')\n",
        "\n",
        "plt.legend()\n",
        "plt.show()"
      ],
      "execution_count": 31,
      "outputs": [
        {
          "output_type": "display_data",
          "data": {
            "image/png": "[encoded data removed]",
            "text/plain": [
              "<Figure size 432x288 with 1 Axes>"
            ]
          },
          "metadata": {
            "tags": [],
            "needs_background": "light"
          }
        }
      ]
    },
    {
      "cell_type": "code",
      "metadata": {
        "colab": {
          "base_uri": "https://localhost:8080/",
          "height": 285
        },
        "id": "5juV5jrCjGlu",
        "outputId": "00675fbc-e589-4e87-fed5-3c52cf760e73"
      },
      "source": [
        "column = '年齢'\n",
        "\n",
        "sns.distplot(x_test[y_test==1][column], kde=False, norm_hist=True,\n",
        "             bins=50\n",
        "             , color='b', label='成功')\n",
        "sns.distplot(x_test[y_test==0][column], kde=False, norm_hist=True,\n",
        "             bins=50, color='k', label='失敗')\n",
        "\n",
        "plt.legend()\n",
        "plt.show()"
      ],
      "execution_count": 35,
      "outputs": [
        {
          "output_type": "display_data",
          "data": {
            "image/png": "[encoded data removed]",
            "text/plain": [
              "<Figure size 432x288 with 1 Axes>"
            ]
          },
          "metadata": {
            "tags": [],
            "needs_background": "light"
          }
        }
      ]
    },
    {
      "cell_type": "code",
      "metadata": {
        "colab": {
          "base_uri": "https://localhost:8080/",
          "height": 285
        },
        "id": "j9TjbTc_jIxj",
        "outputId": "6088e270-5b1a-40ef-a130-a29bf0c95547"
      },
      "source": [
        "column = '最終通話月'\n",
        "\n",
        "sns.distplot(x_test[y_test==1][column], kde=False, norm_hist=True,\n",
        "             bins=12, color='b', label='成功')\n",
        "sns.distplot(x_test[y_test==0][column], kde=False, norm_hist=True,\n",
        "             bins=12, color='k', label='失敗')\n",
        "\n",
        "plt.legend()\n",
        "plt.show()"
      ],
      "execution_count": 37,
      "outputs": [
        {
          "output_type": "display_data",
          "data": {
            "image/png": "[encoded data removed]",
            "text/plain": [
              "<Figure size 432x288 with 1 Axes>"
            ]
          },
          "metadata": {
            "tags": [],
            "needs_background": "light"
          }
        }
      ]
    },
    {
      "cell_type": "code",
      "metadata": {
        "colab": {
          "base_uri": "https://localhost:8080/",
          "height": 285
        },
        "id": "hF2j5k5ijYwC",
        "outputId": "8573282e-0804-4935-b277-c85285678d72"
      },
      "source": [
        "column = '最終通話日'\n",
        "\n",
        "sns.distplot(x_test[y_test==1][column], kde=False, norm_hist=True,\n",
        "             bins=31, color='b', label='成功')\n",
        "sns.distplot(x_test[y_test==0][column], kde=False, norm_hist=True,\n",
        "             bins=31, color='k', label='失敗')\n",
        "\n",
        "plt.legend()\n",
        "plt.show()"
      ],
      "execution_count": 38,
      "outputs": [
        {
          "output_type": "display_data",
          "data": {
            "image/png": "[encoded data removed]",
            "text/plain": [
              "<Figure size 432x288 with 1 Axes>"
            ]
          },
          "metadata": {
            "tags": [],
            "needs_background": "light"
          }
        }
      ]
    },
    {
      "cell_type": "code",
      "metadata": {
        "id": "ez4KzFECjglI"
      },
      "source": [
        ""
      ],
      "execution_count": null,
      "outputs": []
    }
  ]
}