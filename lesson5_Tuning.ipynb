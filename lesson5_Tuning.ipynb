{
  "nbformat": 4,
  "nbformat_minor": 0,
  "metadata": {
    "colab": {
      "name": "lesson5_Tuning",
      "provenance": [],
      "collapsed_sections": []
    },
    "kernelspec": {
      "name": "python3",
      "display_name": "Python 3"
    }
  },
  "cells": [
    {
      "cell_type": "code",
      "metadata": {
        "colab": {
          "base_uri": "https://localhost:8080/"
        },
        "id": "urkjnWVT-TYz",
        "outputId": "6b98a395-c1d6-4c67-ba60-ff56f4d34c21"
      },
      "source": [
        "# 日本語化ライブラリの導入\n",
        "\n",
        "!pip install japanize-matplotlib | tail -n 1\n",
        "\n",
        "# 共通事前処理\n",
        "\n",
        "# 余分なワーニングを非表示にする\n",
        "import warnings\n",
        "warnings.filterwarnings('ignore')\n",
        "\n",
        "# ライブりのインポート\n",
        "import pandas as pd\n",
        "import numpy as np\n",
        "import matplotlib.pyplot as plt\n",
        "\n",
        "#matplotlibの日本語化対応\n",
        "import japanize_matplotlib\n",
        "\n",
        "#データフレーム表示用関数\n",
        "from IPython.display import display\n",
        "\n",
        "# 表示オプション調整\n",
        "# NumPyの不動招集点の表示精度\n",
        "np.set_printoptions(suppress=True, precision=4)\n",
        "# pandasでの浮動小数点の表示精度\n",
        "pd.options.display.float_format = '{:.4f}'.format\n",
        "#データフレームで全ての項目を表示\n",
        "pd.set_option(\"display.max_columns\", None)\n",
        "#グラフのデフォルトフォントの指定\n",
        "plt.rcParams[\"font.size\"] = 14\n",
        "#乱数の種\n",
        "random_seed = 123"
      ],
      "execution_count": 2,
      "outputs": [
        {
          "output_type": "stream",
          "text": [
            "Successfully installed japanize-matplotlib-1.1.3\n"
          ],
          "name": "stdout"
        }
      ]
    },
    {
      "cell_type": "markdown",
      "metadata": {
        "id": "YFJfnf9U-0po"
      },
      "source": [
        "# チューニング\n",
        "\n",
        "　モデルの精度を上げるためのタスクが**チューニング**\n",
        "\n",
        "分類の処理パターンに対象を絞って解説する\n",
        "\n",
        "このチューニングが、データサイエンスの重要な業務であるが今回は基本的なチューニング方法を対象とする\n",
        "\n",
        "### アルゴリズムの選択\n",
        "\n",
        "　チューニング　１　：　**適切なアルゴリズムの選択**  \\\\\n",
        "　\n",
        "  経験を積めば、どのようなアルゴリズムが良いかは自然とわかってくる \\\\\n",
        "  最初のステップは、複数のアルゴリズム候補を横並びにしてモデルを作り、精度を比較する \\\\\n",
        "  例　：　「乳がん疾患データ」　　　　訓練データ　90%,  テストデータ 10% で作成"
      ]
    },
    {
      "cell_type": "code",
      "metadata": {
        "id": "EN76yobH-VxO"
      },
      "source": [
        "# サンプルデータの読み込み\n",
        "# (乳がん疾患データ)\n",
        "\n",
        "# データのロード\n",
        "from sklearn.datasets import load_breast_cancer\n",
        "cancer = load_breast_cancer()\n",
        "\n",
        "# 入力データ : x (30次元)\n",
        "# 正解データ　: y \n",
        "x = cancer.data\n",
        "y = cancer.target"
      ],
      "execution_count": 3,
      "outputs": []
    },
    {
      "cell_type": "code",
      "metadata": {
        "colab": {
          "base_uri": "https://localhost:8080/"
        },
        "id": "dQ46sB4LALl5",
        "outputId": "4caf45d4-87e7-4451-d124-c95352d00e82"
      },
      "source": [
        "# サンプルデータの分割\n",
        "\n",
        "# データ分割のパラメータ\n",
        "test_size = 0.1\n",
        "\n",
        "# データ分割\n",
        "from sklearn.model_selection import train_test_split\n",
        "x_train, x_test, y_train, y_test = train_test_split(x, y, \n",
        "                                                    test_size = test_size, random_state=random_seed, stratify=y)\n",
        "\n",
        "# 分割サイズ確認\n",
        "print(x.shape)\n",
        "print(x_train.shape)\n",
        "print(x_test.shape)"
      ],
      "execution_count": 4,
      "outputs": [
        {
          "output_type": "stream",
          "text": [
            "(569, 30)\n",
            "(512, 30)\n",
            "(57, 30)\n"
          ],
          "name": "stdout"
        }
      ]
    },
    {
      "cell_type": "code",
      "metadata": {
        "id": "XmlR8ksMAgp0"
      },
      "source": [
        "# 複数アルゴリズムで精度を比較\n",
        "# 結果が同じになるよう radom_stateは同一にする\n",
        "\n",
        "# 線形回帰\n",
        "from sklearn.linear_model import LogisticRegression\n",
        "algorithm1 = LogisticRegression(random_state=random_seed)\n",
        "\n",
        "# サポートベクターマシン（カーネル)\n",
        "from sklearn.svm import SVC\n",
        "algorithm2 = SVC(kernel = 'rbf', random_state=random_seed)\n",
        "\n",
        "#　決定木\n",
        "from sklearn.tree import DecisionTreeClassifier\n",
        "algorithm3 = DecisionTreeClassifier(random_state=random_seed)\n",
        "\n",
        "# ランダムフォレスト\n",
        "from sklearn.ensemble import RandomForestClassifier\n",
        "algorithm4 = RandomForestClassifier(random_state=random_seed)\n",
        "\n",
        "#XGBoost\n",
        "from xgboost import XGBClassifier\n",
        "algorithm5 = XGBClassifier(random_state=random_seed)\n",
        "\n",
        "#アルゴリズムのリスト作成\n",
        "algorithms = [algorithm1, algorithm2, algorithm3, algorithm4, algorithm5]"
      ],
      "execution_count": 5,
      "outputs": []
    },
    {
      "cell_type": "code",
      "metadata": {
        "colab": {
          "base_uri": "https://localhost:8080/"
        },
        "id": "0XzLIiZvB4RU",
        "outputId": "b9375662-8789-4029-de95-1ca7ea544f64"
      },
      "source": [
        "#　複数のアルゴリズムで精度比較\n",
        "for algorithm in algorithms:\n",
        "\n",
        "  #訓練データの学習\n",
        "  algorithm.fit(x_train, y_train)\n",
        "\n",
        "  #検証データで精度測定\n",
        "  score = algorithm.score(x_test, y_test)\n",
        "\n",
        "  # アルゴリズム名の取得\n",
        "  name = algorithm.__class__.__name__\n",
        "\n",
        "  #精度とアルゴリズム名表示\n",
        "  print(f'score : {score:.4f} {name}')"
      ],
      "execution_count": 6,
      "outputs": [
        {
          "output_type": "stream",
          "text": [
            "score : 0.9474 LogisticRegression\n",
            "score : 0.8947 SVC\n",
            "score : 0.9474 DecisionTreeClassifier\n",
            "score : 0.9298 RandomForestClassifier\n",
            "score : 0.9825 XGBClassifier\n"
          ],
          "name": "stdout"
        }
      ]
    },
    {
      "cell_type": "markdown",
      "metadata": {
        "id": "6UlyoaeGCjcM"
      },
      "source": [
        "検証結果\n",
        "\n",
        "　・サポートベクタマシンは精度が悪い \\\\\n",
        "　・XGBoostは精度がよく検証データに対して98.25[%]となっている \\\\\n",
        "  ・他の3つのアルゴリズムは、似たり寄ったりだがロジスティック回帰と決定木の精度がランダムフォレストよりは良い"
      ]
    },
    {
      "cell_type": "markdown",
      "metadata": {
        "id": "VOLKkrdbC_FS"
      },
      "source": [
        "## ハイパーパラメータの最適化\n",
        "\n",
        " **ハイパーパラメター** : 各アルゴリズムが持っているパラメータの最適化\n",
        "\n",
        " 例：　先ほど一番悪かった SVMで調整を行う"
      ]
    },
    {
      "cell_type": "code",
      "metadata": {
        "colab": {
          "base_uri": "https://localhost:8080/"
        },
        "id": "elKTLyImCYeN",
        "outputId": "c049666c-2e6d-4f8f-f4a5-cb0a5894f126"
      },
      "source": [
        "# デフォルトパラメータの確認\n",
        "algorithm = SVC(kernel='rbf', random_state=random_seed)\n",
        "print(algorithm)"
      ],
      "execution_count": 7,
      "outputs": [
        {
          "output_type": "stream",
          "text": [
            "SVC(C=1.0, break_ties=False, cache_size=200, class_weight=None, coef0=0.0,\n",
            "    decision_function_shape='ovr', degree=3, gamma='scale', kernel='rbf',\n",
            "    max_iter=-1, probability=False, random_state=123, shrinking=True, tol=0.001,\n",
            "    verbose=False)\n"
          ],
          "name": "stdout"
        }
      ]
    },
    {
      "cell_type": "markdown",
      "metadata": {
        "id": "-5aqzgveDcbQ"
      },
      "source": [
        "ここで、　大きく影響を及ぼすパラメータであるgammaとCを調整する"
      ]
    },
    {
      "cell_type": "code",
      "metadata": {
        "colab": {
          "base_uri": "https://localhost:8080/"
        },
        "id": "5pKCc7KlDZ9o",
        "outputId": "8aeb6849-fc8b-419a-867d-d61f211d86ad"
      },
      "source": [
        "# gammaの最適化\n",
        "gammas = [1, 0.1, 0.01, 0.001, 0.0001, 0.00001]\n",
        "\n",
        "for gamma in gammas:\n",
        "  algorithm = SVC(kernel='rbf', gamma = gamma, \n",
        "                  random_state= random_seed)\n",
        "  algorithm.fit(x_train, y_train)\n",
        "  score = algorithm.score(x_test, y_test)\n",
        "  print(f'score : {score:.4f} gamma:{gamma}')\n"
      ],
      "execution_count": 8,
      "outputs": [
        {
          "output_type": "stream",
          "text": [
            "score : 0.6316 gamma:1\n",
            "score : 0.6316 gamma:0.1\n",
            "score : 0.6316 gamma:0.01\n",
            "score : 0.9474 gamma:0.001\n",
            "score : 0.9474 gamma:0.0001\n",
            "score : 0.9474 gamma:1e-05\n"
          ],
          "name": "stdout"
        }
      ]
    },
    {
      "cell_type": "markdown",
      "metadata": {
        "id": "b6brWFMaEMBP"
      },
      "source": [
        "考察 \n",
        "\n",
        "0.001より1/10倍しても変わらないので0.001を採用"
      ]
    },
    {
      "cell_type": "code",
      "metadata": {
        "colab": {
          "base_uri": "https://localhost:8080/"
        },
        "id": "bp46HfHVECff",
        "outputId": "ede1a7fa-2f5f-485d-fc1f-ca6ba09b6b9e"
      },
      "source": [
        "# Cの最適化\n",
        "# gammaは先ほど調べた最適値0.001を採用\n",
        "\n",
        "Cs = [1, 10, 100, 1000, 10000]\n",
        "\n",
        "for C in Cs:\n",
        "  algorithm = SVC(kernel='rbf', gamma = 0.001,\n",
        "                  C=C, random_state=random_seed)\n",
        "  algorithm.fit(x_train, y_train)\n",
        "  score = algorithm.score(x_test, y_test)\n",
        "  print(f'score : {score:.4f} C:{C}')"
      ],
      "execution_count": 9,
      "outputs": [
        {
          "output_type": "stream",
          "text": [
            "score : 0.9474 C:1\n",
            "score : 0.9298 C:10\n",
            "score : 0.9298 C:100\n",
            "score : 0.9298 C:1000\n",
            "score : 0.9298 C:10000\n"
          ],
          "name": "stdout"
        }
      ]
    },
    {
      "cell_type": "markdown",
      "metadata": {
        "id": "yZYGTyGoE3aX"
      },
      "source": [
        "考察\n",
        "\n",
        "　C = 1が最適であることがわかる\n",
        "\n",
        "以上のように**何を**モデルのチューニング対象とするかは、各アルゴリズムで違うので調べること"
      ]
    },
    {
      "cell_type": "markdown",
      "metadata": {
        "id": "rpC5Il5ZFTVD"
      },
      "source": [
        "## 交差検定法\n",
        "\n",
        "　アルゴリズムの比較では、XGBoostが一番良かったが、実はこれだけでは判断できない\n",
        "\n",
        "　モデルの精度は、検証データに大きく依存している\n",
        "\n",
        "　ある検証データに対してたまたま良い精度を出したアルゴリズム出会っても、乱数の種の値を変えて別の検証データに変更するとまりよくない可能性もある\n",
        "\n",
        "　　このような問題に対応するための検定方法が**交差検定法(cross validatio)**\n",
        "\n",
        " 学習データ全体に対して最初に分割数(cv)を決定して、学習データを均等に分割し、それぞれ1つのグループのみをテストデータとして検証を行う\n"
      ]
    },
    {
      "cell_type": "code",
      "metadata": {
        "colab": {
          "base_uri": "https://localhost:8080/"
        },
        "id": "r9C3UEMyEpvq",
        "outputId": "65ca0c03-7e28-4120-c20f-1cb38dce1cfb"
      },
      "source": [
        "# 特定のアルゴリズムに対して交差検定法を実施\n",
        "\n",
        "# アルゴリズムの定義\n",
        "algorithm = SVC(kernel='rbf', random_state=random_seed, gamma=0.001, C=1)\n",
        "\n",
        "# 分割時に正解データの分布が偏らないようにStratifiedKFoldを利用\n",
        "from sklearn.model_selection import StratifiedKFold\n",
        "stratifiedkfold = StratifiedKFold(n_splits=3)\n",
        "\n",
        "# 交差検定の実施 (分割数=3)\n",
        "from sklearn.model_selection import cross_val_score\n",
        "scores = cross_val_score(algorithm, x_train, y_train, cv=stratifiedkfold)\n",
        "\n",
        "# 平均値の計算\n",
        "mean = scores.mean()\n",
        "\n",
        "# 結果の表示\n",
        "print(f'平均スコア : {mean:.4f} 個別スコア : {scores}')"
      ],
      "execution_count": 10,
      "outputs": [
        {
          "output_type": "stream",
          "text": [
            "平均スコア : 0.9141 個別スコア : [0.8889 0.9181 0.9353]\n"
          ],
          "name": "stdout"
        }
      ]
    },
    {
      "cell_type": "code",
      "metadata": {
        "id": "YGcZn_JsG414"
      },
      "source": [
        "# 候補アルゴリズムのリスト作成\n",
        "\n",
        "# 複数アルゴリズムで精度を比較\n",
        "# 結果が同じになるよう radom_stateは同一にする\n",
        "\n",
        "# 線形回帰\n",
        "from sklearn.linear_model import LogisticRegression\n",
        "algorithm1 = LogisticRegression(random_state=random_seed)\n",
        "\n",
        "# サポートベクターマシン（カーネル)\n",
        "from sklearn.svm import SVC\n",
        "algorithm2 = SVC(kernel = 'rbf', random_state=random_seed, gamma = 0.001, C = 1)\n",
        "\n",
        "#　決定木\n",
        "from sklearn.tree import DecisionTreeClassifier\n",
        "algorithm3 = DecisionTreeClassifier(random_state=random_seed)\n",
        "\n",
        "# ランダムフォレスト\n",
        "from sklearn.ensemble import RandomForestClassifier\n",
        "algorithm4 = RandomForestClassifier(random_state=random_seed)\n",
        "\n",
        "#XGBoost\n",
        "from xgboost import XGBClassifier\n",
        "algorithm5 = XGBClassifier(random_state=random_seed)\n",
        "\n",
        "#アルゴリズムのリスト作成\n",
        "algorithms = [algorithm1, algorithm2, algorithm3, algorithm4, algorithm5]"
      ],
      "execution_count": 11,
      "outputs": []
    },
    {
      "cell_type": "code",
      "metadata": {
        "colab": {
          "base_uri": "https://localhost:8080/"
        },
        "id": "Q8NPlcyXHUaY",
        "outputId": "57944291-831f-43e5-adfd-ed7dd6e2d91c"
      },
      "source": [
        "# 複数アルゴリズムで精度を比較\n",
        "\n",
        "# 分割時に正解データの分布が偏らないようにStratifieldKFoldを利用\n",
        "from sklearn.model_selection import StratifiedKFold\n",
        "stratifiedkfold = StratifiedKFold(n_splits=3)\n",
        "\n",
        "from sklearn.model_selection import cross_val_score\n",
        "for algorithm in algorithms:\n",
        "  #　交差検定法の実施\n",
        "  scores = cross_val_score(algorithm, x_train, y_train, cv=stratifiedkfold)\n",
        "  score = scores.mean()\n",
        "  name = algorithm.__class__.__name__\n",
        "  print(f'平均スコア： {score:.4f} 個別スコア : {scores} {name}')"
      ],
      "execution_count": 12,
      "outputs": [
        {
          "output_type": "stream",
          "text": [
            "平均スコア： 0.9453 個別スコア : [0.9357 0.9474 0.9529] LogisticRegression\n",
            "平均スコア： 0.9141 個別スコア : [0.8889 0.9181 0.9353] SVC\n",
            "平均スコア： 0.9062 個別スコア : [0.8713 0.9415 0.9059] DecisionTreeClassifier\n",
            "平均スコア： 0.9629 個別スコア : [0.9649 0.9591 0.9647] RandomForestClassifier\n",
            "平均スコア： 0.9590 個別スコア : [0.9591 0.9649 0.9529] XGBClassifier\n"
          ],
          "name": "stdout"
        }
      ]
    },
    {
      "cell_type": "markdown",
      "metadata": {
        "id": "00Du7cJsIPtf"
      },
      "source": [
        "### グリッドサーチ\n",
        "\n",
        "前回のチューニング : gammaとCを２回に分けて最適値を調べた\n",
        "\n",
        "特定のパラメータ値の組み合わせが最適である可能性がある。厳密のために調べる方法"
      ]
    },
    {
      "cell_type": "code",
      "metadata": {
        "id": "is6CBFayIDBh",
        "colab": {
          "base_uri": "https://localhost:8080/"
        },
        "outputId": "ca3a3cdc-f931-49a3-d829-618ec79a348b"
      },
      "source": [
        "# グリッドリサーチに交差検定を組み合わせて最適なパラメータを探索\n",
        "\n",
        "params = {\n",
        "    'C' : [1, 10, 100, 1000, 10000],\n",
        "    'gamma' : [1, 0.1, 0.01, 0.001, 0.0001, 0.00001]\n",
        "}\n",
        "\n",
        "algorithm = SVC(random_state=random_seed)\n",
        "\n",
        "from sklearn.model_selection import StratifiedKFold\n",
        "stratifieldfold = StratifiedKFold(n_splits=3)\n",
        "\n",
        "from sklearn.model_selection import GridSearchCV\n",
        "gs = GridSearchCV(algorithm, params, cv=stratifiedkfold)\n",
        "gs.fit(x_train, y_train)\n",
        "\n",
        "# ベストのモデルを取得し検証データを分類\n",
        "best = gs.best_estimator_\n",
        "best_pred = best.predict(x_test)\n",
        "print(best)"
      ],
      "execution_count": 16,
      "outputs": [
        {
          "output_type": "stream",
          "text": [
            "SVC(C=1000, break_ties=False, cache_size=200, class_weight=None, coef0=0.0,\n",
            "    decision_function_shape='ovr', degree=3, gamma=1e-05, kernel='rbf',\n",
            "    max_iter=-1, probability=False, random_state=123, shrinking=True, tol=0.001,\n",
            "    verbose=False)\n"
          ],
          "name": "stdout"
        }
      ]
    },
    {
      "cell_type": "code",
      "metadata": {
        "colab": {
          "base_uri": "https://localhost:8080/"
        },
        "id": "CEkLvFC7d1_8",
        "outputId": "82d61445-2e9b-434b-e439-59070c288a7f"
      },
      "source": [
        "# 精度の取得\n",
        "score = best.score(x_test, y_test)\n",
        "print(f'スコア　: {score:.4f}')\n",
        "\n",
        "# 混同行列を出力\n",
        "from sklearn.metrics import confusion_matrix\n",
        "print()\n",
        "print('混同行列')\n",
        "print(confusion_matrix(y_test, best_pred))"
      ],
      "execution_count": 18,
      "outputs": [
        {
          "output_type": "stream",
          "text": [
            "スコア　: 0.9825\n",
            "\n",
            "混同行列\n",
            "[[20  1]\n",
            " [ 0 36]]\n"
          ],
          "name": "stdout"
        }
      ]
    },
    {
      "cell_type": "code",
      "metadata": {
        "id": "TXzVE_6lfJZQ"
      },
      "source": [
        ""
      ],
      "execution_count": null,
      "outputs": []
    }
  ]
}