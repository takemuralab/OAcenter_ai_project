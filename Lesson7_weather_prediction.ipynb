{
  "nbformat": 4,
  "nbformat_minor": 0,
  "metadata": {
    "colab": {
      "name": "Lesson7_weather_prediction.ipynb",
      "provenance": [],
      "collapsed_sections": [],
      "authorship_tag": "ABX9TyNt/Sk0oA+RZDTP4Y/XT0Eg",
      "include_colab_link": true
    },
    "kernelspec": {
      "name": "python3",
      "display_name": "Python 3"
    }
  },
  "cells": [
    {
      "cell_type": "markdown",
      "metadata": {
        "id": "view-in-github",
        "colab_type": "text"
      },
      "source": [
        "<a href=\"https://colab.research.google.com/github/takemuralab/OAcenter_ai_project/blob/main/Lesson7_weather_prediction.ipynb\" target=\"_parent\"><img src=\"https://colab.research.google.com/assets/colab-badge.svg\" alt=\"Open In Colab\"/></a>"
      ]
    },
    {
      "cell_type": "markdown",
      "metadata": {
        "id": "VLzX7hftlSU7"
      },
      "source": [
        "# 天候による売上予測　（回帰）\n",
        "\n",
        "  例：　自転車のレンタル予測\n",
        "\n",
        "  使用アルゴリズム　: 回帰　 （未来予想）  →　　**「教師あり学習」**\n",
        " \n",
        "  **回帰** →　**「数値」を予測する処理パターン**\n",
        "\n",
        "  例題データセット :  Bike \n",
        "  sharing Datasete Data Set :  https://archive.ics.uci.edu/ml/datasets/bike+sharing+dataset\n",
        "\n",
        "  入力変数 :   日付, 季節, 年,  月, 祝日, 曜日, 勤務日, 天気, 気温, 体感温度, 湿度, 風速\n",
        "\n",
        "  目的変数 : 臨時ユーザー利用数, 登録ユーザー利用数,  全体ユーザー利用数\n",
        "\n",
        "  この自転車レンタル会社には、事前に登録した会員がいて、登録会員と非登録会員の朗報に貸し出し手をしている事業形態である。\n",
        "\n",
        "  登録会員による利用者数 [登録ユーザー利用数」\n",
        "\n",
        "  非登録会員尾利用者数 「臨時ユーザー利用数」\n",
        "\n",
        "  上記の2つをたしたもの　「全体ユーザー利用数」\n",
        "\n",
        "  　今回は目的変数に、影響が大きなものをである「登録ユーザー利用数」に絞り込んで行う\n",
        "\n",
        "\n",
        "#### データ項目メモ\n",
        "\n",
        "instant インデックス  \n",
        "dteday 日付(yy-mm-dd)  \n",
        "season 季節 (1: 冬 2: 春 3: 夏 4:秋)  \n",
        "yr 年 (0: 2011, 1:2012)  \n",
        "mnth 月  (1 - 12)  \n",
        "hr 時間  (0 - 23)  \n",
        "holiday 祝日  \n",
        "weekday 曜日 (0 - 6)  \n",
        "workingday  勤務日 (1: 勤務日 0: 休日)  \n",
        "weathersit 天気 (1: 晴れから曇り 2: 霧 3: 小雨 4: 大雨)  \n",
        "temp 気温 (正規化済み)  \n",
        "atemp 体感気温 (正規化済み)  \n",
        "hum 湿度 (正規化済み)  \n",
        "windspeed 風速 (正規化済み)  \n",
        "casual 臨時利用者数  \n",
        "registered 登録利用者数  \n",
        "cnt 全体利用者数  \n",
        "\n",
        "**回帰**タイプの問題では、**日付**が出てくることが多い\n",
        "\n",
        "日付けの取扱い方は、重要なので今回の項目で練習する\n",
        "\n",
        "最終的には、1日の自転車利用者数を予測する"
      ]
    },
    {
      "cell_type": "code",
      "metadata": {
        "colab": {
          "base_uri": "https://localhost:8080/"
        },
        "id": "D23sE1LHlGzB",
        "outputId": "ada0d47a-827e-4172-c237-c60f05a1af55"
      },
      "source": [
        "# 日本語化ライブラリの導入\n",
        "\n",
        "!pip install japanize-matplotlib | tail -n 1\n",
        "\n",
        "# 共通事前処理\n",
        "\n",
        "# 余分なワーニングを非表示にする\n",
        "import warnings\n",
        "warnings.filterwarnings('ignore')\n",
        "\n",
        "# 必要ライブラリのimport\n",
        "import pandas as pd\n",
        "import numpy as np\n",
        "import matplotlib.pyplot as plt\n",
        "\n",
        "# matplotlib日本語化対応\n",
        "import japanize_matplotlib\n",
        "\n",
        "# データフレーム表示用関数\n",
        "from IPython.display import display\n",
        "\n",
        "# 表示オプション調整\n",
        "# numpyの浮動小数点の表示精度\n",
        "np.set_printoptions(suppress=True, precision=4)\n",
        "# pandasでの浮動小数点の表示精度\n",
        "pd.options.display.float_format = '{:.4f}'.format\n",
        "# データフレームですべての項目を表示\n",
        "pd.set_option(\"display.max_columns\",None)\n",
        "# グラフのデフォルトフォント指定\n",
        "plt.rcParams[\"font.size\"] = 14\n",
        "# 乱数の種\n",
        "random_seed = 123"
      ],
      "execution_count": 1,
      "outputs": [
        {
          "output_type": "stream",
          "text": [
            "Successfully installed japanize-matplotlib-1.1.3\n"
          ],
          "name": "stdout"
        }
      ]
    },
    {
      "cell_type": "code",
      "metadata": {
        "colab": {
          "base_uri": "https://localhost:8080/"
        },
        "id": "AivfkrSIn-XC",
        "outputId": "2037c881-6406-4a63-fa7e-5fa37c28b6de"
      },
      "source": [
        "# ダウンロード元URL\n",
        "url = 'https://archive.ics.uci.edu/ml/\\\n",
        "machine-learning-databases/00275/\\\n",
        "Bike-Sharing-Dataset.zip'\n",
        "\n",
        "# 公開データのダウンロードと解凍\n",
        "!wget $url -O Bike-Sharing-Dataset.zip | tail -n 1\n",
        "!unzip -o Bike-Sharing-Dataset.zip | tail -n 1"
      ],
      "execution_count": 2,
      "outputs": [
        {
          "output_type": "stream",
          "text": [
            "--2021-01-05 03:51:09--  https://archive.ics.uci.edu/ml/machine-learning-databases/00275/Bike-Sharing-Dataset.zip\n",
            "Resolving archive.ics.uci.edu (archive.ics.uci.edu)... 128.195.10.252\n",
            "Connecting to archive.ics.uci.edu (archive.ics.uci.edu)|128.195.10.252|:443... connected.\n",
            "HTTP request sent, awaiting response... 200 OK\n",
            "Length: 279992 (273K) [application/x-httpd-php]\n",
            "Saving to: ‘Bike-Sharing-Dataset.zip’\n",
            "\n",
            "Bike-Sharing-Datase 100%[===================>] 273.43K  1.04MB/s    in 0.3s    \n",
            "\n",
            "2021-01-05 03:51:09 (1.04 MB/s) - ‘Bike-Sharing-Dataset.zip’ saved [279992/279992]\n",
            "\n",
            "  inflating: hour.csv                \n"
          ],
          "name": "stdout"
        }
      ]
    },
    {
      "cell_type": "code",
      "metadata": {
        "colab": {
          "base_uri": "https://localhost:8080/"
        },
        "id": "djlNgKBgq37h",
        "outputId": "1e1e19dc-31ca-45c4-f60a-0de72cdeee13"
      },
      "source": [
        "!head -5 day.csv"
      ],
      "execution_count": 3,
      "outputs": [
        {
          "output_type": "stream",
          "text": [
            "instant,dteday,season,yr,mnth,holiday,weekday,workingday,weathersit,temp,atemp,hum,windspeed,casual,registered,cnt\r\n",
            "1,2011-01-01,1,0,1,0,6,0,2,0.344167,0.363625,0.805833,0.160446,331,654,985\r\n",
            "2,2011-01-02,1,0,1,0,0,0,2,0.363478,0.353739,0.696087,0.248539,131,670,801\r\n",
            "3,2011-01-03,1,0,1,0,1,1,1,0.196364,0.189405,0.437273,0.248309,120,1229,1349\r\n",
            "4,2011-01-04,1,0,1,0,2,1,1,0.2,0.212122,0.590435,0.160296,108,1454,1562\r\n"
          ],
          "name": "stdout"
        }
      ]
    },
    {
      "cell_type": "code",
      "metadata": {
        "colab": {
          "base_uri": "https://localhost:8080/"
        },
        "id": "FBlJUdJ9sSqo",
        "outputId": "be94ffe8-5417-470c-f0b8-aa169d835419"
      },
      "source": [
        "#day.csvをデータフレームに取り込み\n",
        "# 日付を表す列はparse_datesで指定する\n",
        "df = pd.read_csv('day.csv', parse_dates=[1])\n",
        "\n",
        "#データ属性の確認\n",
        "print(df.dtypes)"
      ],
      "execution_count": 4,
      "outputs": [
        {
          "output_type": "stream",
          "text": [
            "instant                int64\n",
            "dteday        datetime64[ns]\n",
            "season                 int64\n",
            "yr                     int64\n",
            "mnth                   int64\n",
            "holiday                int64\n",
            "weekday                int64\n",
            "workingday             int64\n",
            "weathersit             int64\n",
            "temp                 float64\n",
            "atemp                float64\n",
            "hum                  float64\n",
            "windspeed            float64\n",
            "casual                 int64\n",
            "registered             int64\n",
            "cnt                    int64\n",
            "dtype: object\n"
          ],
          "name": "stdout"
        }
      ]
    },
    {
      "cell_type": "markdown",
      "metadata": {
        "id": "yknJa8dRsx_v"
      },
      "source": [
        "parse_data = [1]　：　　日付けの項目であると確認した[1]の列を日付型として読み込んで欲しいという指定"
      ]
    },
    {
      "cell_type": "code",
      "metadata": {
        "id": "sIJtzc2ksrtd"
      },
      "source": [
        "#instantは連番で予測不要なので削除\n",
        "df = df.drop('instant', axis=1)\n",
        "\n",
        "#　項目名の日本語化\n",
        "\n",
        "columns = [\n",
        "           '日付', '季節', '年', '月', '祝日', '曜日', '勤務日', '天気', '気温', '体感温度', '湿度', \n",
        "           '風速', '臨時ユーザ利用数', '登録ユーザ利用数', '全体ユーザ利用数'\n",
        "]\n",
        "\n",
        "# 項目名を日本語に置き換え\n",
        "df.columns = columns"
      ],
      "execution_count": 5,
      "outputs": []
    },
    {
      "cell_type": "code",
      "metadata": {
        "colab": {
          "base_uri": "https://localhost:8080/",
          "height": 391
        },
        "id": "wzT-cf9Xt4oN",
        "outputId": "ddad23e6-2a26-4d3c-ba32-4b06a6a79ceb"
      },
      "source": [
        "# 先頭の５行の確認\n",
        "display(df.head())\n",
        "\n",
        "# 最終５行の確認\n",
        "display(df.tail())"
      ],
      "execution_count": 6,
      "outputs": [
        {
          "output_type": "display_data",
          "data": {
            "text/html": [
              "<div>\n",
              "<style scoped>\n",
              "    .dataframe tbody tr th:only-of-type {\n",
              "        vertical-align: middle;\n",
              "    }\n",
              "\n",
              "    .dataframe tbody tr th {\n",
              "        vertical-align: top;\n",
              "    }\n",
              "\n",
              "    .dataframe thead th {\n",
              "        text-align: right;\n",
              "    }\n",
              "</style>\n",
              "<table border=\"1\" class=\"dataframe\">\n",
              "  <thead>\n",
              "    <tr style=\"text-align: right;\">\n",
              "      <th></th>\n",
              "      <th>日付</th>\n",
              "      <th>季節</th>\n",
              "      <th>年</th>\n",
              "      <th>月</th>\n",
              "      <th>祝日</th>\n",
              "      <th>曜日</th>\n",
              "      <th>勤務日</th>\n",
              "      <th>天気</th>\n",
              "      <th>気温</th>\n",
              "      <th>体感温度</th>\n",
              "      <th>湿度</th>\n",
              "      <th>風速</th>\n",
              "      <th>臨時ユーザ利用数</th>\n",
              "      <th>登録ユーザ利用数</th>\n",
              "      <th>全体ユーザ利用数</th>\n",
              "    </tr>\n",
              "  </thead>\n",
              "  <tbody>\n",
              "    <tr>\n",
              "      <th>0</th>\n",
              "      <td>2011-01-01</td>\n",
              "      <td>1</td>\n",
              "      <td>0</td>\n",
              "      <td>1</td>\n",
              "      <td>0</td>\n",
              "      <td>6</td>\n",
              "      <td>0</td>\n",
              "      <td>2</td>\n",
              "      <td>0.3442</td>\n",
              "      <td>0.3636</td>\n",
              "      <td>0.8058</td>\n",
              "      <td>0.1604</td>\n",
              "      <td>331</td>\n",
              "      <td>654</td>\n",
              "      <td>985</td>\n",
              "    </tr>\n",
              "    <tr>\n",
              "      <th>1</th>\n",
              "      <td>2011-01-02</td>\n",
              "      <td>1</td>\n",
              "      <td>0</td>\n",
              "      <td>1</td>\n",
              "      <td>0</td>\n",
              "      <td>0</td>\n",
              "      <td>0</td>\n",
              "      <td>2</td>\n",
              "      <td>0.3635</td>\n",
              "      <td>0.3537</td>\n",
              "      <td>0.6961</td>\n",
              "      <td>0.2485</td>\n",
              "      <td>131</td>\n",
              "      <td>670</td>\n",
              "      <td>801</td>\n",
              "    </tr>\n",
              "    <tr>\n",
              "      <th>2</th>\n",
              "      <td>2011-01-03</td>\n",
              "      <td>1</td>\n",
              "      <td>0</td>\n",
              "      <td>1</td>\n",
              "      <td>0</td>\n",
              "      <td>1</td>\n",
              "      <td>1</td>\n",
              "      <td>1</td>\n",
              "      <td>0.1964</td>\n",
              "      <td>0.1894</td>\n",
              "      <td>0.4373</td>\n",
              "      <td>0.2483</td>\n",
              "      <td>120</td>\n",
              "      <td>1229</td>\n",
              "      <td>1349</td>\n",
              "    </tr>\n",
              "    <tr>\n",
              "      <th>3</th>\n",
              "      <td>2011-01-04</td>\n",
              "      <td>1</td>\n",
              "      <td>0</td>\n",
              "      <td>1</td>\n",
              "      <td>0</td>\n",
              "      <td>2</td>\n",
              "      <td>1</td>\n",
              "      <td>1</td>\n",
              "      <td>0.2000</td>\n",
              "      <td>0.2121</td>\n",
              "      <td>0.5904</td>\n",
              "      <td>0.1603</td>\n",
              "      <td>108</td>\n",
              "      <td>1454</td>\n",
              "      <td>1562</td>\n",
              "    </tr>\n",
              "    <tr>\n",
              "      <th>4</th>\n",
              "      <td>2011-01-05</td>\n",
              "      <td>1</td>\n",
              "      <td>0</td>\n",
              "      <td>1</td>\n",
              "      <td>0</td>\n",
              "      <td>3</td>\n",
              "      <td>1</td>\n",
              "      <td>1</td>\n",
              "      <td>0.2270</td>\n",
              "      <td>0.2293</td>\n",
              "      <td>0.4370</td>\n",
              "      <td>0.1869</td>\n",
              "      <td>82</td>\n",
              "      <td>1518</td>\n",
              "      <td>1600</td>\n",
              "    </tr>\n",
              "  </tbody>\n",
              "</table>\n",
              "</div>"
            ],
            "text/plain": [
              "          日付  季節  年  月  祝日  曜日  勤務日  天気     気温   体感温度     湿度     風速  臨時ユーザ利用数  \\\n",
              "0 2011-01-01   1  0  1   0   6    0   2 0.3442 0.3636 0.8058 0.1604       331   \n",
              "1 2011-01-02   1  0  1   0   0    0   2 0.3635 0.3537 0.6961 0.2485       131   \n",
              "2 2011-01-03   1  0  1   0   1    1   1 0.1964 0.1894 0.4373 0.2483       120   \n",
              "3 2011-01-04   1  0  1   0   2    1   1 0.2000 0.2121 0.5904 0.1603       108   \n",
              "4 2011-01-05   1  0  1   0   3    1   1 0.2270 0.2293 0.4370 0.1869        82   \n",
              "\n",
              "   登録ユーザ利用数  全体ユーザ利用数  \n",
              "0       654       985  \n",
              "1       670       801  \n",
              "2      1229      1349  \n",
              "3      1454      1562  \n",
              "4      1518      1600  "
            ]
          },
          "metadata": {
            "tags": []
          }
        },
        {
          "output_type": "display_data",
          "data": {
            "text/html": [
              "<div>\n",
              "<style scoped>\n",
              "    .dataframe tbody tr th:only-of-type {\n",
              "        vertical-align: middle;\n",
              "    }\n",
              "\n",
              "    .dataframe tbody tr th {\n",
              "        vertical-align: top;\n",
              "    }\n",
              "\n",
              "    .dataframe thead th {\n",
              "        text-align: right;\n",
              "    }\n",
              "</style>\n",
              "<table border=\"1\" class=\"dataframe\">\n",
              "  <thead>\n",
              "    <tr style=\"text-align: right;\">\n",
              "      <th></th>\n",
              "      <th>日付</th>\n",
              "      <th>季節</th>\n",
              "      <th>年</th>\n",
              "      <th>月</th>\n",
              "      <th>祝日</th>\n",
              "      <th>曜日</th>\n",
              "      <th>勤務日</th>\n",
              "      <th>天気</th>\n",
              "      <th>気温</th>\n",
              "      <th>体感温度</th>\n",
              "      <th>湿度</th>\n",
              "      <th>風速</th>\n",
              "      <th>臨時ユーザ利用数</th>\n",
              "      <th>登録ユーザ利用数</th>\n",
              "      <th>全体ユーザ利用数</th>\n",
              "    </tr>\n",
              "  </thead>\n",
              "  <tbody>\n",
              "    <tr>\n",
              "      <th>726</th>\n",
              "      <td>2012-12-27</td>\n",
              "      <td>1</td>\n",
              "      <td>1</td>\n",
              "      <td>12</td>\n",
              "      <td>0</td>\n",
              "      <td>4</td>\n",
              "      <td>1</td>\n",
              "      <td>2</td>\n",
              "      <td>0.2542</td>\n",
              "      <td>0.2266</td>\n",
              "      <td>0.6529</td>\n",
              "      <td>0.3501</td>\n",
              "      <td>247</td>\n",
              "      <td>1867</td>\n",
              "      <td>2114</td>\n",
              "    </tr>\n",
              "    <tr>\n",
              "      <th>727</th>\n",
              "      <td>2012-12-28</td>\n",
              "      <td>1</td>\n",
              "      <td>1</td>\n",
              "      <td>12</td>\n",
              "      <td>0</td>\n",
              "      <td>5</td>\n",
              "      <td>1</td>\n",
              "      <td>2</td>\n",
              "      <td>0.2533</td>\n",
              "      <td>0.2550</td>\n",
              "      <td>0.5900</td>\n",
              "      <td>0.1555</td>\n",
              "      <td>644</td>\n",
              "      <td>2451</td>\n",
              "      <td>3095</td>\n",
              "    </tr>\n",
              "    <tr>\n",
              "      <th>728</th>\n",
              "      <td>2012-12-29</td>\n",
              "      <td>1</td>\n",
              "      <td>1</td>\n",
              "      <td>12</td>\n",
              "      <td>0</td>\n",
              "      <td>6</td>\n",
              "      <td>0</td>\n",
              "      <td>2</td>\n",
              "      <td>0.2533</td>\n",
              "      <td>0.2424</td>\n",
              "      <td>0.7529</td>\n",
              "      <td>0.1244</td>\n",
              "      <td>159</td>\n",
              "      <td>1182</td>\n",
              "      <td>1341</td>\n",
              "    </tr>\n",
              "    <tr>\n",
              "      <th>729</th>\n",
              "      <td>2012-12-30</td>\n",
              "      <td>1</td>\n",
              "      <td>1</td>\n",
              "      <td>12</td>\n",
              "      <td>0</td>\n",
              "      <td>0</td>\n",
              "      <td>0</td>\n",
              "      <td>1</td>\n",
              "      <td>0.2558</td>\n",
              "      <td>0.2317</td>\n",
              "      <td>0.4833</td>\n",
              "      <td>0.3508</td>\n",
              "      <td>364</td>\n",
              "      <td>1432</td>\n",
              "      <td>1796</td>\n",
              "    </tr>\n",
              "    <tr>\n",
              "      <th>730</th>\n",
              "      <td>2012-12-31</td>\n",
              "      <td>1</td>\n",
              "      <td>1</td>\n",
              "      <td>12</td>\n",
              "      <td>0</td>\n",
              "      <td>1</td>\n",
              "      <td>1</td>\n",
              "      <td>2</td>\n",
              "      <td>0.2158</td>\n",
              "      <td>0.2235</td>\n",
              "      <td>0.5775</td>\n",
              "      <td>0.1548</td>\n",
              "      <td>439</td>\n",
              "      <td>2290</td>\n",
              "      <td>2729</td>\n",
              "    </tr>\n",
              "  </tbody>\n",
              "</table>\n",
              "</div>"
            ],
            "text/plain": [
              "            日付  季節  年   月  祝日  曜日  勤務日  天気     気温   体感温度     湿度     風速  \\\n",
              "726 2012-12-27   1  1  12   0   4    1   2 0.2542 0.2266 0.6529 0.3501   \n",
              "727 2012-12-28   1  1  12   0   5    1   2 0.2533 0.2550 0.5900 0.1555   \n",
              "728 2012-12-29   1  1  12   0   6    0   2 0.2533 0.2424 0.7529 0.1244   \n",
              "729 2012-12-30   1  1  12   0   0    0   1 0.2558 0.2317 0.4833 0.3508   \n",
              "730 2012-12-31   1  1  12   0   1    1   2 0.2158 0.2235 0.5775 0.1548   \n",
              "\n",
              "     臨時ユーザ利用数  登録ユーザ利用数  全体ユーザ利用数  \n",
              "726       247      1867      2114  \n",
              "727       644      2451      3095  \n",
              "728       159      1182      1341  \n",
              "729       364      1432      1796  \n",
              "730       439      2290      2729  "
            ]
          },
          "metadata": {
            "tags": []
          }
        }
      ]
    },
    {
      "cell_type": "code",
      "metadata": {
        "colab": {
          "base_uri": "https://localhost:8080/",
          "height": 714
        },
        "id": "t2_cp_-luCo3",
        "outputId": "862aa46d-673d-4492-9df7-fb70a8ceee9e"
      },
      "source": [
        "# 度数分布表示\n",
        "\n",
        "# グラフのサイズ調整のためのおまじない\n",
        "from pylab import rcParams\n",
        "rcParams['figure.figsize'] = (12, 12)\n",
        "\n",
        "# データフレームの数値項目でヒストグラム表示\n",
        "df.hist(bins=50)\n",
        "plt.show()"
      ],
      "execution_count": 7,
      "outputs": [
        {
          "output_type": "display_data",
          "data": {
            "image/png": "[encoded data removed]",
            "text/plain": [
              "<Figure size 864x864 with 16 Axes>"
            ]
          },
          "metadata": {
            "tags": [],
            "needs_background": "light"
          }
        }
      ]
    },
    {
      "cell_type": "markdown",
      "metadata": {
        "id": "Q1mEU0tzu7X6"
      },
      "source": [
        "ヒストグラムの区切数 bins  (50)\n",
        "\n",
        "「体感温度」「気温」「湿度」「風速」は、x軸をみる限りすでに正規化されているのがわかる"
      ]
    },
    {
      "cell_type": "code",
      "metadata": {
        "colab": {
          "base_uri": "https://localhost:8080/"
        },
        "id": "X83hdn2zup5m",
        "outputId": "6bbe4cb8-6eff-42dd-9a7d-f65c20d5d0bf"
      },
      "source": [
        "# 欠損値のチェック\n",
        "df.isnull().sum()"
      ],
      "execution_count": 8,
      "outputs": [
        {
          "output_type": "execute_result",
          "data": {
            "text/plain": [
              "日付          0\n",
              "季節          0\n",
              "年           0\n",
              "月           0\n",
              "祝日          0\n",
              "曜日          0\n",
              "勤務日         0\n",
              "天気          0\n",
              "気温          0\n",
              "体感温度        0\n",
              "湿度          0\n",
              "風速          0\n",
              "臨時ユーザ利用数    0\n",
              "登録ユーザ利用数    0\n",
              "全体ユーザ利用数    0\n",
              "dtype: int64"
            ]
          },
          "metadata": {
            "tags": []
          },
          "execution_count": 8
        }
      ]
    },
    {
      "cell_type": "code",
      "metadata": {
        "colab": {
          "base_uri": "https://localhost:8080/",
          "height": 280
        },
        "id": "5HVpgOlsvZ8b",
        "outputId": "8a46602f-223d-412e-879a-2514bad69a07"
      },
      "source": [
        "# 時系列グラフの描画 (登録ユーザ利用数)\n",
        "plt.figure(figsize=(12,4))\n",
        "\n",
        "#グラフ描画\n",
        "plt.plot(df['日付'], df['登録ユーザ利用数'], c='b')\n",
        "\n",
        "# 方眼表示など\n",
        "plt.grid()\n",
        "plt.title('登録ユーザ利用数')\n",
        "\n",
        "# 画面出力\n",
        "plt.show()"
      ],
      "execution_count": 9,
      "outputs": [
        {
          "output_type": "display_data",
          "data": {
            "image/png": "[encoded data removed]",
            "text/plain": [
              "<Figure size 864x288 with 1 Axes>"
            ]
          },
          "metadata": {
            "tags": [],
            "needs_background": "light"
          }
        }
      ]
    },
    {
      "cell_type": "markdown",
      "metadata": {
        "id": "ZdqcDMZWw12X"
      },
      "source": [
        "### データ前処理とデータ分割\n",
        "\n",
        "#### データ前処理\n",
        "(特になし)\n",
        "\n",
        "#### データ分割\n",
        "\n",
        "方針\n",
        "* 目的変数yは「登録ユーザー利用数」とする\n",
        "* 「全体ユーザー利用数」と「臨時ユーザー利用数」は対象から落とす\n",
        "* 日付も入力変数として不要なので入力変数xから落とす\n",
        "* 時間軸に関しては 2012-11-01より前を訓練データ、後ろを検証データとする"
      ]
    },
    {
      "cell_type": "code",
      "metadata": {
        "id": "cWNAHCU2v09M"
      },
      "source": [
        "#x, yへの分割\n",
        "x = df.drop(['日付', '臨時ユーザ利用数', '登録ユーザ利用数', '全体ユーザ利用数'], axis=1)\n",
        "y = df['登録ユーザ利用数'].values"
      ],
      "execution_count": 11,
      "outputs": []
    },
    {
      "cell_type": "code",
      "metadata": {
        "id": "ChhZhckUxbiZ"
      },
      "source": [
        "# 分割日 mdayの設定\n",
        "mday = pd.to_datetime('2012-11-1')\n",
        "\n",
        "# 訓練用indexと検証用indexを作る\n",
        "train_index = df['日付'] < mday\n",
        "test_index = df['日付'] >= mday\n",
        "\n",
        "#print(f'train_index : {train_index}')\n",
        "\n",
        "# 入力データの分割\n",
        "x_train = x[train_index]\n",
        "x_test = x[test_index]\n",
        "\n",
        "# yも同様に分割\n",
        "y_train = y[train_index]\n",
        "y_test = y[test_index]\n",
        "\n",
        "# 日付データの分割 (グラフ表示用)\n",
        "dates_test = df['日付'][test_index]\n"
      ],
      "execution_count": 16,
      "outputs": []
    },
    {
      "cell_type": "code",
      "metadata": {
        "colab": {
          "base_uri": "https://localhost:8080/",
          "height": 425
        },
        "id": "tYWWiQlkyNfW",
        "outputId": "50b8d19d-fee8-4e91-c753-f8d42173ab44"
      },
      "source": [
        "#結果確認\n",
        "print(x_train.shape)\n",
        "print(x_test.shape)\n",
        "\n",
        "#結果確認　（境界値を重点的に)\n",
        "display(x_train.tail())\n",
        "display(x_test.head())"
      ],
      "execution_count": 17,
      "outputs": [
        {
          "output_type": "stream",
          "text": [
            "(670, 11)\n",
            "(61, 11)\n"
          ],
          "name": "stdout"
        },
        {
          "output_type": "display_data",
          "data": {
            "text/html": [
              "<div>\n",
              "<style scoped>\n",
              "    .dataframe tbody tr th:only-of-type {\n",
              "        vertical-align: middle;\n",
              "    }\n",
              "\n",
              "    .dataframe tbody tr th {\n",
              "        vertical-align: top;\n",
              "    }\n",
              "\n",
              "    .dataframe thead th {\n",
              "        text-align: right;\n",
              "    }\n",
              "</style>\n",
              "<table border=\"1\" class=\"dataframe\">\n",
              "  <thead>\n",
              "    <tr style=\"text-align: right;\">\n",
              "      <th></th>\n",
              "      <th>季節</th>\n",
              "      <th>年</th>\n",
              "      <th>月</th>\n",
              "      <th>祝日</th>\n",
              "      <th>曜日</th>\n",
              "      <th>勤務日</th>\n",
              "      <th>天気</th>\n",
              "      <th>気温</th>\n",
              "      <th>体感温度</th>\n",
              "      <th>湿度</th>\n",
              "      <th>風速</th>\n",
              "    </tr>\n",
              "  </thead>\n",
              "  <tbody>\n",
              "    <tr>\n",
              "      <th>665</th>\n",
              "      <td>4</td>\n",
              "      <td>1</td>\n",
              "      <td>10</td>\n",
              "      <td>0</td>\n",
              "      <td>6</td>\n",
              "      <td>0</td>\n",
              "      <td>2</td>\n",
              "      <td>0.5300</td>\n",
              "      <td>0.5151</td>\n",
              "      <td>0.7200</td>\n",
              "      <td>0.2357</td>\n",
              "    </tr>\n",
              "    <tr>\n",
              "      <th>666</th>\n",
              "      <td>4</td>\n",
              "      <td>1</td>\n",
              "      <td>10</td>\n",
              "      <td>0</td>\n",
              "      <td>0</td>\n",
              "      <td>0</td>\n",
              "      <td>2</td>\n",
              "      <td>0.4775</td>\n",
              "      <td>0.4678</td>\n",
              "      <td>0.6946</td>\n",
              "      <td>0.3980</td>\n",
              "    </tr>\n",
              "    <tr>\n",
              "      <th>667</th>\n",
              "      <td>4</td>\n",
              "      <td>1</td>\n",
              "      <td>10</td>\n",
              "      <td>0</td>\n",
              "      <td>1</td>\n",
              "      <td>1</td>\n",
              "      <td>3</td>\n",
              "      <td>0.4400</td>\n",
              "      <td>0.4394</td>\n",
              "      <td>0.8800</td>\n",
              "      <td>0.3582</td>\n",
              "    </tr>\n",
              "    <tr>\n",
              "      <th>668</th>\n",
              "      <td>4</td>\n",
              "      <td>1</td>\n",
              "      <td>10</td>\n",
              "      <td>0</td>\n",
              "      <td>2</td>\n",
              "      <td>1</td>\n",
              "      <td>2</td>\n",
              "      <td>0.3182</td>\n",
              "      <td>0.3099</td>\n",
              "      <td>0.8255</td>\n",
              "      <td>0.2130</td>\n",
              "    </tr>\n",
              "    <tr>\n",
              "      <th>669</th>\n",
              "      <td>4</td>\n",
              "      <td>1</td>\n",
              "      <td>10</td>\n",
              "      <td>0</td>\n",
              "      <td>3</td>\n",
              "      <td>1</td>\n",
              "      <td>2</td>\n",
              "      <td>0.3575</td>\n",
              "      <td>0.3611</td>\n",
              "      <td>0.6667</td>\n",
              "      <td>0.1667</td>\n",
              "    </tr>\n",
              "  </tbody>\n",
              "</table>\n",
              "</div>"
            ],
            "text/plain": [
              "     季節  年   月  祝日  曜日  勤務日  天気     気温   体感温度     湿度     風速\n",
              "665   4  1  10   0   6    0   2 0.5300 0.5151 0.7200 0.2357\n",
              "666   4  1  10   0   0    0   2 0.4775 0.4678 0.6946 0.3980\n",
              "667   4  1  10   0   1    1   3 0.4400 0.4394 0.8800 0.3582\n",
              "668   4  1  10   0   2    1   2 0.3182 0.3099 0.8255 0.2130\n",
              "669   4  1  10   0   3    1   2 0.3575 0.3611 0.6667 0.1667"
            ]
          },
          "metadata": {
            "tags": []
          }
        },
        {
          "output_type": "display_data",
          "data": {
            "text/html": [
              "<div>\n",
              "<style scoped>\n",
              "    .dataframe tbody tr th:only-of-type {\n",
              "        vertical-align: middle;\n",
              "    }\n",
              "\n",
              "    .dataframe tbody tr th {\n",
              "        vertical-align: top;\n",
              "    }\n",
              "\n",
              "    .dataframe thead th {\n",
              "        text-align: right;\n",
              "    }\n",
              "</style>\n",
              "<table border=\"1\" class=\"dataframe\">\n",
              "  <thead>\n",
              "    <tr style=\"text-align: right;\">\n",
              "      <th></th>\n",
              "      <th>季節</th>\n",
              "      <th>年</th>\n",
              "      <th>月</th>\n",
              "      <th>祝日</th>\n",
              "      <th>曜日</th>\n",
              "      <th>勤務日</th>\n",
              "      <th>天気</th>\n",
              "      <th>気温</th>\n",
              "      <th>体感温度</th>\n",
              "      <th>湿度</th>\n",
              "      <th>風速</th>\n",
              "    </tr>\n",
              "  </thead>\n",
              "  <tbody>\n",
              "    <tr>\n",
              "      <th>670</th>\n",
              "      <td>4</td>\n",
              "      <td>1</td>\n",
              "      <td>11</td>\n",
              "      <td>0</td>\n",
              "      <td>4</td>\n",
              "      <td>1</td>\n",
              "      <td>2</td>\n",
              "      <td>0.3658</td>\n",
              "      <td>0.3699</td>\n",
              "      <td>0.5817</td>\n",
              "      <td>0.1573</td>\n",
              "    </tr>\n",
              "    <tr>\n",
              "      <th>671</th>\n",
              "      <td>4</td>\n",
              "      <td>1</td>\n",
              "      <td>11</td>\n",
              "      <td>0</td>\n",
              "      <td>5</td>\n",
              "      <td>1</td>\n",
              "      <td>1</td>\n",
              "      <td>0.3550</td>\n",
              "      <td>0.3560</td>\n",
              "      <td>0.5221</td>\n",
              "      <td>0.2662</td>\n",
              "    </tr>\n",
              "    <tr>\n",
              "      <th>672</th>\n",
              "      <td>4</td>\n",
              "      <td>1</td>\n",
              "      <td>11</td>\n",
              "      <td>0</td>\n",
              "      <td>6</td>\n",
              "      <td>0</td>\n",
              "      <td>2</td>\n",
              "      <td>0.3433</td>\n",
              "      <td>0.3238</td>\n",
              "      <td>0.4913</td>\n",
              "      <td>0.2705</td>\n",
              "    </tr>\n",
              "    <tr>\n",
              "      <th>673</th>\n",
              "      <td>4</td>\n",
              "      <td>1</td>\n",
              "      <td>11</td>\n",
              "      <td>0</td>\n",
              "      <td>0</td>\n",
              "      <td>0</td>\n",
              "      <td>1</td>\n",
              "      <td>0.3258</td>\n",
              "      <td>0.3295</td>\n",
              "      <td>0.5329</td>\n",
              "      <td>0.1791</td>\n",
              "    </tr>\n",
              "    <tr>\n",
              "      <th>674</th>\n",
              "      <td>4</td>\n",
              "      <td>1</td>\n",
              "      <td>11</td>\n",
              "      <td>0</td>\n",
              "      <td>1</td>\n",
              "      <td>1</td>\n",
              "      <td>1</td>\n",
              "      <td>0.3192</td>\n",
              "      <td>0.3081</td>\n",
              "      <td>0.4942</td>\n",
              "      <td>0.2363</td>\n",
              "    </tr>\n",
              "  </tbody>\n",
              "</table>\n",
              "</div>"
            ],
            "text/plain": [
              "     季節  年   月  祝日  曜日  勤務日  天気     気温   体感温度     湿度     風速\n",
              "670   4  1  11   0   4    1   2 0.3658 0.3699 0.5817 0.1573\n",
              "671   4  1  11   0   5    1   1 0.3550 0.3560 0.5221 0.2662\n",
              "672   4  1  11   0   6    0   2 0.3433 0.3238 0.4913 0.2705\n",
              "673   4  1  11   0   0    0   1 0.3258 0.3295 0.5329 0.1791\n",
              "674   4  1  11   0   1    1   1 0.3192 0.3081 0.4942 0.2363"
            ]
          },
          "metadata": {
            "tags": []
          }
        }
      ]
    },
    {
      "cell_type": "code",
      "metadata": {
        "colab": {
          "base_uri": "https://localhost:8080/"
        },
        "id": "9MEGl5w0zQfq",
        "outputId": "80d50a20-9f14-45ea-d221-46bc3db047d0"
      },
      "source": [
        "# 目的変数の分割結果確認\n",
        "print(y_train[:10])"
      ],
      "execution_count": 18,
      "outputs": [
        {
          "output_type": "stream",
          "text": [
            "[ 654  670 1229 1454 1518 1518 1362  891  768 1280]\n"
          ],
          "name": "stdout"
        }
      ]
    },
    {
      "cell_type": "markdown",
      "metadata": {
        "id": "0le_w8Qj0DdZ"
      },
      "source": [
        "### アルゴリズム選定\n",
        "\n",
        " 今回は、XGBoostの回帰版に相当するXGBRegressorを利用する"
      ]
    },
    {
      "cell_type": "code",
      "metadata": {
        "id": "YR7j893Iz29v"
      },
      "source": [
        "# アルゴリズム選択\n",
        "# XGBRegressorを選択する\n",
        "from xgboost import XGBRegressor\n",
        "algorithm = XGBRegressor(objective = 'reg:squarederror', random_state=random_seed)"
      ],
      "execution_count": 20,
      "outputs": []
    },
    {
      "cell_type": "markdown",
      "metadata": {
        "id": "kaGjOzjR0e-1"
      },
      "source": [
        "objective = 'reg:rsquarederror' は損失関数の指定, ないと警告が出るので記述する"
      ]
    },
    {
      "cell_type": "code",
      "metadata": {
        "colab": {
          "base_uri": "https://localhost:8080/"
        },
        "id": "8m6PfN6D0Bc4",
        "outputId": "d3d42af8-f556-4bd1-92bd-3df87faac389"
      },
      "source": [
        "# 登録ユーザ利用数予測モデルの学習と予測\n",
        "\n",
        "# 学習\n",
        "algorithm.fit(x_train, y_train)\n",
        "\n",
        "# 予測\n",
        "y_pred = algorithm.predict(x_test)\n",
        "\n",
        "# 予測結果の確認\n",
        "print(y_pred[:5])"
      ],
      "execution_count": 21,
      "outputs": [
        {
          "output_type": "stream",
          "text": [
            "[4613.577  4863.4756 4057.923  3642.1284 4354.408 ]\n"
          ],
          "name": "stdout"
        }
      ]
    },
    {
      "cell_type": "markdown",
      "metadata": {
        "id": "1emtPFCh1LSz"
      },
      "source": [
        "### 評価\n",
        "\n",
        "* 指標値による評価方法\n",
        "* 散布図表示による評価方法\n",
        "* 時系列グラフ表示における評価方法"
      ]
    },
    {
      "cell_type": "markdown",
      "metadata": {
        "id": "clqqHtMy1aMu"
      },
      "source": [
        "#### 指標値による方法\n",
        "\n",
        "　回帰の指標値による評価方法\n",
        "\n",
        "* score関数\n",
        "* $R^{2}$値（決定係数）\n"
      ]
    },
    {
      "cell_type": "code",
      "metadata": {
        "colab": {
          "base_uri": "https://localhost:8080/"
        },
        "id": "23EBrA3L0-EI",
        "outputId": "b1fd81b8-d3bb-4ef9-c422-a78a62f10326"
      },
      "source": [
        "# 評価 (登録ユーザ利用数)\n",
        "\n",
        "# score関数の呼び出し\n",
        "score = algorithm.score(x_test, y_test)\n",
        "\n",
        "# R2値の計算\n",
        "from sklearn.metrics import r2_score\n",
        "r2_score = r2_score(y_test, y_pred)\n",
        "\n",
        "# 結果確認\n",
        "print(f'score : {score:.4f} r2_score : {r2_score:.4f}')"
      ],
      "execution_count": 22,
      "outputs": [
        {
          "output_type": "stream",
          "text": [
            "score : 0.5294 r2_score : 0.5294\n"
          ],
          "name": "stdout"
        }
      ]
    },
    {
      "cell_type": "markdown",
      "metadata": {
        "id": "SpeZye1j2exC"
      },
      "source": [
        "2つの関数は同じものであることがわかる\n",
        "\n",
        "一般的にR2関数は、0.5より大きければモデルとして意味があるとされている\n",
        "\n",
        "この基準に従うと,  scoreの値 0.5294は、\n",
        "\n",
        "* ある程度意味のある予測ができている\n",
        "* しかしもでるとしての精度が良いとは評価できない"
      ]
    },
    {
      "cell_type": "markdown",
      "metadata": {
        "id": "rc1d07sN26P3"
      },
      "source": [
        " ### 散布図表示による評価\n",
        " \n",
        "  x軸　：　正解データ,  y軸　：　予測データ\n",
        "\n",
        "  y = x担っていればモデルの精度が良いことがわかる"
      ]
    },
    {
      "cell_type": "code",
      "metadata": {
        "colab": {
          "base_uri": "https://localhost:8080/",
          "height": 390
        },
        "id": "Mhd_5__I2dVa",
        "outputId": "032ce071-c335-446f-a486-f809da2a236c"
      },
      "source": [
        "#正解データと予測結果を散布図で比較(登録ユーザ利用数)\n",
        "plt.figure(figsize=(6,6))\n",
        "y_max = y_test.max()\n",
        "plt.plot((0,y_max), (0,y_max), c='k')\n",
        "plt.scatter(y_test, y_pred, c='b')\n",
        "plt.title(f'正解データと予測結果の散布図（登録ユーザ利用数) R2 = {score:.4f}')\n",
        "plt.grid()\n",
        "plt.show()"
      ],
      "execution_count": 23,
      "outputs": [
        {
          "output_type": "display_data",
          "data": {
            "image/png": "[encoded data removed]",
            "text/plain": [
              "<Figure size 432x432 with 1 Axes>"
            ]
          },
          "metadata": {
            "tags": [],
            "needs_background": "light"
          }
        }
      ]
    },
    {
      "cell_type": "markdown",
      "metadata": {
        "id": "qXe4CErm3wma"
      },
      "source": [
        "### 時系列グラフ表示による方法"
      ]
    },
    {
      "cell_type": "code",
      "metadata": {
        "colab": {
          "base_uri": "https://localhost:8080/",
          "height": 329
        },
        "id": "qQhi7iWG3oQE",
        "outputId": "220db87c-6e2b-4b2e-ee1c-f07ca6a09b2c"
      },
      "source": [
        "#時系列グラフの描画 (登録ユーザ利用数)\n",
        "import matplotlib.dates as mdates\n",
        "fig, ax = plt.subplots(figsize=(8,4))\n",
        "\n",
        "# グラフ描画\n",
        "ax.plot(dates_test, y_test, label='正解データ', c='k')\n",
        "ax.plot(dates_test, y_pred, label='予測結果', c='b')\n",
        "\n",
        "#日付目盛間隔\n",
        "# 木曜日ごとに日付を表示\n",
        "weeks = mdates.WeekdayLocator(byweekday=mdates.TH)\n",
        "ax.xaxis.set_major_locator(weeks)\n",
        "\n",
        "#日付表記を９０度回転\n",
        "ax.tick_params(axis='x', rotation=90)\n",
        "\n",
        "#方眼表示など\n",
        "ax.grid()\n",
        "ax.legend()\n",
        "ax.set_title('登録ユーザ利用数予測')\n",
        "\n",
        "#画面出力\n",
        "plt.show()"
      ],
      "execution_count": 29,
      "outputs": [
        {
          "output_type": "display_data",
          "data": {
            "image/png": "[encoded data removed]",
            "text/plain": [
              "<Figure size 576x288 with 1 Axes>"
            ]
          },
          "metadata": {
            "tags": [],
            "needs_background": "light"
          }
        }
      ]
    },
    {
      "cell_type": "markdown",
      "metadata": {
        "id": "bGGjuNWt5ejk"
      },
      "source": [
        "### チューニング\n",
        "\n",
        "* R2_score : 0.5294 \n",
        "\n",
        " 全く意味がない訳ではないが、あまり精度が良いモデルではない\n",
        "\n",
        " 注目すべき項目　:  「月」、「季節」\n",
        "\n",
        " 　12月と1月は非常に近いのに, 入力データの値として離れている。　季節も同様\n",
        "\n",
        "  One-Hotエンコーディングをかけてみる"
      ]
    },
    {
      "cell_type": "code",
      "metadata": {
        "id": "uiZUor1J4gHr"
      },
      "source": [
        "# 項目をOne-Hotエンコーディングするための関数\n",
        "def enc(df, column):\n",
        "  df_dummy = pd.get_dummies(df[column], prefix=column)\n",
        "  df = pd.concat([df.drop([column], axis=1), df_dummy], axis=1)\n",
        "  return df"
      ],
      "execution_count": 30,
      "outputs": []
    },
    {
      "cell_type": "code",
      "metadata": {
        "colab": {
          "base_uri": "https://localhost:8080/",
          "height": 221
        },
        "id": "Qq3Rj5J_6eT4",
        "outputId": "382dbe37-432c-4b6b-eb66-f4bc701057d5"
      },
      "source": [
        "# 項目「月」「季節」をOne-Hotエンコーディングする\n",
        "\n",
        "x2 = x.copy()\n",
        "x2 = enc(x2, '月')\n",
        "x2 = enc(x2, '季節')\n",
        "\n",
        "# 結果確認\n",
        "display(x2.head())"
      ],
      "execution_count": 31,
      "outputs": [
        {
          "output_type": "display_data",
          "data": {
            "text/html": [
              "<div>\n",
              "<style scoped>\n",
              "    .dataframe tbody tr th:only-of-type {\n",
              "        vertical-align: middle;\n",
              "    }\n",
              "\n",
              "    .dataframe tbody tr th {\n",
              "        vertical-align: top;\n",
              "    }\n",
              "\n",
              "    .dataframe thead th {\n",
              "        text-align: right;\n",
              "    }\n",
              "</style>\n",
              "<table border=\"1\" class=\"dataframe\">\n",
              "  <thead>\n",
              "    <tr style=\"text-align: right;\">\n",
              "      <th></th>\n",
              "      <th>年</th>\n",
              "      <th>祝日</th>\n",
              "      <th>曜日</th>\n",
              "      <th>勤務日</th>\n",
              "      <th>天気</th>\n",
              "      <th>気温</th>\n",
              "      <th>体感温度</th>\n",
              "      <th>湿度</th>\n",
              "      <th>風速</th>\n",
              "      <th>月_1</th>\n",
              "      <th>月_2</th>\n",
              "      <th>月_3</th>\n",
              "      <th>月_4</th>\n",
              "      <th>月_5</th>\n",
              "      <th>月_6</th>\n",
              "      <th>月_7</th>\n",
              "      <th>月_8</th>\n",
              "      <th>月_9</th>\n",
              "      <th>月_10</th>\n",
              "      <th>月_11</th>\n",
              "      <th>月_12</th>\n",
              "      <th>季節_1</th>\n",
              "      <th>季節_2</th>\n",
              "      <th>季節_3</th>\n",
              "      <th>季節_4</th>\n",
              "    </tr>\n",
              "  </thead>\n",
              "  <tbody>\n",
              "    <tr>\n",
              "      <th>0</th>\n",
              "      <td>0</td>\n",
              "      <td>0</td>\n",
              "      <td>6</td>\n",
              "      <td>0</td>\n",
              "      <td>2</td>\n",
              "      <td>0.3442</td>\n",
              "      <td>0.3636</td>\n",
              "      <td>0.8058</td>\n",
              "      <td>0.1604</td>\n",
              "      <td>1</td>\n",
              "      <td>0</td>\n",
              "      <td>0</td>\n",
              "      <td>0</td>\n",
              "      <td>0</td>\n",
              "      <td>0</td>\n",
              "      <td>0</td>\n",
              "      <td>0</td>\n",
              "      <td>0</td>\n",
              "      <td>0</td>\n",
              "      <td>0</td>\n",
              "      <td>0</td>\n",
              "      <td>1</td>\n",
              "      <td>0</td>\n",
              "      <td>0</td>\n",
              "      <td>0</td>\n",
              "    </tr>\n",
              "    <tr>\n",
              "      <th>1</th>\n",
              "      <td>0</td>\n",
              "      <td>0</td>\n",
              "      <td>0</td>\n",
              "      <td>0</td>\n",
              "      <td>2</td>\n",
              "      <td>0.3635</td>\n",
              "      <td>0.3537</td>\n",
              "      <td>0.6961</td>\n",
              "      <td>0.2485</td>\n",
              "      <td>1</td>\n",
              "      <td>0</td>\n",
              "      <td>0</td>\n",
              "      <td>0</td>\n",
              "      <td>0</td>\n",
              "      <td>0</td>\n",
              "      <td>0</td>\n",
              "      <td>0</td>\n",
              "      <td>0</td>\n",
              "      <td>0</td>\n",
              "      <td>0</td>\n",
              "      <td>0</td>\n",
              "      <td>1</td>\n",
              "      <td>0</td>\n",
              "      <td>0</td>\n",
              "      <td>0</td>\n",
              "    </tr>\n",
              "    <tr>\n",
              "      <th>2</th>\n",
              "      <td>0</td>\n",
              "      <td>0</td>\n",
              "      <td>1</td>\n",
              "      <td>1</td>\n",
              "      <td>1</td>\n",
              "      <td>0.1964</td>\n",
              "      <td>0.1894</td>\n",
              "      <td>0.4373</td>\n",
              "      <td>0.2483</td>\n",
              "      <td>1</td>\n",
              "      <td>0</td>\n",
              "      <td>0</td>\n",
              "      <td>0</td>\n",
              "      <td>0</td>\n",
              "      <td>0</td>\n",
              "      <td>0</td>\n",
              "      <td>0</td>\n",
              "      <td>0</td>\n",
              "      <td>0</td>\n",
              "      <td>0</td>\n",
              "      <td>0</td>\n",
              "      <td>1</td>\n",
              "      <td>0</td>\n",
              "      <td>0</td>\n",
              "      <td>0</td>\n",
              "    </tr>\n",
              "    <tr>\n",
              "      <th>3</th>\n",
              "      <td>0</td>\n",
              "      <td>0</td>\n",
              "      <td>2</td>\n",
              "      <td>1</td>\n",
              "      <td>1</td>\n",
              "      <td>0.2000</td>\n",
              "      <td>0.2121</td>\n",
              "      <td>0.5904</td>\n",
              "      <td>0.1603</td>\n",
              "      <td>1</td>\n",
              "      <td>0</td>\n",
              "      <td>0</td>\n",
              "      <td>0</td>\n",
              "      <td>0</td>\n",
              "      <td>0</td>\n",
              "      <td>0</td>\n",
              "      <td>0</td>\n",
              "      <td>0</td>\n",
              "      <td>0</td>\n",
              "      <td>0</td>\n",
              "      <td>0</td>\n",
              "      <td>1</td>\n",
              "      <td>0</td>\n",
              "      <td>0</td>\n",
              "      <td>0</td>\n",
              "    </tr>\n",
              "    <tr>\n",
              "      <th>4</th>\n",
              "      <td>0</td>\n",
              "      <td>0</td>\n",
              "      <td>3</td>\n",
              "      <td>1</td>\n",
              "      <td>1</td>\n",
              "      <td>0.2270</td>\n",
              "      <td>0.2293</td>\n",
              "      <td>0.4370</td>\n",
              "      <td>0.1869</td>\n",
              "      <td>1</td>\n",
              "      <td>0</td>\n",
              "      <td>0</td>\n",
              "      <td>0</td>\n",
              "      <td>0</td>\n",
              "      <td>0</td>\n",
              "      <td>0</td>\n",
              "      <td>0</td>\n",
              "      <td>0</td>\n",
              "      <td>0</td>\n",
              "      <td>0</td>\n",
              "      <td>0</td>\n",
              "      <td>1</td>\n",
              "      <td>0</td>\n",
              "      <td>0</td>\n",
              "      <td>0</td>\n",
              "    </tr>\n",
              "  </tbody>\n",
              "</table>\n",
              "</div>"
            ],
            "text/plain": [
              "   年  祝日  曜日  勤務日  天気     気温   体感温度     湿度     風速  月_1  月_2  月_3  月_4  月_5  \\\n",
              "0  0   0   6    0   2 0.3442 0.3636 0.8058 0.1604    1    0    0    0    0   \n",
              "1  0   0   0    0   2 0.3635 0.3537 0.6961 0.2485    1    0    0    0    0   \n",
              "2  0   0   1    1   1 0.1964 0.1894 0.4373 0.2483    1    0    0    0    0   \n",
              "3  0   0   2    1   1 0.2000 0.2121 0.5904 0.1603    1    0    0    0    0   \n",
              "4  0   0   3    1   1 0.2270 0.2293 0.4370 0.1869    1    0    0    0    0   \n",
              "\n",
              "   月_6  月_7  月_8  月_9  月_10  月_11  月_12  季節_1  季節_2  季節_3  季節_4  \n",
              "0    0    0    0    0     0     0     0     1     0     0     0  \n",
              "1    0    0    0    0     0     0     0     1     0     0     0  \n",
              "2    0    0    0    0     0     0     0     1     0     0     0  \n",
              "3    0    0    0    0     0     0     0     1     0     0     0  \n",
              "4    0    0    0    0     0     0     0     1     0     0     0  "
            ]
          },
          "metadata": {
            "tags": []
          }
        }
      ]
    },
    {
      "cell_type": "code",
      "metadata": {
        "colab": {
          "base_uri": "https://localhost:8080/"
        },
        "id": "q6AVU-4c6sXm",
        "outputId": "5e180417-8592-44ed-ed41-a0598bf28fe0"
      },
      "source": [
        "# 登録利用者モデル(チューニング後)\n",
        "\n",
        "# mdayを基準に入力データを分割\n",
        "x2_train = x2[train_index]\n",
        "x2_test = x2[test_index]\n",
        "\n",
        "#　アルゴリズム選定\n",
        "algorithm2 = XGBRegressor(objective ='reg:squarederror',\n",
        "    random_state=random_seed)\n",
        "\n",
        "# 学習\n",
        "algorithm2.fit(x2_train, y_train)\n",
        "\n",
        "# 予測\n",
        "y_pred2 = algorithm2.predict(x2_test)\n",
        "\n",
        "# 予測結果確認\n",
        "print(y_pred2[:5])"
      ],
      "execution_count": 32,
      "outputs": [
        {
          "output_type": "stream",
          "text": [
            "[4509.6143 4841.9644 3852.8997 3567.8196 4280.041 ]\n"
          ],
          "name": "stdout"
        }
      ]
    },
    {
      "cell_type": "code",
      "metadata": {
        "colab": {
          "base_uri": "https://localhost:8080/"
        },
        "id": "_u-Xeo3f6zY8",
        "outputId": "da2b66e9-9d06-495c-ab4f-6773b814b45b"
      },
      "source": [
        "# 評価(登録利用者) (チューニング後)\n",
        "\n",
        "# score関数の呼び出し\n",
        "score2 = algorithm2.score(x2_test, y_test)\n",
        "\n",
        "# 結果確認\n",
        "print(f'score: {score2:.4f}')"
      ],
      "execution_count": 33,
      "outputs": [
        {
          "output_type": "stream",
          "text": [
            "score: 0.6182\n"
          ],
          "name": "stdout"
        }
      ]
    },
    {
      "cell_type": "code",
      "metadata": {
        "colab": {
          "base_uri": "https://localhost:8080/",
          "height": 390
        },
        "id": "_tp42EPH63vm",
        "outputId": "43324f65-9a68-4b60-daae-5bdf19c3bf0a"
      },
      "source": [
        "#正解データと予測結果を散布図で比較 (登録利用者)\n",
        "plt.figure(figsize=(6,6))\n",
        "y_max = y_test.max()\n",
        "plt.plot((0,y_max), (0, y_max), c='k')\n",
        "plt.scatter(y_test, y_pred2, c='b')\n",
        "plt.title(f'正解データと予測結果の散布図(登録ユーザー利用数) R2={score2:.4f}')\n",
        "plt.grid()\n",
        "plt.show()"
      ],
      "execution_count": 34,
      "outputs": [
        {
          "output_type": "display_data",
          "data": {
            "image/png": "[encoded data removed]",
            "text/plain": [
              "<Figure size 432x432 with 1 Axes>"
            ]
          },
          "metadata": {
            "tags": [],
            "needs_background": "light"
          }
        }
      ]
    },
    {
      "cell_type": "code",
      "metadata": {
        "colab": {
          "base_uri": "https://localhost:8080/",
          "height": 329
        },
        "id": "v_O3hw3g68Su",
        "outputId": "0442fd4f-3953-4b6d-a54c-c45b851b70be"
      },
      "source": [
        "# 時系列グラフの描画 (チューニング後 登録ユーザ利用数)\n",
        "import matplotlib.dates as mdates\n",
        "fig, ax = plt.subplots(figsize=(8, 4))\n",
        "\n",
        "# グラフ描画\n",
        "ax.plot(dates_test, y_test, label='正解データ', c='k')\n",
        "ax.plot(dates_test, y_pred, label='予測結果(改良前）', c='c')\n",
        "ax.plot(dates_test, y_pred2, label='予測結果（改良後）', c='b')\n",
        "\n",
        "# 日付目盛間隔\n",
        "weeks = mdates.WeekdayLocator(byweekday=mdates.TH)\n",
        "ax.xaxis.set_major_locator(weeks)\n",
        "\n",
        "# 日付書式\n",
        "ax.tick_params(axis='x', rotation=90)\n",
        "\n",
        "# 方眼表示など\n",
        "ax.grid()\n",
        "ax.legend()\n",
        "ax.set_title('登録ユーザ利用数予測')\n",
        "\n",
        "# 画面出力\n",
        "plt.show()"
      ],
      "execution_count": 36,
      "outputs": [
        {
          "output_type": "display_data",
          "data": {
            "image/png": "[encoded data removed]",
            "text/plain": [
              "<Figure size 576x288 with 1 Axes>"
            ]
          },
          "metadata": {
            "tags": [],
            "needs_background": "light"
          }
        }
      ]
    },
    {
      "cell_type": "markdown",
      "metadata": {
        "id": "MGCSd7yS7Yh3"
      },
      "source": [
        "### 重要度分析"
      ]
    },
    {
      "cell_type": "code",
      "metadata": {
        "colab": {
          "base_uri": "https://localhost:8080/",
          "height": 293
        },
        "id": "d7X6WvKg7J1M",
        "outputId": "7955f276-3d08-46ee-8c13-fed38bd4714c"
      },
      "source": [
        "# 登録ユーザ利用数に対する重要度分析\n",
        "import xgboost as xgb\n",
        "fig, ax = plt.subplots(figsize=(8, 4))\n",
        "xgb.plot_importance(algorithm, ax=ax, height=0.8,\n",
        "    importance_type='gain', show_values=False,\n",
        "    title='重要度分析(登録ユーザ利用数)')\n",
        "plt.show()"
      ],
      "execution_count": 37,
      "outputs": [
        {
          "output_type": "display_data",
          "data": {
            "image/png": "[encoded data removed]",
            "text/plain": [
              "<Figure size 576x288 with 1 Axes>"
            ]
          },
          "metadata": {
            "tags": [],
            "needs_background": "light"
          }
        }
      ]
    },
    {
      "cell_type": "markdown",
      "metadata": {
        "id": "agNhRp2h7sYZ"
      },
      "source": [
        "#### 考察\n",
        "\n",
        "　登録ユーザ利用数　：「年」の影響が圧倒的に大きい\n",
        "\n",
        "　グラフからも平均的に２年目の利用者が多いことからも事実と辻褄が合う\n",
        "\n",
        "　次に影響があるのは、「気温」　　　　：　　冬場には利用者が少ないことなども読み取れるので辻褄があう\n",
        "\n"
      ]
    },
    {
      "cell_type": "code",
      "metadata": {
        "id": "1t4VF39M7dqq"
      },
      "source": [
        ""
      ],
      "execution_count": null,
      "outputs": []
    }
  ]
}