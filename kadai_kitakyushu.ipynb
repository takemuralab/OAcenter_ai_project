{
  "nbformat": 4,
  "nbformat_minor": 0,
  "metadata": {
    "colab": {
      "name": "kadai_kitakyushu.ipynb",
      "provenance": [],
      "authorship_tag": "ABX9TyN9LI2V5kMfC5Fhg1Lx848e",
      "include_colab_link": true
    },
    "kernelspec": {
      "name": "python3",
      "display_name": "Python 3"
    }
  },
  "cells": [
    {
      "cell_type": "markdown",
      "metadata": {
        "id": "view-in-github",
        "colab_type": "text"
      },
      "source": [
        "<a href=\"https://colab.research.google.com/github/takemuralab/OAcenter_ai_project/blob/main/kadai_kitakyushu.ipynb\" target=\"_parent\"><img src=\"https://colab.research.google.com/assets/colab-badge.svg\" alt=\"Open In Colab\"/></a>"
      ]
    },
    {
      "cell_type": "code",
      "metadata": {
        "colab": {
          "base_uri": "https://localhost:8080/"
        },
        "id": "rjYuHcTpGNpc",
        "outputId": "63041162-7905-4291-da8b-d75b906eca2f"
      },
      "source": [
        "# 日本語化ライブラリ導入\n",
        "!pip install japanize-matplotlib | tail -n 1"
      ],
      "execution_count": 36,
      "outputs": [
        {
          "output_type": "stream",
          "text": [
            "Requirement already satisfied: six in /usr/local/lib/python3.6/dist-packages (from cycler>=0.10->matplotlib->japanize-matplotlib) (1.15.0)\n"
          ],
          "name": "stdout"
        }
      ]
    },
    {
      "cell_type": "code",
      "metadata": {
        "id": "bVpO7Yj_GQPd"
      },
      "source": [
        "# 共通事前処理\n",
        "\n",
        "# 余分なワーニングを非表示にする\n",
        "import warnings\n",
        "warnings.filterwarnings('ignore')\n",
        "\n",
        "# 必要ライブラリのimport\n",
        "import pandas as pd\n",
        "import numpy as np\n",
        "import matplotlib.pyplot as plt\n",
        "\n",
        "# matplotlib日本語化対応\n",
        "import japanize_matplotlib\n",
        "\n",
        "# データフレーム表示用関数\n",
        "from IPython.display import display\n",
        "\n",
        "# 表示オプション調整\n",
        "# numpyの浮動小数点の表示精度\n",
        "np.set_printoptions(suppress=True, precision=4)\n",
        "\n",
        "# pandasでの浮動小数点の表示精度\n",
        "pd.options.display.float_format = '{:.4f}'.format\n",
        "\n",
        "# データフレームですべての項目を表示\n",
        "pd.set_option(\"display.max_columns\",None)\n",
        "\n",
        "# グラフのデフォルトフォント指定\n",
        "plt.rcParams[\"font.size\"] = 14\n",
        "\n",
        "# 乱数の種\n",
        "random_seed = 123"
      ],
      "execution_count": 37,
      "outputs": []
    },
    {
      "cell_type": "code",
      "metadata": {
        "colab": {
          "base_uri": "https://localhost:8080/",
          "height": 629
        },
        "id": "ykyIsePIGDhT",
        "outputId": "704794f0-7257-4dbb-cf68-a7d0be6d483c"
      },
      "source": [
        "url = 'https://ckan.open-governmentdata.org/dataset/876ed829-9dcd-46a7-98d4-c3722886e945/\\\n",
        "resource/6e30e40f-c415-4733-be10-c549c66065b9/download/401005_kitakyushu_covid19_patients_symptom.csv'\n",
        "\n",
        "df = pd.read_csv(url, encoding='cp932', parse_dates=[0])\n",
        "\n",
        "display(df.head())\n",
        "\n",
        "display(df.tail())"
      ],
      "execution_count": 38,
      "outputs": [
        {
          "output_type": "display_data",
          "data": {
            "text/html": [
              "<div>\n",
              "<style scoped>\n",
              "    .dataframe tbody tr th:only-of-type {\n",
              "        vertical-align: middle;\n",
              "    }\n",
              "\n",
              "    .dataframe tbody tr th {\n",
              "        vertical-align: top;\n",
              "    }\n",
              "\n",
              "    .dataframe thead th {\n",
              "        text-align: right;\n",
              "    }\n",
              "</style>\n",
              "<table border=\"1\" class=\"dataframe\">\n",
              "  <thead>\n",
              "    <tr style=\"text-align: right;\">\n",
              "      <th></th>\n",
              "      <th>状況_年月日</th>\n",
              "      <th>全国地方公共団体コード</th>\n",
              "      <th>都道府県名</th>\n",
              "      <th>市区町村名</th>\n",
              "      <th>入院等</th>\n",
              "      <th>調整中</th>\n",
              "      <th>入院等・調整中内訳_無症状</th>\n",
              "      <th>入院等・調整中内訳_軽症・中等症</th>\n",
              "      <th>入院等・調整中内訳_重症</th>\n",
              "      <th>入院等・調整中内訳_確認中</th>\n",
              "      <th>退院</th>\n",
              "      <th>死亡</th>\n",
              "      <th>陽性者数_累計</th>\n",
              "    </tr>\n",
              "  </thead>\n",
              "  <tbody>\n",
              "    <tr>\n",
              "      <th>0</th>\n",
              "      <td>2020-06-28</td>\n",
              "      <td>401005</td>\n",
              "      <td>福岡県</td>\n",
              "      <td>北九州市</td>\n",
              "      <td>9</td>\n",
              "      <td>0</td>\n",
              "      <td>0</td>\n",
              "      <td>6</td>\n",
              "      <td>2</td>\n",
              "      <td>1</td>\n",
              "      <td>229</td>\n",
              "      <td>6</td>\n",
              "      <td>244</td>\n",
              "    </tr>\n",
              "    <tr>\n",
              "      <th>1</th>\n",
              "      <td>2020-06-29</td>\n",
              "      <td>401005</td>\n",
              "      <td>福岡県</td>\n",
              "      <td>北九州市</td>\n",
              "      <td>10</td>\n",
              "      <td>0</td>\n",
              "      <td>1</td>\n",
              "      <td>6</td>\n",
              "      <td>2</td>\n",
              "      <td>1</td>\n",
              "      <td>229</td>\n",
              "      <td>6</td>\n",
              "      <td>245</td>\n",
              "    </tr>\n",
              "    <tr>\n",
              "      <th>2</th>\n",
              "      <td>2020-06-30</td>\n",
              "      <td>401005</td>\n",
              "      <td>福岡県</td>\n",
              "      <td>北九州市</td>\n",
              "      <td>10</td>\n",
              "      <td>0</td>\n",
              "      <td>1</td>\n",
              "      <td>6</td>\n",
              "      <td>2</td>\n",
              "      <td>1</td>\n",
              "      <td>229</td>\n",
              "      <td>6</td>\n",
              "      <td>245</td>\n",
              "    </tr>\n",
              "    <tr>\n",
              "      <th>3</th>\n",
              "      <td>2020-07-01</td>\n",
              "      <td>401005</td>\n",
              "      <td>福岡県</td>\n",
              "      <td>北九州市</td>\n",
              "      <td>11</td>\n",
              "      <td>0</td>\n",
              "      <td>1</td>\n",
              "      <td>7</td>\n",
              "      <td>2</td>\n",
              "      <td>1</td>\n",
              "      <td>231</td>\n",
              "      <td>6</td>\n",
              "      <td>248</td>\n",
              "    </tr>\n",
              "    <tr>\n",
              "      <th>4</th>\n",
              "      <td>2020-07-02</td>\n",
              "      <td>401005</td>\n",
              "      <td>福岡県</td>\n",
              "      <td>北九州市</td>\n",
              "      <td>10</td>\n",
              "      <td>0</td>\n",
              "      <td>1</td>\n",
              "      <td>6</td>\n",
              "      <td>2</td>\n",
              "      <td>1</td>\n",
              "      <td>232</td>\n",
              "      <td>6</td>\n",
              "      <td>248</td>\n",
              "    </tr>\n",
              "  </tbody>\n",
              "</table>\n",
              "</div>"
            ],
            "text/plain": [
              "      状況_年月日  全国地方公共団体コード 都道府県名 市区町村名  入院等  調整中  入院等・調整中内訳_無症状  \\\n",
              "0 2020-06-28       401005   福岡県  北九州市    9    0              0   \n",
              "1 2020-06-29       401005   福岡県  北九州市   10    0              1   \n",
              "2 2020-06-30       401005   福岡県  北九州市   10    0              1   \n",
              "3 2020-07-01       401005   福岡県  北九州市   11    0              1   \n",
              "4 2020-07-02       401005   福岡県  北九州市   10    0              1   \n",
              "\n",
              "   入院等・調整中内訳_軽症・中等症  入院等・調整中内訳_重症  入院等・調整中内訳_確認中   退院  死亡  陽性者数_累計  \n",
              "0                 6             2              1  229   6      244  \n",
              "1                 6             2              1  229   6      245  \n",
              "2                 6             2              1  229   6      245  \n",
              "3                 7             2              1  231   6      248  \n",
              "4                 6             2              1  232   6      248  "
            ]
          },
          "metadata": {
            "tags": []
          }
        },
        {
          "output_type": "display_data",
          "data": {
            "text/html": [
              "<div>\n",
              "<style scoped>\n",
              "    .dataframe tbody tr th:only-of-type {\n",
              "        vertical-align: middle;\n",
              "    }\n",
              "\n",
              "    .dataframe tbody tr th {\n",
              "        vertical-align: top;\n",
              "    }\n",
              "\n",
              "    .dataframe thead th {\n",
              "        text-align: right;\n",
              "    }\n",
              "</style>\n",
              "<table border=\"1\" class=\"dataframe\">\n",
              "  <thead>\n",
              "    <tr style=\"text-align: right;\">\n",
              "      <th></th>\n",
              "      <th>状況_年月日</th>\n",
              "      <th>全国地方公共団体コード</th>\n",
              "      <th>都道府県名</th>\n",
              "      <th>市区町村名</th>\n",
              "      <th>入院等</th>\n",
              "      <th>調整中</th>\n",
              "      <th>入院等・調整中内訳_無症状</th>\n",
              "      <th>入院等・調整中内訳_軽症・中等症</th>\n",
              "      <th>入院等・調整中内訳_重症</th>\n",
              "      <th>入院等・調整中内訳_確認中</th>\n",
              "      <th>退院</th>\n",
              "      <th>死亡</th>\n",
              "      <th>陽性者数_累計</th>\n",
              "    </tr>\n",
              "  </thead>\n",
              "  <tbody>\n",
              "    <tr>\n",
              "      <th>187</th>\n",
              "      <td>2021-01-01</td>\n",
              "      <td>401005</td>\n",
              "      <td>福岡県</td>\n",
              "      <td>北九州市</td>\n",
              "      <td>210</td>\n",
              "      <td>23</td>\n",
              "      <td>42</td>\n",
              "      <td>184</td>\n",
              "      <td>7</td>\n",
              "      <td>0</td>\n",
              "      <td>1079</td>\n",
              "      <td>23</td>\n",
              "      <td>1335</td>\n",
              "    </tr>\n",
              "    <tr>\n",
              "      <th>188</th>\n",
              "      <td>2021-01-02</td>\n",
              "      <td>401005</td>\n",
              "      <td>福岡県</td>\n",
              "      <td>北九州市</td>\n",
              "      <td>200</td>\n",
              "      <td>44</td>\n",
              "      <td>43</td>\n",
              "      <td>194</td>\n",
              "      <td>7</td>\n",
              "      <td>0</td>\n",
              "      <td>1085</td>\n",
              "      <td>23</td>\n",
              "      <td>1352</td>\n",
              "    </tr>\n",
              "    <tr>\n",
              "      <th>189</th>\n",
              "      <td>2021-01-03</td>\n",
              "      <td>401005</td>\n",
              "      <td>福岡県</td>\n",
              "      <td>北九州市</td>\n",
              "      <td>208</td>\n",
              "      <td>29</td>\n",
              "      <td>38</td>\n",
              "      <td>192</td>\n",
              "      <td>7</td>\n",
              "      <td>0</td>\n",
              "      <td>1112</td>\n",
              "      <td>24</td>\n",
              "      <td>1373</td>\n",
              "    </tr>\n",
              "    <tr>\n",
              "      <th>190</th>\n",
              "      <td>2021-01-04</td>\n",
              "      <td>401005</td>\n",
              "      <td>福岡県</td>\n",
              "      <td>北九州市</td>\n",
              "      <td>194</td>\n",
              "      <td>29</td>\n",
              "      <td>34</td>\n",
              "      <td>183</td>\n",
              "      <td>6</td>\n",
              "      <td>0</td>\n",
              "      <td>1145</td>\n",
              "      <td>24</td>\n",
              "      <td>1392</td>\n",
              "    </tr>\n",
              "    <tr>\n",
              "      <th>191</th>\n",
              "      <td>2021-01-05</td>\n",
              "      <td>401005</td>\n",
              "      <td>福岡県</td>\n",
              "      <td>北九州市</td>\n",
              "      <td>191</td>\n",
              "      <td>52</td>\n",
              "      <td>36</td>\n",
              "      <td>194</td>\n",
              "      <td>7</td>\n",
              "      <td>6</td>\n",
              "      <td>1168</td>\n",
              "      <td>24</td>\n",
              "      <td>1435</td>\n",
              "    </tr>\n",
              "  </tbody>\n",
              "</table>\n",
              "</div>"
            ],
            "text/plain": [
              "        状況_年月日  全国地方公共団体コード 都道府県名 市区町村名  入院等  調整中  入院等・調整中内訳_無症状  \\\n",
              "187 2021-01-01       401005   福岡県  北九州市  210   23             42   \n",
              "188 2021-01-02       401005   福岡県  北九州市  200   44             43   \n",
              "189 2021-01-03       401005   福岡県  北九州市  208   29             38   \n",
              "190 2021-01-04       401005   福岡県  北九州市  194   29             34   \n",
              "191 2021-01-05       401005   福岡県  北九州市  191   52             36   \n",
              "\n",
              "     入院等・調整中内訳_軽症・中等症  入院等・調整中内訳_重症  入院等・調整中内訳_確認中    退院  死亡  陽性者数_累計  \n",
              "187               184             7              0  1079  23     1335  \n",
              "188               194             7              0  1085  23     1352  \n",
              "189               192             7              0  1112  24     1373  \n",
              "190               183             6              0  1145  24     1392  \n",
              "191               194             7              6  1168  24     1435  "
            ]
          },
          "metadata": {
            "tags": []
          }
        }
      ]
    },
    {
      "cell_type": "code",
      "metadata": {
        "id": "sOHo7tRqGIkf"
      },
      "source": [
        "columns = ['日付', '地域コード', '県名', '市名', '入院数', '調整中', '無症状', '軽症_中等症', '重症', '入院調整数', '退院', '志望', '陽性者累計' ]\n",
        "\n",
        "df.columns = columns"
      ],
      "execution_count": 39,
      "outputs": []
    },
    {
      "cell_type": "code",
      "metadata": {
        "colab": {
          "base_uri": "https://localhost:8080/",
          "height": 391
        },
        "id": "gqTntquUJkvh",
        "outputId": "32e12bfa-b189-4785-e0b9-a60961983b0a"
      },
      "source": [
        "#データの前処理\n",
        "df2 = df.copy()\n",
        "\n",
        "# 「日付」「陽性者累計」列の抽出\n",
        "df2 = df2[['日付', '陽性者累計']]\n",
        "\n",
        "# 列名の置き換え\n",
        "df2.columns = ['ds', 'y']\n",
        "\n",
        "# 結果確認\n",
        "display(df2.head())\n",
        "display(df2.tail())\n"
      ],
      "execution_count": 40,
      "outputs": [
        {
          "output_type": "display_data",
          "data": {
            "text/html": [
              "<div>\n",
              "<style scoped>\n",
              "    .dataframe tbody tr th:only-of-type {\n",
              "        vertical-align: middle;\n",
              "    }\n",
              "\n",
              "    .dataframe tbody tr th {\n",
              "        vertical-align: top;\n",
              "    }\n",
              "\n",
              "    .dataframe thead th {\n",
              "        text-align: right;\n",
              "    }\n",
              "</style>\n",
              "<table border=\"1\" class=\"dataframe\">\n",
              "  <thead>\n",
              "    <tr style=\"text-align: right;\">\n",
              "      <th></th>\n",
              "      <th>ds</th>\n",
              "      <th>y</th>\n",
              "    </tr>\n",
              "  </thead>\n",
              "  <tbody>\n",
              "    <tr>\n",
              "      <th>0</th>\n",
              "      <td>2020-06-28</td>\n",
              "      <td>244</td>\n",
              "    </tr>\n",
              "    <tr>\n",
              "      <th>1</th>\n",
              "      <td>2020-06-29</td>\n",
              "      <td>245</td>\n",
              "    </tr>\n",
              "    <tr>\n",
              "      <th>2</th>\n",
              "      <td>2020-06-30</td>\n",
              "      <td>245</td>\n",
              "    </tr>\n",
              "    <tr>\n",
              "      <th>3</th>\n",
              "      <td>2020-07-01</td>\n",
              "      <td>248</td>\n",
              "    </tr>\n",
              "    <tr>\n",
              "      <th>4</th>\n",
              "      <td>2020-07-02</td>\n",
              "      <td>248</td>\n",
              "    </tr>\n",
              "  </tbody>\n",
              "</table>\n",
              "</div>"
            ],
            "text/plain": [
              "          ds    y\n",
              "0 2020-06-28  244\n",
              "1 2020-06-29  245\n",
              "2 2020-06-30  245\n",
              "3 2020-07-01  248\n",
              "4 2020-07-02  248"
            ]
          },
          "metadata": {
            "tags": []
          }
        },
        {
          "output_type": "display_data",
          "data": {
            "text/html": [
              "<div>\n",
              "<style scoped>\n",
              "    .dataframe tbody tr th:only-of-type {\n",
              "        vertical-align: middle;\n",
              "    }\n",
              "\n",
              "    .dataframe tbody tr th {\n",
              "        vertical-align: top;\n",
              "    }\n",
              "\n",
              "    .dataframe thead th {\n",
              "        text-align: right;\n",
              "    }\n",
              "</style>\n",
              "<table border=\"1\" class=\"dataframe\">\n",
              "  <thead>\n",
              "    <tr style=\"text-align: right;\">\n",
              "      <th></th>\n",
              "      <th>ds</th>\n",
              "      <th>y</th>\n",
              "    </tr>\n",
              "  </thead>\n",
              "  <tbody>\n",
              "    <tr>\n",
              "      <th>187</th>\n",
              "      <td>2021-01-01</td>\n",
              "      <td>1335</td>\n",
              "    </tr>\n",
              "    <tr>\n",
              "      <th>188</th>\n",
              "      <td>2021-01-02</td>\n",
              "      <td>1352</td>\n",
              "    </tr>\n",
              "    <tr>\n",
              "      <th>189</th>\n",
              "      <td>2021-01-03</td>\n",
              "      <td>1373</td>\n",
              "    </tr>\n",
              "    <tr>\n",
              "      <th>190</th>\n",
              "      <td>2021-01-04</td>\n",
              "      <td>1392</td>\n",
              "    </tr>\n",
              "    <tr>\n",
              "      <th>191</th>\n",
              "      <td>2021-01-05</td>\n",
              "      <td>1435</td>\n",
              "    </tr>\n",
              "  </tbody>\n",
              "</table>\n",
              "</div>"
            ],
            "text/plain": [
              "            ds     y\n",
              "187 2021-01-01  1335\n",
              "188 2021-01-02  1352\n",
              "189 2021-01-03  1373\n",
              "190 2021-01-04  1392\n",
              "191 2021-01-05  1435"
            ]
          },
          "metadata": {
            "tags": []
          }
        }
      ]
    },
    {
      "cell_type": "code",
      "metadata": {
        "id": "6tgFEHRrKJ3u"
      },
      "source": [
        "# 分割日 mdayの設定\n",
        "mday = pd.to_datetime('2020-12-15')\n",
        "\n",
        "# 訓練用indexと検証用indexを作る\n",
        "train_index = df2['ds'] < mday\n",
        "test_index = df2['ds'] >= mday\n",
        "\n",
        "# 入力データの分割\n",
        "x_train = df2[train_index]\n",
        "x_test = df2[test_index]\n",
        "\n",
        "# 日付データの分割　（グラフ表示用）\n",
        "dates_test = df2['ds'][test_index]\n"
      ],
      "execution_count": 41,
      "outputs": []
    },
    {
      "cell_type": "code",
      "metadata": {
        "id": "QTbLxgvOKrb5"
      },
      "source": [
        "# ライブラリのインポート\n",
        "from fbprophet import Prophet\n",
        "\n",
        "m1 = Prophet(yearly_seasonality=False, weekly_seasonality=False, \n",
        "             daily_seasonality=False, seasonality_mode='multiplicative')"
      ],
      "execution_count": 42,
      "outputs": []
    },
    {
      "cell_type": "code",
      "metadata": {
        "colab": {
          "base_uri": "https://localhost:8080/"
        },
        "id": "vV_4i3CeK9ro",
        "outputId": "d430e72f-d8f4-4311-eccb-3ef96aac779f"
      },
      "source": [
        "# 学習\n",
        "m1.fit(x_train)"
      ],
      "execution_count": 43,
      "outputs": [
        {
          "output_type": "execute_result",
          "data": {
            "text/plain": [
              "<fbprophet.forecaster.Prophet at 0x7f472242d080>"
            ]
          },
          "metadata": {
            "tags": []
          },
          "execution_count": 43
        }
      ]
    },
    {
      "cell_type": "code",
      "metadata": {
        "colab": {
          "base_uri": "https://localhost:8080/",
          "height": 391
        },
        "id": "h1zAcsp6LAxf",
        "outputId": "49e38152-11fe-49aa-f53f-1cd844516b5e"
      },
      "source": [
        "future1 = m1.make_future_dataframe(periods=90, freq='D')\n",
        "\n",
        "# 結果確認\n",
        "display(future1.head())\n",
        "display(future1.tail())"
      ],
      "execution_count": 44,
      "outputs": [
        {
          "output_type": "display_data",
          "data": {
            "text/html": [
              "<div>\n",
              "<style scoped>\n",
              "    .dataframe tbody tr th:only-of-type {\n",
              "        vertical-align: middle;\n",
              "    }\n",
              "\n",
              "    .dataframe tbody tr th {\n",
              "        vertical-align: top;\n",
              "    }\n",
              "\n",
              "    .dataframe thead th {\n",
              "        text-align: right;\n",
              "    }\n",
              "</style>\n",
              "<table border=\"1\" class=\"dataframe\">\n",
              "  <thead>\n",
              "    <tr style=\"text-align: right;\">\n",
              "      <th></th>\n",
              "      <th>ds</th>\n",
              "    </tr>\n",
              "  </thead>\n",
              "  <tbody>\n",
              "    <tr>\n",
              "      <th>0</th>\n",
              "      <td>2020-06-28</td>\n",
              "    </tr>\n",
              "    <tr>\n",
              "      <th>1</th>\n",
              "      <td>2020-06-29</td>\n",
              "    </tr>\n",
              "    <tr>\n",
              "      <th>2</th>\n",
              "      <td>2020-06-30</td>\n",
              "    </tr>\n",
              "    <tr>\n",
              "      <th>3</th>\n",
              "      <td>2020-07-01</td>\n",
              "    </tr>\n",
              "    <tr>\n",
              "      <th>4</th>\n",
              "      <td>2020-07-02</td>\n",
              "    </tr>\n",
              "  </tbody>\n",
              "</table>\n",
              "</div>"
            ],
            "text/plain": [
              "          ds\n",
              "0 2020-06-28\n",
              "1 2020-06-29\n",
              "2 2020-06-30\n",
              "3 2020-07-01\n",
              "4 2020-07-02"
            ]
          },
          "metadata": {
            "tags": []
          }
        },
        {
          "output_type": "display_data",
          "data": {
            "text/html": [
              "<div>\n",
              "<style scoped>\n",
              "    .dataframe tbody tr th:only-of-type {\n",
              "        vertical-align: middle;\n",
              "    }\n",
              "\n",
              "    .dataframe tbody tr th {\n",
              "        vertical-align: top;\n",
              "    }\n",
              "\n",
              "    .dataframe thead th {\n",
              "        text-align: right;\n",
              "    }\n",
              "</style>\n",
              "<table border=\"1\" class=\"dataframe\">\n",
              "  <thead>\n",
              "    <tr style=\"text-align: right;\">\n",
              "      <th></th>\n",
              "      <th>ds</th>\n",
              "    </tr>\n",
              "  </thead>\n",
              "  <tbody>\n",
              "    <tr>\n",
              "      <th>255</th>\n",
              "      <td>2021-03-10</td>\n",
              "    </tr>\n",
              "    <tr>\n",
              "      <th>256</th>\n",
              "      <td>2021-03-11</td>\n",
              "    </tr>\n",
              "    <tr>\n",
              "      <th>257</th>\n",
              "      <td>2021-03-12</td>\n",
              "    </tr>\n",
              "    <tr>\n",
              "      <th>258</th>\n",
              "      <td>2021-03-13</td>\n",
              "    </tr>\n",
              "    <tr>\n",
              "      <th>259</th>\n",
              "      <td>2021-03-14</td>\n",
              "    </tr>\n",
              "  </tbody>\n",
              "</table>\n",
              "</div>"
            ],
            "text/plain": [
              "            ds\n",
              "255 2021-03-10\n",
              "256 2021-03-11\n",
              "257 2021-03-12\n",
              "258 2021-03-13\n",
              "259 2021-03-14"
            ]
          },
          "metadata": {
            "tags": []
          }
        }
      ]
    },
    {
      "cell_type": "code",
      "metadata": {
        "id": "j6V-jylXLLk0"
      },
      "source": [
        "# 予測\n",
        "# 結果はデータフレームで戻ってくる\n",
        "fcst1 = m1.predict(future1)"
      ],
      "execution_count": 45,
      "outputs": []
    },
    {
      "cell_type": "code",
      "metadata": {
        "colab": {
          "base_uri": "https://localhost:8080/",
          "height": 217
        },
        "id": "Gws-wESzLmwk",
        "outputId": "91c72fdf-dc0f-452a-bef7-94b9efdf5e9e"
      },
      "source": [
        "#評価\n",
        "fig = m1.plot_components(fcst1)\n",
        "plt.show()"
      ],
      "execution_count": 46,
      "outputs": [
        {
          "output_type": "display_data",
          "data": {
            "image/png": "[encoded data removed]",
            "text/plain": [
              "<Figure size 648x216 with 1 Axes>"
            ]
          },
          "metadata": {
            "tags": []
          }
        }
      ]
    },
    {
      "cell_type": "code",
      "metadata": {
        "colab": {
          "base_uri": "https://localhost:8080/",
          "height": 469
        },
        "id": "Hk2CPIA_Ls6R",
        "outputId": "a17a22c5-80ee-49ad-d14b-4a557451bf3b"
      },
      "source": [
        "# 訓練データ・検証データ全体のグラフ化\n",
        "fig, ax = plt.subplots(figsize=(10,6))\n",
        "\n",
        "# 予測結果のグラフ表示(prophetの関数)\n",
        "m1.plot(fcst1, ax=ax)\n",
        "\n",
        "# タイトル設定など\n",
        "ax.set_title('北九州市 陽性者数累計予想')\n",
        "ax.set_xlabel('日付')\n",
        "ax.set_ylabel('陽性者数')\n",
        "\n",
        "# グラフ表示\n",
        "plt.show()"
      ],
      "execution_count": 51,
      "outputs": [
        {
          "output_type": "stream",
          "text": [
            "WARNING:matplotlib.legend:No handles with labels found to put in legend.\n"
          ],
          "name": "stderr"
        },
        {
          "output_type": "display_data",
          "data": {
            "image/png": "[encoded data removed]",
            "text/plain": [
              "<Figure size 720x432 with 1 Axes>"
            ]
          },
          "metadata": {
            "tags": [],
            "needs_background": "light"
          }
        }
      ]
    },
    {
      "cell_type": "code",
      "metadata": {
        "colab": {
          "base_uri": "https://localhost:8080/"
        },
        "id": "BDdA5Ux3L6_k",
        "outputId": "fdac2bf7-4adb-4182-b677-dfd23a6633b5"
      },
      "source": [
        "# ypred1: fcst1から予測部分のみ抽出する\n",
        "ypred1 = fcst1[-22:][['yhat']].values\n",
        "\n",
        "# ytest1: 予測期間中の正解データ\n",
        "ytest1 = x_test['y'].values\n",
        "\n",
        "\n",
        "# R2値の計算\n",
        "from sklearn.metrics import r2_score\n",
        "score = r2_score(ytest1, ypred1)\n",
        "\n",
        "# 結果確認\n",
        "print(f'R2 score:{score:.4f}')"
      ],
      "execution_count": 52,
      "outputs": [
        {
          "output_type": "stream",
          "text": [
            "R2 score:0.3795\n"
          ],
          "name": "stdout"
        }
      ]
    },
    {
      "cell_type": "code",
      "metadata": {
        "id": "uGI7RNZxMRMP"
      },
      "source": [
        ""
      ],
      "execution_count": 48,
      "outputs": []
    },
    {
      "cell_type": "code",
      "metadata": {
        "id": "BW4LIRYwMbDR"
      },
      "source": [
        ""
      ],
      "execution_count": 48,
      "outputs": []
    }
  ]
}